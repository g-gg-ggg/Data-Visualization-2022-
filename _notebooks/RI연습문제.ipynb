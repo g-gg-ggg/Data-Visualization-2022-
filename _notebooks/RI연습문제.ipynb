{
 "cells": [
  {
   "cell_type": "code",
   "execution_count": 2,
   "id": "a54b2e11-7ed6-43df-a9cd-b67f9257922a",
   "metadata": {},
   "outputs": [],
   "source": [
    "import pandas as pd \n",
    "import numpy as np\n",
    "import matplotlib.pyplot as plt"
   ]
  },
  {
   "cell_type": "code",
   "execution_count": 3,
   "id": "878973b9-3d70-4339-81ac-28f86b863d2b",
   "metadata": {},
   "outputs": [],
   "source": [
    "ID = \"870612-1535200\""
   ]
  },
  {
   "cell_type": "code",
   "execution_count": 5,
   "id": "e5ef68c5-e364-4047-a2d0-10a0855da72d",
   "metadata": {},
   "outputs": [
    {
     "data": {
      "text/plain": [
       "'1'"
      ]
     },
     "execution_count": 5,
     "metadata": {},
     "output_type": "execute_result"
    }
   ],
   "source": [
    "ID[7]"
   ]
  },
  {
   "cell_type": "code",
   "execution_count": 17,
   "id": "ec72e513-f1b3-4769-9876-7c3ecfab5f88",
   "metadata": {},
   "outputs": [],
   "source": [
    "a = ['No', 'pain', 'No', 'gain'] "
   ]
  },
  {
   "cell_type": "code",
   "execution_count": 20,
   "id": "4df65f1f-0d5d-4293-9dde-af62cd39c0eb",
   "metadata": {},
   "outputs": [
    {
     "data": {
      "text/plain": [
       "'No pain No gain'"
      ]
     },
     "execution_count": 20,
     "metadata": {},
     "output_type": "execute_result"
    }
   ],
   "source": [
    "result = \" \".join(a)\n",
    "result\n",
    "# a[0]+\" \" +a[1]+\" \" +a[2]+\" \" +a[3]"
   ]
  },
  {
   "cell_type": "code",
   "execution_count": 12,
   "id": "20c5a960-4f8a-42c4-ba40-e65230119132",
   "metadata": {},
   "outputs": [],
   "source": [
    "b = 'a:b:c:d'"
   ]
  },
  {
   "cell_type": "code",
   "execution_count": 13,
   "id": "0d1d2db9-375f-4bc0-81a5-78c92202a1a0",
   "metadata": {},
   "outputs": [
    {
     "data": {
      "text/plain": [
       "'a-b-c-d'"
      ]
     },
     "execution_count": 13,
     "metadata": {},
     "output_type": "execute_result"
    }
   ],
   "source": [
    "b.replace( \":\", \"-\")"
   ]
  },
  {
   "cell_type": "markdown",
   "id": "4183a91d-208f-46c9-9d69-09893ff4d451",
   "metadata": {},
   "source": [
    "# format()"
   ]
  },
  {
   "cell_type": "code",
   "execution_count": 27,
   "id": "331bf0e0-7083-45be-b0fd-75268421f13c",
   "metadata": {},
   "outputs": [
    {
     "data": {
      "text/plain": [
       "'구구단 3 X 2 = 6'"
      ]
     },
     "execution_count": 27,
     "metadata": {},
     "output_type": "execute_result"
    }
   ],
   "source": [
    "# 출력결과물 : ‘구구단 3 X 2 = 6’\n",
    "a=3\n",
    "b=2\n",
    "\"구구단 {} X {} = {}\".format(a, b, a*b)"
   ]
  },
  {
   "cell_type": "code",
   "execution_count": 16,
   "id": "d633cdb1-046f-4730-89ac-9a772e30eeb8",
   "metadata": {},
   "outputs": [
    {
     "data": {
      "text/plain": [
       "6"
      ]
     },
     "execution_count": 16,
     "metadata": {},
     "output_type": "execute_result"
    }
   ],
   "source": [
    "a*b"
   ]
  },
  {
   "cell_type": "code",
   "execution_count": 29,
   "id": "4f592ae1-55c0-49c6-8e73-761c183e8fd7",
   "metadata": {},
   "outputs": [
    {
     "data": {
      "text/plain": [
       "100"
      ]
     },
     "execution_count": 29,
     "metadata": {},
     "output_type": "execute_result"
    }
   ],
   "source": [
    "10**2"
   ]
  },
  {
   "cell_type": "code",
   "execution_count": 31,
   "id": "4b77ed6f-8a6d-434c-b280-712139aa45ba",
   "metadata": {},
   "outputs": [
    {
     "data": {
      "text/plain": [
       "11"
      ]
     },
     "execution_count": 31,
     "metadata": {},
     "output_type": "execute_result"
    }
   ],
   "source": [
    "apple = 5 \n",
    "banana = 6\n",
    "total = apple + banana\n",
    "total"
   ]
  },
  {
   "cell_type": "code",
   "execution_count": 36,
   "id": "9ad86fbc-704d-4f36-b915-ae315bb680db",
   "metadata": {},
   "outputs": [
    {
     "data": {
      "text/plain": [
       "71.66666666666667"
      ]
     },
     "execution_count": 36,
     "metadata": {},
     "output_type": "execute_result"
    }
   ],
   "source": [
    "kor = 95 \n",
    "math = 50\n",
    "eng = 70 \n",
    "score = (kor + math + eng)/3\n",
    "score"
   ]
  },
  {
   "cell_type": "code",
   "execution_count": 37,
   "id": "db66fe1a-81d0-47a4-a19a-996fa1c31fd2",
   "metadata": {},
   "outputs": [
    {
     "name": "stdin",
     "output_type": "stream",
     "text": [
      "점수를 입력하세요 45\n"
     ]
    },
    {
     "data": {
      "text/plain": [
       "'10과 45 중 큰 수는 45이다'"
      ]
     },
     "execution_count": 37,
     "metadata": {},
     "output_type": "execute_result"
    }
   ],
   "source": [
    "num1 = 10\n",
    "num2 = input(\"점수를 입력하세요\")\n",
    "\n",
    "'10과 {} 중 큰 수는 {}이다'.format(num2, if num2>num1 else num2)"
   ]
  },
  {
   "cell_type": "code",
   "execution_count": null,
   "id": "18fc4f59-ea15-410b-bd76-003e2d927588",
   "metadata": {},
   "outputs": [],
   "source": []
  }
 ],
 "metadata": {
  "kernelspec": {
   "display_name": "Python 3 (ipykernel)",
   "language": "python",
   "name": "python3"
  },
  "language_info": {
   "codemirror_mode": {
    "name": "ipython",
    "version": 3
   },
   "file_extension": ".py",
   "mimetype": "text/x-python",
   "name": "python",
   "nbconvert_exporter": "python",
   "pygments_lexer": "ipython3",
   "version": "3.9.12"
  }
 },
 "nbformat": 4,
 "nbformat_minor": 5
}
