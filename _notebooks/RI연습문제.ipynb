{
 "cells": [
  {
   "cell_type": "code",
   "execution_count": 2,
   "id": "a54b2e11-7ed6-43df-a9cd-b67f9257922a",
   "metadata": {},
   "outputs": [],
   "source": [
    "import pandas as pd \n",
    "import numpy as np\n",
    "import matplotlib.pyplot as plt"
   ]
  },
  {
   "cell_type": "code",
   "execution_count": 3,
   "id": "878973b9-3d70-4339-81ac-28f86b863d2b",
   "metadata": {},
   "outputs": [],
   "source": [
    "ID = \"870612-1535200\""
   ]
  },
  {
   "cell_type": "code",
   "execution_count": 5,
   "id": "e5ef68c5-e364-4047-a2d0-10a0855da72d",
   "metadata": {},
   "outputs": [
    {
     "data": {
      "text/plain": [
       "'1'"
      ]
     },
     "execution_count": 5,
     "metadata": {},
     "output_type": "execute_result"
    }
   ],
   "source": [
    "ID[7]"
   ]
  },
  {
   "cell_type": "code",
   "execution_count": 17,
   "id": "ec72e513-f1b3-4769-9876-7c3ecfab5f88",
   "metadata": {},
   "outputs": [],
   "source": [
    "a = ['No', 'pain', 'No', 'gain'] "
   ]
  },
  {
   "cell_type": "code",
   "execution_count": 20,
   "id": "4df65f1f-0d5d-4293-9dde-af62cd39c0eb",
   "metadata": {},
   "outputs": [
    {
     "data": {
      "text/plain": [
       "'No pain No gain'"
      ]
     },
     "execution_count": 20,
     "metadata": {},
     "output_type": "execute_result"
    }
   ],
   "source": [
    "result = \" \".join(a)\n",
    "result\n",
    "# a[0]+\" \" +a[1]+\" \" +a[2]+\" \" +a[3]"
   ]
  },
  {
   "cell_type": "code",
   "execution_count": 12,
   "id": "20c5a960-4f8a-42c4-ba40-e65230119132",
   "metadata": {},
   "outputs": [],
   "source": [
    "b = 'a:b:c:d'"
   ]
  },
  {
   "cell_type": "code",
   "execution_count": 13,
   "id": "0d1d2db9-375f-4bc0-81a5-78c92202a1a0",
   "metadata": {},
   "outputs": [
    {
     "data": {
      "text/plain": [
       "'a-b-c-d'"
      ]
     },
     "execution_count": 13,
     "metadata": {},
     "output_type": "execute_result"
    }
   ],
   "source": [
    "b.replace( \":\", \"-\")"
   ]
  },
  {
   "cell_type": "markdown",
   "id": "4183a91d-208f-46c9-9d69-09893ff4d451",
   "metadata": {},
   "source": [
    "# format()"
   ]
  },
  {
   "cell_type": "code",
   "execution_count": 27,
   "id": "331bf0e0-7083-45be-b0fd-75268421f13c",
   "metadata": {},
   "outputs": [
    {
     "data": {
      "text/plain": [
       "'구구단 3 X 2 = 6'"
      ]
     },
     "execution_count": 27,
     "metadata": {},
     "output_type": "execute_result"
    }
   ],
   "source": [
    "# 출력결과물 : ‘구구단 3 X 2 = 6’\n",
    "a=3\n",
    "b=2\n",
    "\"구구단 {} X {} = {}\".format(a, b, a*b)"
   ]
  },
  {
   "cell_type": "code",
   "execution_count": 16,
   "id": "d633cdb1-046f-4730-89ac-9a772e30eeb8",
   "metadata": {},
   "outputs": [
    {
     "data": {
      "text/plain": [
       "6"
      ]
     },
     "execution_count": 16,
     "metadata": {},
     "output_type": "execute_result"
    }
   ],
   "source": [
    "a*b"
   ]
  },
  {
   "cell_type": "code",
   "execution_count": 29,
   "id": "4f592ae1-55c0-49c6-8e73-761c183e8fd7",
   "metadata": {},
   "outputs": [
    {
     "data": {
      "text/plain": [
       "100"
      ]
     },
     "execution_count": 29,
     "metadata": {},
     "output_type": "execute_result"
    }
   ],
   "source": [
    "10**2"
   ]
  },
  {
   "cell_type": "code",
   "execution_count": 31,
   "id": "4b77ed6f-8a6d-434c-b280-712139aa45ba",
   "metadata": {},
   "outputs": [
    {
     "data": {
      "text/plain": [
       "11"
      ]
     },
     "execution_count": 31,
     "metadata": {},
     "output_type": "execute_result"
    }
   ],
   "source": [
    "apple = 5 \n",
    "banana = 6\n",
    "total = apple + banana\n",
    "total"
   ]
  },
  {
   "cell_type": "code",
   "execution_count": 36,
   "id": "9ad86fbc-704d-4f36-b915-ae315bb680db",
   "metadata": {},
   "outputs": [
    {
     "data": {
      "text/plain": [
       "71.66666666666667"
      ]
     },
     "execution_count": 36,
     "metadata": {},
     "output_type": "execute_result"
    }
   ],
   "source": [
    "kor = 95 \n",
    "math = 50\n",
    "eng = 70 \n",
    "score = (kor + math + eng)/3\n",
    "score"
   ]
  },
  {
   "cell_type": "markdown",
   "id": "a44f110a-6ad6-499e-9b1c-e46f600a3417",
   "metadata": {},
   "source": [
    "## 입력한 숫자를 10과 비교하여 큰 수를 출력하는 프로그램을 작성하라."
   ]
  },
  {
   "cell_type": "code",
   "execution_count": 42,
   "id": "db66fe1a-81d0-47a4-a19a-996fa1c31fd2",
   "metadata": {},
   "outputs": [
    {
     "name": "stdin",
     "output_type": "stream",
     "text": [
      "점수를 입력하세요 40\n"
     ]
    },
    {
     "data": {
      "text/plain": [
       "'10과 40 중 큰 수는 40이다'"
      ]
     },
     "execution_count": 42,
     "metadata": {},
     "output_type": "execute_result"
    }
   ],
   "source": [
    "num1 = 10\n",
    "num2 = int(input(\"점수를 입력하세요\"))\n",
    "\n",
    "'{}과 {} 중 큰 수는 {}이다'.format(num1, num2, num2 if num2>num1 else num1)"
   ]
  },
  {
   "cell_type": "markdown",
   "id": "8b89e094-a029-4287-8859-e08e9567e09d",
   "metadata": {},
   "source": [
    "# 튜플"
   ]
  },
  {
   "cell_type": "code",
   "execution_count": 45,
   "id": "4c377367-a7fb-4266-8f90-d3858663884e",
   "metadata": {
    "tags": []
   },
   "outputs": [
    {
     "data": {
      "text/plain": [
       "(1, 2, 3, 4, 5)"
      ]
     },
     "execution_count": 45,
     "metadata": {},
     "output_type": "execute_result"
    }
   ],
   "source": [
    "(1,2,3) + (4,5)"
   ]
  },
  {
   "cell_type": "code",
   "execution_count": 50,
   "id": "24a466e9-f4c5-40f1-b6ec-1bfbb5376bc1",
   "metadata": {},
   "outputs": [
    {
     "data": {
      "text/plain": [
       "(1, 2, 3, 4)"
      ]
     },
     "execution_count": 50,
     "metadata": {},
     "output_type": "execute_result"
    }
   ],
   "source": [
    "(1,2,3) + (4,) #튜플 구조에서 숫자를 하나 입력하려면 컴마를 입력해야 한다."
   ]
  },
  {
   "cell_type": "code",
   "execution_count": 53,
   "id": "356be0eb-2b3b-4675-805e-1ee0ae463666",
   "metadata": {},
   "outputs": [],
   "source": [
    "a = {\"a\":1, \"b\":2, \"c\":3}"
   ]
  },
  {
   "cell_type": "code",
   "execution_count": 56,
   "id": "550cd5f1-e8a1-4425-99da-a76e84f48777",
   "metadata": {},
   "outputs": [
    {
     "data": {
      "text/plain": [
       "2"
      ]
     },
     "execution_count": 56,
     "metadata": {},
     "output_type": "execute_result"
    }
   ],
   "source": [
    "a[\"b\"]"
   ]
  },
  {
   "cell_type": "markdown",
   "id": "82f2e071-b908-4076-a912-53a04d5dc86e",
   "metadata": {},
   "source": [
    "# 리스트 중복 제거 set -> list"
   ]
  },
  {
   "cell_type": "code",
   "execution_count": 79,
   "id": "1a89cbd0-9864-4f69-8342-e50010e75c7a",
   "metadata": {},
   "outputs": [],
   "source": [
    "a = [1, 2, 2, 3, 3, 4,4,4,4]"
   ]
  },
  {
   "cell_type": "code",
   "execution_count": 80,
   "id": "687f7b7f-71b6-490f-b4ae-b55c1d8d0a18",
   "metadata": {},
   "outputs": [
    {
     "data": {
      "text/plain": [
       "[1, 2, 3, 4]"
      ]
     },
     "execution_count": 80,
     "metadata": {},
     "output_type": "execute_result"
    }
   ],
   "source": [
    "list(set(a))"
   ]
  },
  {
   "cell_type": "code",
   "execution_count": 81,
   "id": "b54069a5-9acc-4b18-8818-9cec4d04d969",
   "metadata": {},
   "outputs": [],
   "source": [
    "a = [1, 2, 3, [\"a\", \"b\", \"c\"],4, 5]"
   ]
  },
  {
   "cell_type": "code",
   "execution_count": 85,
   "id": "2453226d-417a-4bec-8b72-ffd38aa5445e",
   "metadata": {},
   "outputs": [
    {
     "data": {
      "text/plain": [
       "['a', 'b']"
      ]
     },
     "execution_count": 85,
     "metadata": {},
     "output_type": "execute_result"
    }
   ],
   "source": [
    "a[3][0:2]"
   ]
  },
  {
   "cell_type": "markdown",
   "id": "bbb5b1fe-a76e-4fba-b3fa-7c37dcc40668",
   "metadata": {},
   "source": [
    "## 조건문"
   ]
  },
  {
   "cell_type": "markdown",
   "id": "ce107ab1-8baa-49f5-b7b3-e5cc743bf216",
   "metadata": {},
   "source": [
    "문제1) 짝수, 홀수를 판별하는 조건문 완성하기\n",
    "- 입력숫자가양수이면‘짝수입니다.’를출력 - 입력숫자가음수이면‘홀수입니다.’를출력 - input(), int() 함수를 활용\n",
    "\n",
    "\n",
    "문제2) 음수, 양수를 판별하는 조건문 완성하기\n",
    "- 입력숫자가0이면’00은0입니다.’를출력\n",
    "- 입력숫자가양수이면’00은양수입니다.’를출력 \n",
    "- 입력숫자가음수이면’00은음수입니다.’를출력 \n",
    "- input(), int(), format 함수 활용"
   ]
  },
  {
   "cell_type": "code",
   "execution_count": 96,
   "id": "4f56daf1-0e58-4a53-8fbb-20d6d23ca46f",
   "metadata": {},
   "outputs": [
    {
     "name": "stdin",
     "output_type": "stream",
     "text": [
      " 5\n"
     ]
    },
    {
     "name": "stdout",
     "output_type": "stream",
     "text": [
      "홀수 입니다.\n"
     ]
    }
   ],
   "source": [
    "a = int(input())\n",
    "\n",
    "if a%2 == 0 :\n",
    "    print(\"짝수 입니다\")\n",
    "else :\n",
    "    print(\"홀수 입니다.\")\n"
   ]
  },
  {
   "cell_type": "code",
   "execution_count": 110,
   "id": "722a8f2a-4f61-4142-9b94-b40a082985d8",
   "metadata": {},
   "outputs": [
    {
     "name": "stdin",
     "output_type": "stream",
     "text": [
      " -1\n"
     ]
    },
    {
     "name": "stdout",
     "output_type": "stream",
     "text": [
      "-1은 음수입니다\n"
     ]
    }
   ],
   "source": [
    "a = int(input())\n",
    "\n",
    "if  a == 0:\n",
    "    print(\"{}은 0입니다\".format(a))\n",
    "elif a < 0:\n",
    "    print(\"{}은 음수입니다\".format(a))\n",
    "else :\n",
    "    print(\"{}은 양수입니다\")\n"
   ]
  },
  {
   "cell_type": "markdown",
   "id": "bc8004f5-f5f9-4327-a942-0fc83044feb4",
   "metadata": {},
   "source": [
    "\n",
    "- for문을 이용해 1부터 100까지 숫자 출력하기\n",
    "- 단,5의배수만출력 - range() 함수를 활용"
   ]
  },
  {
   "cell_type": "code",
   "execution_count": 120,
   "id": "7973020f-b4b2-409a-8fcf-b682f2aa9af5",
   "metadata": {},
   "outputs": [
    {
     "name": "stdout",
     "output_type": "stream",
     "text": [
      "5\n",
      "10\n",
      "15\n",
      "20\n",
      "25\n",
      "30\n",
      "35\n",
      "40\n",
      "45\n",
      "50\n",
      "55\n",
      "60\n",
      "65\n",
      "70\n",
      "75\n",
      "80\n",
      "85\n",
      "90\n",
      "95\n",
      "100\n"
     ]
    }
   ],
   "source": [
    "for i in range(5, 101, 5):\n",
    "    print(i)"
   ]
  },
  {
   "cell_type": "code",
   "execution_count": 121,
   "id": "6bd69ebe-59e8-4157-8609-af44f7eddcca",
   "metadata": {},
   "outputs": [],
   "source": [
    "A = [70, 60, 55, 75, 95, 90, 80, 85, 100]"
   ]
  },
  {
   "cell_type": "code",
   "execution_count": 129,
   "id": "304c756f-b0c6-4918-a4f2-6c9541d46b32",
   "metadata": {},
   "outputs": [
    {
     "data": {
      "text/plain": [
       "78.88888888888889"
      ]
     },
     "execution_count": 129,
     "metadata": {},
     "output_type": "execute_result"
    }
   ],
   "source": [
    "total = 0\n",
    "for i in A:\n",
    "    total += i\n",
    "mean = total/len(A)\n",
    "mean"
   ]
  },
  {
   "cell_type": "code",
   "execution_count": null,
   "id": "2225705a-8de5-4ea9-8b31-cadd954399cf",
   "metadata": {},
   "outputs": [],
   "source": []
  },
  {
   "cell_type": "code",
   "execution_count": null,
   "id": "807995ba-178f-41bd-85dd-ed4256cf1924",
   "metadata": {},
   "outputs": [],
   "source": []
  }
 ],
 "metadata": {
  "kernelspec": {
   "display_name": "Python 3 (ipykernel)",
   "language": "python",
   "name": "python3"
  },
  "language_info": {
   "codemirror_mode": {
    "name": "ipython",
    "version": 3
   },
   "file_extension": ".py",
   "mimetype": "text/x-python",
   "name": "python",
   "nbconvert_exporter": "python",
   "pygments_lexer": "ipython3",
   "version": "3.9.12"
  }
 },
 "nbformat": 4,
 "nbformat_minor": 5
}
