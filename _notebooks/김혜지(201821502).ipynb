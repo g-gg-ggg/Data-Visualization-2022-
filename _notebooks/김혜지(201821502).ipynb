{
  "nbformat": 4,
  "nbformat_minor": 0,
  "metadata": {
    "colab": {
      "private_outputs": true,
      "provenance": [],
      "collapsed_sections": []
    },
    "kernelspec": {
      "name": "python3",
      "display_name": "Python 3"
    },
    "language_info": {
      "name": "python"
    }
  },
  "cells": [
    {
      "cell_type": "code",
      "source": [
        "import matplotlib.pyplot as plt\n",
        "import numpy as np"
      ],
      "metadata": {
        "id": "vnmUxqbDo_uf"
      },
      "execution_count": null,
      "outputs": []
    },
    {
      "cell_type": "markdown",
      "source": [
        "#문제1"
      ],
      "metadata": {
        "id": "2QU3Me9ioaLF"
      }
    },
    {
      "cell_type": "code",
      "source": [
        "fig, axs = plt.subplots(2, 3)"
      ],
      "metadata": {
        "id": "ZPxgStcNob0U"
      },
      "execution_count": null,
      "outputs": []
    },
    {
      "cell_type": "code",
      "source": [],
      "metadata": {
        "id": "8qcfMXpGsb0D"
      },
      "execution_count": null,
      "outputs": []
    },
    {
      "cell_type": "code",
      "source": [
        "x,y = [1,2,3,4], [1,2,4,3] \n",
        "\n",
        "axs[0,0].plot(x, y,'or')\n",
        "axs[1,0].plot(x, y,'--or')\n",
        "axs[0,1].plot(x, y,'og')\n",
        "axs[1,1].plot(x, y,'--og')\n",
        "axs[0,2].plot(x, y,'ob')\n",
        "axs[1,2].plot(x, y,'--ob')\n",
        "\n",
        "fig"
      ],
      "metadata": {
        "id": "O5j44ubdsUJK"
      },
      "execution_count": null,
      "outputs": []
    },
    {
      "cell_type": "markdown",
      "source": [
        "#문제2"
      ],
      "metadata": {
        "id": "_LP5w-ulD7sG"
      }
    },
    {
      "cell_type": "code",
      "execution_count": null,
      "metadata": {
        "id": "5N9zevooDX5x"
      },
      "outputs": [],
      "source": [
        "fig = plt.figure()\n",
        "ax1 = fig.add_axes([0.5,0.5,1,1]) # (0,0)의 위치에 (1,1)인 액시즈(=네모틀)을 만들어라. \n",
        "ax2 = fig.add_axes([1.0,1.0,1,1])\n",
        "ax3 = fig.add_axes([1.5,1.5,1,1])\n",
        "\n",
        "ax1,ax2,ax3 = fig.axes\n",
        "\n",
        "fig.axes\n"
      ]
    },
    {
      "cell_type": "code",
      "source": [
        "x,y = [1,2,3,4], [1,2,1,1]\n",
        "ax1.plot(x, y, \"or\")\n",
        "ax2.plot(x, y, \"og\")\n",
        "ax3.plot(x, y, \"ob\")\n",
        "\n",
        "fig"
      ],
      "metadata": {
        "id": "4QWSOZEem6FU"
      },
      "execution_count": null,
      "outputs": []
    },
    {
      "cell_type": "markdown",
      "source": [
        "#문제3"
      ],
      "metadata": {
        "id": "jzTA6BaRoenG"
      }
    },
    {
      "cell_type": "code",
      "source": [
        "x = np.arange(-5,5,0.1)\n",
        "y1 = np.sin(x)\n",
        "y2 = np.sin(2*x) + 2\n",
        "y3 = np.sin(4*x) + 4 \n",
        "y4 = np.sin(8*x) + 6\n"
      ],
      "metadata": {
        "id": "BbJ1OgILogAR"
      },
      "execution_count": null,
      "outputs": []
    },
    {
      "cell_type": "code",
      "source": [
        "plt.plot(x, y1, \"--r\")\n",
        "plt.plot(x, y2, \"--g\")\n",
        "plt.plot(x, y3, \"--b\")\n",
        "plt.plot(x, y4, \"--m\")\n"
      ],
      "metadata": {
        "id": "Rxow8LsfwptL"
      },
      "execution_count": null,
      "outputs": []
    }
  ]
}