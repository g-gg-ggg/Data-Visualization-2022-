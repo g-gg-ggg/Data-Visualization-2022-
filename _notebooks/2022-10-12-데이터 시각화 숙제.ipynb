{
 "cells": [
  {
   "cell_type": "markdown",
   "id": "019f779d-5f8d-49c4-aee4-3d7bff1e1d72",
   "metadata": {},
   "source": [
    "# 10월 12일 숙제\n",
    "> lambda, map\n",
    "\n",
    "- toc: true\n",
    "- branch: master\n",
    "- badges: true\n",
    "- comments: true\n",
    "- author: 김혜지\n",
    "- categories: [python]"
   ]
  },
  {
   "cell_type": "markdown",
   "id": "1ac34d45-ae40-41c1-9cd5-a7359ef86bdc",
   "metadata": {},
   "source": [
    "\n",
    "아래와 같이 0~9까지 포함된 리스트를 만들어라"
   ]
  },
  {
   "cell_type": "code",
   "execution_count": 32,
   "id": "58de1dcc-355a-44fb-a0d7-d8df0fae690f",
   "metadata": {},
   "outputs": [
    {
     "data": {
      "text/plain": [
       "[0, 1, 2, 3, 4, 5, 6, 7, 8, 9]"
      ]
     },
     "execution_count": 32,
     "metadata": {},
     "output_type": "execute_result"
    }
   ],
   "source": [
    "x=list(range(10))\n",
    "x"
   ]
  },
  {
   "cell_type": "markdown",
   "id": "24ba58ba-2cea-497f-9639-8b072109edeb",
   "metadata": {},
   "source": [
    "아래와 동일한 기능을 수행하는 함수를 lambda expression으로 정의하라."
   ]
  },
  {
   "cell_type": "code",
   "execution_count": 33,
   "id": "8a5014e0-673a-48fa-ae55-600484cbd2cf",
   "metadata": {},
   "outputs": [],
   "source": [
    "def f(xi):\n",
    "    return '짝' if (xi % 2)==0 else '홀'"
   ]
  },
  {
   "cell_type": "code",
   "execution_count": 34,
   "id": "809c76bb-7b64-43bc-8942-0326bcee220a",
   "metadata": {},
   "outputs": [],
   "source": [
    "f = lambda x : \"짝\" if (x%2) == 0 else \"홀\""
   ]
  },
  {
   "cell_type": "markdown",
   "id": "bb05cbf6-a088-4aaf-86f2-38acb57d351b",
   "metadata": {},
   "source": [
    "map과 lambda expression 을 이용하여 아래와 같은 결과를 만들어라. (리스트컴프리헨션, for문 사용금지)"
   ]
  },
  {
   "cell_type": "code",
   "execution_count": 36,
   "id": "473dcc76-1c7b-4f13-9f5a-89643c7fc122",
   "metadata": {},
   "outputs": [
    {
     "data": {
      "text/plain": [
       "['짝', '홀', '짝', '홀', '짝', '홀', '짝', '홀', '짝', '홀']"
      ]
     },
     "execution_count": 36,
     "metadata": {},
     "output_type": "execute_result"
    }
   ],
   "source": [
    "y = list(map(f,x))\n",
    "y"
   ]
  },
  {
   "cell_type": "code",
   "execution_count": null,
   "id": "067b39cc-bcca-4cce-851e-378b9eafaf85",
   "metadata": {},
   "outputs": [],
   "source": []
  },
  {
   "cell_type": "code",
   "execution_count": null,
   "id": "9e71ab07-e4b1-49fc-a8cb-1a783ed93576",
   "metadata": {},
   "outputs": [],
   "source": []
  },
  {
   "cell_type": "code",
   "execution_count": null,
   "id": "ba3c1b5e-3487-4b52-9854-82470eefb16b",
   "metadata": {},
   "outputs": [],
   "source": []
  }
 ],
 "metadata": {
  "kernelspec": {
   "display_name": "Python 3 (ipykernel)",
   "language": "python",
   "name": "python3"
  },
  "language_info": {
   "codemirror_mode": {
    "name": "ipython",
    "version": 3
   },
   "file_extension": ".py",
   "mimetype": "text/x-python",
   "name": "python",
   "nbconvert_exporter": "python",
   "pygments_lexer": "ipython3",
   "version": "3.9.12"
  }
 },
 "nbformat": 4,
 "nbformat_minor": 5
}
