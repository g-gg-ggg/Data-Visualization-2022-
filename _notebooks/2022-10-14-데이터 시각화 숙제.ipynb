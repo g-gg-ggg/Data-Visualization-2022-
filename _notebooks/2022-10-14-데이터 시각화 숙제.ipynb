{
 "cells": [
  {
   "cell_type": "markdown",
   "id": "348724b3-6c2c-415e-a943-f859eb6101fc",
   "metadata": {},
   "source": [
    "# 10월 14일 숙제"
   ]
  },
  {
   "cell_type": "markdown",
   "id": "605dcf46-9805-493f-bcce-b0791c1dad36",
   "metadata": {},
   "source": [
    " 다음과 같은 데이터프레임을 불러온 뒤 물음에 답하라"
   ]
  },
  {
   "cell_type": "code",
   "execution_count": null,
   "id": "e733841b-4e59-4980-97f8-b742c3aea1b8",
   "metadata": {},
   "outputs": [],
   "source": []
  }
 ],
 "metadata": {
  "kernelspec": {
   "display_name": "Python 3 (ipykernel)",
   "language": "python",
   "name": "python3"
  },
  "language_info": {
   "codemirror_mode": {
    "name": "ipython",
    "version": 3
   },
   "file_extension": ".py",
   "mimetype": "text/x-python",
   "name": "python",
   "nbconvert_exporter": "python",
   "pygments_lexer": "ipython3",
   "version": "3.9.12"
  }
 },
 "nbformat": 4,
 "nbformat_minor": 5
}
