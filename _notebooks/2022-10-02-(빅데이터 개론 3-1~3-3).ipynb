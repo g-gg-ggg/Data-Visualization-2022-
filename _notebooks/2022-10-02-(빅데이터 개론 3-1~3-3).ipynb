{
 "cells": [
  {
   "cell_type": "markdown",
   "id": "455f2a55-3daf-4d7c-bc6d-cd3e03ca548a",
   "metadata": {},
   "source": [
    "# 빅데이터 개론 복습 2\n",
    "> 파일 3-1 ~ 3-3\n",
    "\n",
    "> 파이썬 숫자, 문자열, 행렬\n",
    "\n",
    "- toc: true\n",
    "- branch: master\n",
    "- badges: true\n",
    "- comments: true\n",
    "- author: 김혜지\n",
    "- categories: [python]"
   ]
  },
  {
   "cell_type": "markdown",
   "id": "c8fc511f-a35f-47a7-82d0-69252b0b097d",
   "metadata": {},
   "source": [
    "## 3-1 숫자"
   ]
  },
  {
   "cell_type": "code",
   "execution_count": 1,
   "id": "51fc8ed1-797c-4705-bab5-68a15441ea65",
   "metadata": {},
   "outputs": [],
   "source": [
    "import math\n",
    "import sys"
   ]
  },
  {
   "cell_type": "code",
   "execution_count": 2,
   "id": "7175c759-cf31-4cf4-838c-e9351191fe49",
   "metadata": {},
   "outputs": [
    {
     "data": {
      "text/plain": [
       "int"
      ]
     },
     "execution_count": 2,
     "metadata": {},
     "output_type": "execute_result"
    }
   ],
   "source": [
    "type(8)"
   ]
  },
  {
   "cell_type": "code",
   "execution_count": 3,
   "id": "f510192a-d205-4927-b7e9-9f6227a95ce5",
   "metadata": {},
   "outputs": [
    {
     "data": {
      "text/plain": [
       "float"
      ]
     },
     "execution_count": 3,
     "metadata": {},
     "output_type": "execute_result"
    }
   ],
   "source": [
    "type(8.0)"
   ]
  },
  {
   "cell_type": "code",
   "execution_count": 4,
   "id": "1626792c-5792-4fd7-a9ea-668172342142",
   "metadata": {},
   "outputs": [],
   "source": [
    "x = 1 \n",
    "y = 3 "
   ]
  },
  {
   "cell_type": "markdown",
   "id": "984c19fd-8456-45b2-809f-999e5cadfb13",
   "metadata": {},
   "source": [
    "x/y"
   ]
  },
  {
   "cell_type": "code",
   "execution_count": 6,
   "id": "6cf1c679-5a15-467c-b99b-d02717a05c64",
   "metadata": {},
   "outputs": [
    {
     "data": {
      "text/plain": [
       "float"
      ]
     },
     "execution_count": 6,
     "metadata": {},
     "output_type": "execute_result"
    }
   ],
   "source": [
    "type(x/y)"
   ]
  },
  {
   "cell_type": "markdown",
   "id": "99d38d2c-ad5b-4b09-9e2f-35bf74406a19",
   "metadata": {},
   "source": [
    " 소수점 17 자리 이상의 아주 작은 실수는 정확하게 숫자의 값을 저장하지 못한다."
   ]
  },
  {
   "cell_type": "code",
   "execution_count": 7,
   "id": "463e78fd-9244-4a95-a1bb-2d7238bf674b",
   "metadata": {},
   "outputs": [
    {
     "data": {
      "text/plain": [
       "0.3333333333333334"
      ]
     },
     "execution_count": 7,
     "metadata": {},
     "output_type": "execute_result"
    }
   ],
   "source": [
    "1/3 + 0.0000000000000001  # 소수점 16자리 부동소수점"
   ]
  },
  {
   "cell_type": "code",
   "execution_count": 9,
   "id": "c8ba6764-fdb0-452c-97f1-011725ce925f",
   "metadata": {},
   "outputs": [
    {
     "data": {
      "text/plain": [
       "False"
      ]
     },
     "execution_count": 9,
     "metadata": {},
     "output_type": "execute_result"
    }
   ],
   "source": [
    "1/3 == (1/3 + 0.0000000000000001) # 소수점 17자리 부동소수점"
   ]
  },
  {
   "cell_type": "code",
   "execution_count": 12,
   "id": "a7f3ded4-4f80-4e9c-a036-3df19ccc395b",
   "metadata": {},
   "outputs": [
    {
     "data": {
      "text/plain": [
       "True"
      ]
     },
     "execution_count": 12,
     "metadata": {},
     "output_type": "execute_result"
    }
   ],
   "source": [
    "1/3 == (1/3 + 0.00000000000000001) #소수점 17개 이상은 컴퓨터에서 받아주지 못하는 모습"
   ]
  },
  {
   "cell_type": "code",
   "execution_count": 13,
   "id": "503b4db7-e88f-4db2-b742-d746fa5666a3",
   "metadata": {},
   "outputs": [
    {
     "data": {
      "text/plain": [
       "0.010000000000000009"
      ]
     },
     "execution_count": 13,
     "metadata": {},
     "output_type": "execute_result"
    }
   ],
   "source": [
    "0.55 - 0.54"
   ]
  },
  {
   "cell_type": "markdown",
   "id": "d8be1b4c-a174-4776-8cdd-5b09d1d2f274",
   "metadata": {},
   "source": [
    "두 수의 차이 값이 우리가 생각하는 결과와 다를 수 있다."
   ]
  },
  {
   "cell_type": "code",
   "execution_count": 14,
   "id": "a540dd6a-f16f-4230-b944-1616f0ac395c",
   "metadata": {},
   "outputs": [
    {
     "data": {
      "text/plain": [
       "False"
      ]
     },
     "execution_count": 14,
     "metadata": {},
     "output_type": "execute_result"
    }
   ],
   "source": [
    "0.55 - 0.54 == 0.01"
   ]
  },
  {
   "cell_type": "markdown",
   "id": "75fbcbf2-09fa-4f29-86a8-a126841a4d47",
   "metadata": {},
   "source": [
    "파이썬이 대수적으로 구별할 수 있는 가장 작은 수는 2.220446049250313e-16 이다. \n",
    "\n",
    "엡실론(Machine epsilon)이라고 부르며 파이썬의 계산 엡실론은 sys.float_info.epsilon 으로 알 수 있다."
   ]
  },
  {
   "cell_type": "code",
   "execution_count": 15,
   "id": "67c9835b-abf7-4806-a82e-54a70577eb87",
   "metadata": {},
   "outputs": [
    {
     "data": {
      "text/plain": [
       "2.220446049250313e-16"
      ]
     },
     "execution_count": 15,
     "metadata": {},
     "output_type": "execute_result"
    }
   ],
   "source": [
    "machine_epsilon = sys.float_info.epsilon\n",
    "machine_epsilon"
   ]
  },
  {
   "cell_type": "markdown",
   "id": "ac865e56-0a44-4066-923c-1659d9263001",
   "metadata": {},
   "source": [
    "파이썬에서 큰 수를 출력해주는 경우 과학적 표기법(scientific notation)을 사용한다. 아래 식에서 2.0e+306는  2.0×10306  을 의미한다. 큰 수  2.0×10308  은 파이썬의 부동소수점 형식으로 저장할 수 없기 때문에 결과를 inf 로 나타낸다."
   ]
  },
  {
   "cell_type": "code",
   "execution_count": 19,
   "id": "363debdc-68d3-4061-9fb7-5dd629404a34",
   "metadata": {},
   "outputs": [
    {
     "data": {
      "text/plain": [
       "2e+306"
      ]
     },
     "execution_count": 19,
     "metadata": {},
     "output_type": "execute_result"
    }
   ],
   "source": [
    "2.0e+306 #2.0×10의306제곱"
   ]
  },
  {
   "cell_type": "code",
   "execution_count": 21,
   "id": "b5d164ad-701a-4e4f-8671-2f3ee2763c93",
   "metadata": {},
   "outputs": [
    {
     "data": {
      "text/plain": [
       "inf"
      ]
     },
     "execution_count": 21,
     "metadata": {},
     "output_type": "execute_result"
    }
   ],
   "source": [
    "2.0e306 * 100"
   ]
  },
  {
   "cell_type": "markdown",
   "id": "f77fdb5b-172c-4b01-9ddb-3e979e5c8022",
   "metadata": {},
   "source": [
    "## 3-2 문자열 "
   ]
  },
  {
   "cell_type": "code",
   "execution_count": 22,
   "id": "f927c6af-5b59-47dd-9f9a-96c51bca6a06",
   "metadata": {},
   "outputs": [
    {
     "data": {
      "text/plain": [
       "'이'"
      ]
     },
     "execution_count": 22,
     "metadata": {},
     "output_type": "execute_result"
    }
   ],
   "source": [
    "name_3 = \"이철수\"\n",
    "name_3[0]"
   ]
  },
  {
   "cell_type": "code",
   "execution_count": 23,
   "id": "c867b175-8d7d-4d53-8275-77d0b7611904",
   "metadata": {},
   "outputs": [
    {
     "data": {
      "text/plain": [
       "'철수'"
      ]
     },
     "execution_count": 23,
     "metadata": {},
     "output_type": "execute_result"
    }
   ],
   "source": [
    "name_3[1:3]"
   ]
  },
  {
   "cell_type": "code",
   "execution_count": 24,
   "id": "7ecca662-0840-41ed-8770-1ffb5c813f8f",
   "metadata": {},
   "outputs": [
    {
     "data": {
      "text/plain": [
       "'There is a desk'"
      ]
     },
     "execution_count": 24,
     "metadata": {},
     "output_type": "execute_result"
    }
   ],
   "source": [
    "text_5 = 'There is a desk'\n",
    "text_5"
   ]
  },
  {
   "cell_type": "code",
   "execution_count": 29,
   "id": "0f46a064-c3e2-494b-9c99-a7d0b99eb4de",
   "metadata": {},
   "outputs": [
    {
     "data": {
      "text/plain": [
       "'There was a desk'"
      ]
     },
     "execution_count": 29,
     "metadata": {},
     "output_type": "execute_result"
    }
   ],
   "source": [
    "text_5.replace(\"is\", \"was\") #문자열 따옴표 잊지 말기"
   ]
  },
  {
   "cell_type": "code",
   "execution_count": 30,
   "id": "4e31aeb2-adc0-4bba-b659-e56a5def92ae",
   "metadata": {},
   "outputs": [
    {
     "data": {
      "text/plain": [
       "'THERE IS A DESK'"
      ]
     },
     "execution_count": 30,
     "metadata": {},
     "output_type": "execute_result"
    }
   ],
   "source": [
    "text_5.upper() # 문자열을 모두 대문자로 "
   ]
  },
  {
   "cell_type": "code",
   "execution_count": 31,
   "id": "601c9ed3-cf38-4dfa-aa24-4dcf0cf7094a",
   "metadata": {},
   "outputs": [
    {
     "data": {
      "text/plain": [
       "3"
      ]
     },
     "execution_count": 31,
     "metadata": {},
     "output_type": "execute_result"
    }
   ],
   "source": [
    "text_5.count('e') # 괄호안에 주어진 문자열이 몇 번 나타나는지 "
   ]
  },
  {
   "cell_type": "code",
   "execution_count": 32,
   "id": "ea106728-a25c-4403-abd6-201b74c26f8e",
   "metadata": {},
   "outputs": [
    {
     "data": {
      "text/plain": [
       "['There', 'is', 'a', 'desk']"
      ]
     },
     "execution_count": 32,
     "metadata": {},
     "output_type": "execute_result"
    }
   ],
   "source": [
    "text_5.split(sep=' ')  # sep= 으로 지정된 문자열을 사용하여 문자열을 나누어서 리스트로 저장"
   ]
  },
  {
   "cell_type": "markdown",
   "id": "32489d40-ca88-4e70-8ec9-5e1d9df50f99",
   "metadata": {
    "tags": []
   },
   "source": [
    "## 실습"
   ]
  },
  {
   "cell_type": "markdown",
   "id": "99f9c05f-71ef-4004-9361-ea940ef5c0cf",
   "metadata": {},
   "source": [
    "1. 본인의 단대, 학과, 학번, 이름(영문)을 각각 문자열로 정의하여라. 정의된 문자열을 하나로 결합하여라.\n",
    "\n",
    "2. 위에서 정의된 본인의 이름을 모두 대문자로 바꾸어라.\n",
    "\n",
    "3. 위에서 결합된 문자열에서 본인의 이름을 국문으로 바꾸어라.\n",
    "\n",
    "4. 본인의 생년월일을 다음과 같은 형식으로 표기하는 문자열을 정의하여라. 1990/02/16\n",
    "\n",
    "5. 생년월일에서 년에 해당하는 정보만을 추출하여라.\n",
    "\n",
    "6. 생년월일을 년, 월, 일 새 부분으로 나누어라."
   ]
  },
  {
   "cell_type": "code",
   "execution_count": 41,
   "id": "ec0d2bfe-ee8b-46b1-a6c8-bf6ef1a38462",
   "metadata": {},
   "outputs": [
    {
     "data": {
      "text/plain": [
       "'인문대 스페인중남미학과 201821502 Hyeji'"
      ]
     },
     "execution_count": 41,
     "metadata": {},
     "output_type": "execute_result"
    }
   ],
   "source": [
    "a = \"인문대\"\n",
    "b = \"스페인중남미학과\"\n",
    "c = \"201821502\"\n",
    "d = \"Hyeji\"\n",
    "aa = a +\" \"+ b +\" \"+ c +\" \"+ d\n",
    "aa"
   ]
  },
  {
   "cell_type": "code",
   "execution_count": 39,
   "id": "32085c2c-531b-4ed3-99e6-5bfcbc6c393f",
   "metadata": {},
   "outputs": [
    {
     "data": {
      "text/plain": [
       "'HYEJI'"
      ]
     },
     "execution_count": 39,
     "metadata": {},
     "output_type": "execute_result"
    }
   ],
   "source": [
    "d.upper()"
   ]
  },
  {
   "cell_type": "code",
   "execution_count": 44,
   "id": "d9c46292-ea47-4d20-ad41-0f9780c2ab5e",
   "metadata": {},
   "outputs": [
    {
     "data": {
      "text/plain": [
       "'인문대 스페인중남미학과 201821502 혜지'"
      ]
     },
     "execution_count": 44,
     "metadata": {},
     "output_type": "execute_result"
    }
   ],
   "source": [
    "aa.replace(d, \"혜지\")"
   ]
  },
  {
   "cell_type": "code",
   "execution_count": 47,
   "id": "34a9c328-9044-44ba-809b-f1dc66694d0e",
   "metadata": {},
   "outputs": [],
   "source": [
    "e = \"1000/02/01\""
   ]
  },
  {
   "cell_type": "code",
   "execution_count": 50,
   "id": "e4413d24-db24-4536-9f7a-93f7f43501a5",
   "metadata": {},
   "outputs": [
    {
     "data": {
      "text/plain": [
       "'02'"
      ]
     },
     "execution_count": 50,
     "metadata": {},
     "output_type": "execute_result"
    }
   ],
   "source": [
    "e[5:7]"
   ]
  },
  {
   "cell_type": "code",
   "execution_count": 53,
   "id": "0f272285-d359-46ed-aff6-f85d527edbba",
   "metadata": {},
   "outputs": [
    {
     "data": {
      "text/plain": [
       "'1000'"
      ]
     },
     "execution_count": 53,
     "metadata": {},
     "output_type": "execute_result"
    }
   ],
   "source": [
    "e[0:4]"
   ]
  },
  {
   "cell_type": "code",
   "execution_count": 55,
   "id": "06d80f2d-e91c-432d-b721-84bd75ce6741",
   "metadata": {},
   "outputs": [
    {
     "data": {
      "text/plain": [
       "['1000', '02', '01']"
      ]
     },
     "execution_count": 55,
     "metadata": {},
     "output_type": "execute_result"
    }
   ],
   "source": [
    "e.split(\"/\")"
   ]
  },
  {
   "cell_type": "code",
   "execution_count": 60,
   "id": "88fb83b2-184f-4e8c-b3b0-cc5fc4b4a62f",
   "metadata": {},
   "outputs": [
    {
     "data": {
      "text/plain": [
       "'02'"
      ]
     },
     "execution_count": 60,
     "metadata": {},
     "output_type": "execute_result"
    }
   ],
   "source": [
    "## 다른 방법 -> \"/\" 단위로 자른 다음, 변수에 저장 후 년, 월, 일 출력 가능 \n",
    "\n",
    "f1, f2, f3 = e.split(sep = \"/\")\n",
    "f2"
   ]
  },
  {
   "cell_type": "markdown",
   "id": "11ec5e8e-594f-41de-b855-3891f8b1ab56",
   "metadata": {},
   "source": [
    "## 행렬(array)"
   ]
  },
  {
   "cell_type": "markdown",
   "id": "cf58d8df-601e-4207-9dc2-711569496535",
   "metadata": {},
   "source": [
    "이 과목에서는 행렬 형식보다 데이터프레임 형식의 자료를 주로 이용한다. 이 장에서는 라이브러리 numpy 에서 제공하는 행렬의 간단한 사용법만 살펴볼것이다."
   ]
  },
  {
   "cell_type": "code",
   "execution_count": 62,
   "id": "7ff17511-d913-434b-997d-c1451f063a1c",
   "metadata": {},
   "outputs": [],
   "source": [
    "import numpy as np"
   ]
  },
  {
   "cell_type": "code",
   "execution_count": 63,
   "id": "838c2f3e-80ef-4415-b47c-c29182b3eb28",
   "metadata": {},
   "outputs": [
    {
     "data": {
      "text/plain": [
       "array([1, 2, 3, 4, 5, 6])"
      ]
     },
     "execution_count": 63,
     "metadata": {},
     "output_type": "execute_result"
    }
   ],
   "source": [
    "a = np.array([1,2,3,4,5,6])\n",
    "a"
   ]
  },
  {
   "cell_type": "markdown",
   "id": "4025fe5c-f5dc-4e5b-a1f8-c5d8f6d934bd",
   "metadata": {},
   "source": [
    "**행렬은 리스트와 달리 같은 형식의 자료만 모아 놓을 수 있다.**"
   ]
  },
  {
   "cell_type": "code",
   "execution_count": 65,
   "id": "8cded9ed-3492-4b8a-b8e7-7c1d5c93667c",
   "metadata": {},
   "outputs": [
    {
     "data": {
      "text/plain": [
       "array(['1', '2', 'a'], dtype='<U21')"
      ]
     },
     "execution_count": 65,
     "metadata": {},
     "output_type": "execute_result"
    }
   ],
   "source": [
    "np.array([1, 2, 'a']) #정의 안 됨 -> 같은 형식으로만 실행하기"
   ]
  },
  {
   "cell_type": "code",
   "execution_count": 66,
   "id": "21fffae0-ab77-4e68-8ce5-f62dbd7347c8",
   "metadata": {},
   "outputs": [
    {
     "data": {
      "text/plain": [
       "1"
      ]
     },
     "execution_count": 66,
     "metadata": {},
     "output_type": "execute_result"
    }
   ],
   "source": [
    "a[0]"
   ]
  },
  {
   "cell_type": "code",
   "execution_count": 70,
   "id": "443e174d-2e1e-4943-b53f-5ec0de35c312",
   "metadata": {},
   "outputs": [
    {
     "data": {
      "text/plain": [
       "array([1, 4, 6])"
      ]
     },
     "execution_count": 70,
     "metadata": {},
     "output_type": "execute_result"
    }
   ],
   "source": [
    "a[[0, 3, 5]] #행렬은 다음과 같이 순서의 위치를 []에 넣어서 부를 수 있음"
   ]
  },
  {
   "cell_type": "code",
   "execution_count": 71,
   "id": "094e9502-c05b-4154-8850-40fe3ec2ae5e",
   "metadata": {},
   "outputs": [
    {
     "data": {
      "text/plain": [
       "array([1, 2, 3])"
      ]
     },
     "execution_count": 71,
     "metadata": {},
     "output_type": "execute_result"
    }
   ],
   "source": [
    "a[0:3]"
   ]
  },
  {
   "cell_type": "code",
   "execution_count": null,
   "id": "29ef35d3-7b9b-4d71-9a29-7b44330075a3",
   "metadata": {},
   "outputs": [],
   "source": [
    "#arrange"
   ]
  },
  {
   "cell_type": "code",
   "execution_count": 73,
   "id": "77915432-28c6-497e-9dd8-7b8c83ac9ecc",
   "metadata": {},
   "outputs": [
    {
     "data": {
      "text/plain": [
       "array([0, 1, 2, 3, 4, 5])"
      ]
     },
     "execution_count": 73,
     "metadata": {},
     "output_type": "execute_result"
    }
   ],
   "source": [
    "np.arange(6)"
   ]
  },
  {
   "cell_type": "code",
   "execution_count": 81,
   "id": "2096ec93-19e3-42f6-8eb2-b15103950922",
   "metadata": {},
   "outputs": [
    {
     "data": {
      "text/plain": [
       "array([2, 4, 6, 8])"
      ]
     },
     "execution_count": 81,
     "metadata": {},
     "output_type": "execute_result"
    }
   ],
   "source": [
    "np.arange(2, 10, 2) #짝수 "
   ]
  },
  {
   "cell_type": "code",
   "execution_count": 82,
   "id": "a3059edb-e9a9-4d83-af63-379494f99ea5",
   "metadata": {},
   "outputs": [
    {
     "data": {
      "text/plain": [
       "array([0, 3, 6, 9])"
      ]
     },
     "execution_count": 82,
     "metadata": {},
     "output_type": "execute_result"
    }
   ],
   "source": [
    "np.arange(0, 10, 3) #0포함 3의 배수"
   ]
  },
  {
   "cell_type": "code",
   "execution_count": 83,
   "id": "00246fb4-e7cd-4f1d-a700-a9c577d9902c",
   "metadata": {},
   "outputs": [
    {
     "data": {
      "text/plain": [
       "array([10,  8,  6,  4,  2,  0, -2, -4, -6, -8])"
      ]
     },
     "execution_count": 83,
     "metadata": {},
     "output_type": "execute_result"
    }
   ],
   "source": [
    "np.arange(10, -10, -2)"
   ]
  },
  {
   "cell_type": "markdown",
   "id": "03c0ebe8-2f05-4ac6-b591-72aec079cc1e",
   "metadata": {},
   "source": [
    "2차원 행렬 - reshape()"
   ]
  },
  {
   "cell_type": "code",
   "execution_count": 84,
   "id": "9d1c21ef-b8db-483c-a2d0-5cfd7bed3c14",
   "metadata": {},
   "outputs": [
    {
     "data": {
      "text/plain": [
       "array([[1, 2, 3, 4],\n",
       "       [5, 6, 7, 8]])"
      ]
     },
     "execution_count": 84,
     "metadata": {},
     "output_type": "execute_result"
    }
   ],
   "source": [
    "b = np.arange(1, 9).reshape(2, 4)\n",
    "b"
   ]
  },
  {
   "cell_type": "code",
   "execution_count": 88,
   "id": "35f3065c-f43b-47ce-bc5c-9c37c85be6f2",
   "metadata": {},
   "outputs": [
    {
     "data": {
      "text/plain": [
       "array([[1, 2, 3, 4],\n",
       "       [5, 6, 7, 8]])"
      ]
     },
     "execution_count": 88,
     "metadata": {},
     "output_type": "execute_result"
    }
   ],
   "source": [
    "c = np.array([[1, 2, 3, 4], [5, 6, 7, 8]])\n",
    "c"
   ]
  },
  {
   "cell_type": "code",
   "execution_count": 92,
   "id": "630446ba-390c-47dd-93d4-344509a7c3c5",
   "metadata": {},
   "outputs": [
    {
     "data": {
      "text/plain": [
       "1"
      ]
     },
     "execution_count": 92,
     "metadata": {},
     "output_type": "execute_result"
    }
   ],
   "source": [
    "b[0,0] #2차원에서 일부를 지정해 보는 법"
   ]
  },
  {
   "cell_type": "code",
   "execution_count": 94,
   "id": "c7dd588c-0a8b-466b-9d5f-d3d340c3cd28",
   "metadata": {},
   "outputs": [
    {
     "data": {
      "text/plain": [
       "array([1, 2, 3, 4])"
      ]
     },
     "execution_count": 94,
     "metadata": {},
     "output_type": "execute_result"
    }
   ],
   "source": [
    "b[0, 0:4] #1행, 1-4열 "
   ]
  },
  {
   "cell_type": "code",
   "execution_count": 96,
   "id": "f8f552de-b00e-4a6a-a8ea-7e2a43cbd1fd",
   "metadata": {},
   "outputs": [
    {
     "data": {
      "text/plain": [
       "array([[2, 3],\n",
       "       [6, 7]])"
      ]
     },
     "execution_count": 96,
     "metadata": {},
     "output_type": "execute_result"
    }
   ],
   "source": [
    "b[0:2, 1:3]"
   ]
  },
  {
   "cell_type": "code",
   "execution_count": 95,
   "id": "ebb5d5a5-78fc-43e0-baf7-d94e9a79ebbc",
   "metadata": {},
   "outputs": [
    {
     "data": {
      "text/plain": [
       "array([2, 6])"
      ]
     },
     "execution_count": 95,
     "metadata": {},
     "output_type": "execute_result"
    }
   ],
   "source": [
    "c = b[0:2,1] #열이 하나밖에 없으므로 일차원 배열로 보여줌!!!!!!! \n",
    "c"
   ]
  },
  {
   "cell_type": "code",
   "execution_count": 97,
   "id": "c637c083-fec1-43f1-93ec-57391389424a",
   "metadata": {},
   "outputs": [
    {
     "data": {
      "text/plain": [
       "1"
      ]
     },
     "execution_count": 97,
     "metadata": {},
     "output_type": "execute_result"
    }
   ],
   "source": [
    "c.ndim"
   ]
  },
  {
   "cell_type": "code",
   "execution_count": 103,
   "id": "ca9177a8-d18e-49a4-900f-c70281cbe1d0",
   "metadata": {},
   "outputs": [
    {
     "data": {
      "text/plain": [
       "array([[2],\n",
       "       [6]])"
      ]
     },
     "execution_count": 103,
     "metadata": {},
     "output_type": "execute_result"
    }
   ],
   "source": [
    "c_1 = c.reshape(2,1) #2차원으로 바꾸기\n",
    "c_1"
   ]
  },
  {
   "cell_type": "code",
   "execution_count": 99,
   "id": "27f7a71e-e776-45ac-aab1-e7ec9d5a0c3d",
   "metadata": {},
   "outputs": [
    {
     "data": {
      "text/plain": [
       "array([5, 6, 7])"
      ]
     },
     "execution_count": 99,
     "metadata": {},
     "output_type": "execute_result"
    }
   ],
   "source": [
    "d = b[1, 0:3]\n",
    "d"
   ]
  },
  {
   "cell_type": "code",
   "execution_count": 101,
   "id": "023838a3-0c14-423a-9a51-a53f3c253186",
   "metadata": {},
   "outputs": [
    {
     "data": {
      "text/plain": [
       "1"
      ]
     },
     "execution_count": 101,
     "metadata": {},
     "output_type": "execute_result"
    }
   ],
   "source": [
    "d.ndim"
   ]
  },
  {
   "cell_type": "markdown",
   "id": "97191d13-89bb-4a33-a551-f7011ebc779d",
   "metadata": {
    "jp-MarkdownHeadingCollapsed": true,
    "tags": []
   },
   "source": [
    "## 문제"
   ]
  },
  {
   "cell_type": "markdown",
   "id": "a0db0f75-507f-49be-8a2d-03fbdf90a6ad",
   "metadata": {},
   "source": [
    "다음과 같은 코드를 먼저 실행하고 물음에 답하여라\n",
    "\n",
    "A = np.array([1, 4, 2, 5, 3])\n",
    "\n",
    "1) A의 1, 3, 5 번째 원소를 추출하여라\n",
    "2) A의 마지막 원소만 제외한 나머지로 이루어진 1차원 배열을 추출하여라\n",
    "3) 5에서 1씩 감소하는 길이가 5인 1차원 배열을 만들고 B라 명명하여라\n",
    "4) A와 B를 순서대로 연결하는 1차원 배열 C를 만들어라(concatenate([x,y])이용)\n",
    "5) 위에서 만들어진 C로부터 A가 첫번째 행, B를 두번째 행이 되도록 2차원 배열(행렬) D를 정의 하여라 \n",
    "6) D의 첫 두번째 행과 첫 두번째 열로 이루어진 부분행렬을 추출하여라\n",
    "7) D의 세 번째 열로만 이루어진 배열을 추출하여라. 단, 1차원 배열이 아니라 2차원 배열의 속성을 그대로 가지도록 하여라\n"
   ]
  },
  {
   "cell_type": "code",
   "execution_count": 116,
   "id": "c4662756-5fc6-494a-bf54-f6187db2465b",
   "metadata": {},
   "outputs": [],
   "source": [
    "import numpy as np"
   ]
  },
  {
   "cell_type": "code",
   "execution_count": 117,
   "id": "71a169da-3aa0-430f-9a49-c7291a36116d",
   "metadata": {},
   "outputs": [],
   "source": [
    "A = np.array([1, 4, 2, 5, 3])"
   ]
  },
  {
   "cell_type": "code",
   "execution_count": 106,
   "id": "77717ec1-c583-465a-b626-a6b67f93be4e",
   "metadata": {},
   "outputs": [
    {
     "data": {
      "text/plain": [
       "array([1, 2, 3])"
      ]
     },
     "execution_count": 106,
     "metadata": {},
     "output_type": "execute_result"
    }
   ],
   "source": [
    "A[[0,2,4]] #1"
   ]
  },
  {
   "cell_type": "code",
   "execution_count": 109,
   "id": "102590b5-66e5-4e8b-946f-369d162b5de2",
   "metadata": {},
   "outputs": [
    {
     "data": {
      "text/plain": [
       "array([1, 4, 2, 5])"
      ]
     },
     "execution_count": 109,
     "metadata": {},
     "output_type": "execute_result"
    }
   ],
   "source": [
    "A[0:4]"
   ]
  },
  {
   "cell_type": "code",
   "execution_count": 114,
   "id": "0bd9c0dc-99ee-4d64-8a1f-64902b821a32",
   "metadata": {},
   "outputs": [
    {
     "data": {
      "text/plain": [
       "array([5, 4, 3, 2, 1])"
      ]
     },
     "execution_count": 114,
     "metadata": {},
     "output_type": "execute_result"
    }
   ],
   "source": [
    "#3\n",
    "B = np.arange(5, 0, -1)\n",
    "B"
   ]
  },
  {
   "cell_type": "code",
   "execution_count": 121,
   "id": "53037d61-6070-47ee-a00f-34da1da79093",
   "metadata": {},
   "outputs": [
    {
     "data": {
      "text/plain": [
       "array([1, 4, 2, 5, 3, 5, 4, 3, 2, 1])"
      ]
     },
     "execution_count": 121,
     "metadata": {},
     "output_type": "execute_result"
    }
   ],
   "source": [
    "#4\n",
    "\n",
    "C = np.concatenate([A,B])\n",
    "C"
   ]
  },
  {
   "cell_type": "code",
   "execution_count": 132,
   "id": "9d3bad2a-01fc-4f6d-b5ad-eb066242ce2f",
   "metadata": {},
   "outputs": [
    {
     "data": {
      "text/plain": [
       "array([[1, 4, 2, 5, 3],\n",
       "       [5, 4, 3, 2, 1]])"
      ]
     },
     "execution_count": 132,
     "metadata": {},
     "output_type": "execute_result"
    }
   ],
   "source": [
    "#5\n",
    "D = C.reshape(2, 5) #2행 5열 인것을 잊지말기 행만 2개가 아닌 열도 신경써야함\n",
    "D"
   ]
  },
  {
   "cell_type": "code",
   "execution_count": 134,
   "id": "24d773b0-e8b1-4d6d-8c4b-75f4f9a00820",
   "metadata": {},
   "outputs": [
    {
     "data": {
      "text/plain": [
       "array([[1, 4],\n",
       "       [5, 4]])"
      ]
     },
     "execution_count": 134,
     "metadata": {},
     "output_type": "execute_result"
    }
   ],
   "source": [
    "#6\n",
    "D[0:2, 0:2]"
   ]
  },
  {
   "cell_type": "code",
   "execution_count": 142,
   "id": "54d82818-2528-47d7-b155-d68b6fb8e365",
   "metadata": {},
   "outputs": [
    {
     "data": {
      "text/plain": [
       "array([[2],\n",
       "       [3]])"
      ]
     },
     "execution_count": 142,
     "metadata": {},
     "output_type": "execute_result"
    }
   ],
   "source": [
    "#7\n",
    "D[:,2].reshape(2,1) #리솊을 해서 2차원으로 만들기"
   ]
  },
  {
   "cell_type": "code",
   "execution_count": null,
   "id": "64af1bc8-c147-48d5-a98e-336199ef75d0",
   "metadata": {},
   "outputs": [],
   "source": []
  }
 ],
 "metadata": {
  "kernelspec": {
   "display_name": "Python 3 (ipykernel)",
   "language": "python",
   "name": "python3"
  },
  "language_info": {
   "codemirror_mode": {
    "name": "ipython",
    "version": 3
   },
   "file_extension": ".py",
   "mimetype": "text/x-python",
   "name": "python",
   "nbconvert_exporter": "python",
   "pygments_lexer": "ipython3",
   "version": "3.9.12"
  }
 },
 "nbformat": 4,
 "nbformat_minor": 5
}
