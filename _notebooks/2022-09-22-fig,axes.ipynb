{
 "cells": [
  {
   "cell_type": "code",
   "execution_count": null,
   "metadata": {
    "id": "vnmUxqbDo_uf"
   },
   "outputs": [],
   "source": [
    "import matplotlib.pyplot as plt\n",
    "import numpy as np"
   ]
  },
  {
   "cell_type": "markdown",
   "metadata": {
    "id": "2QU3Me9ioaLF"
   },
   "source": [
    "#문제1"
   ]
  },
  {
   "cell_type": "code",
   "execution_count": null,
   "metadata": {
    "id": "ZPxgStcNob0U"
   },
   "outputs": [],
   "source": [
    "fig, axs = plt.subplots(2, 3)"
   ]
  },
  {
   "cell_type": "code",
   "execution_count": null,
   "metadata": {
    "id": "8qcfMXpGsb0D"
   },
   "outputs": [],
   "source": []
  },
  {
   "cell_type": "code",
   "execution_count": null,
   "metadata": {
    "id": "O5j44ubdsUJK"
   },
   "outputs": [],
   "source": [
    "x,y = [1,2,3,4], [1,2,4,3] \n",
    "\n",
    "axs[0,0].plot(x, y,'or')\n",
    "axs[1,0].plot(x, y,'--or')\n",
    "axs[0,1].plot(x, y,'og')\n",
    "axs[1,1].plot(x, y,'--og')\n",
    "axs[0,2].plot(x, y,'ob')\n",
    "axs[1,2].plot(x, y,'--ob')\n",
    "\n",
    "fig"
   ]
  },
  {
   "cell_type": "markdown",
   "metadata": {
    "id": "_LP5w-ulD7sG"
   },
   "source": [
    "#문제2"
   ]
  },
  {
   "cell_type": "code",
   "execution_count": null,
   "metadata": {
    "id": "5N9zevooDX5x"
   },
   "outputs": [],
   "source": [
    "fig = plt.figure()\n",
    "ax1 = fig.add_axes([0.5,0.5,1,1]) # (0,0)의 위치에 (1,1)인 액시즈(=네모틀)을 만들어라. \n",
    "ax2 = fig.add_axes([1.0,1.0,1,1])\n",
    "ax3 = fig.add_axes([1.5,1.5,1,1])\n",
    "\n",
    "ax1,ax2,ax3 = fig.axes\n",
    "\n",
    "fig.axes\n"
   ]
  },
  {
   "cell_type": "code",
   "execution_count": null,
   "metadata": {
    "id": "4QWSOZEem6FU"
   },
   "outputs": [],
   "source": [
    "x,y = [1,2,3,4], [1,2,1,1]\n",
    "ax1.plot(x, y, \"or\")\n",
    "ax2.plot(x, y, \"og\")\n",
    "ax3.plot(x, y, \"ob\")\n",
    "\n",
    "fig"
   ]
  },
  {
   "cell_type": "markdown",
   "metadata": {
    "id": "jzTA6BaRoenG"
   },
   "source": [
    "#문제3"
   ]
  },
  {
   "cell_type": "code",
   "execution_count": null,
   "metadata": {
    "id": "BbJ1OgILogAR"
   },
   "outputs": [],
   "source": [
    "x = np.arange(-5,5,0.1)\n",
    "y1 = np.sin(x)\n",
    "y2 = np.sin(2*x) + 2\n",
    "y3 = np.sin(4*x) + 4 \n",
    "y4 = np.sin(8*x) + 6\n"
   ]
  },
  {
   "cell_type": "code",
   "execution_count": null,
   "metadata": {
    "id": "Rxow8LsfwptL"
   },
   "outputs": [],
   "source": [
    "plt.plot(x, y1, \"--r\")\n",
    "plt.plot(x, y2, \"--g\")\n",
    "plt.plot(x, y3, \"--b\")\n",
    "plt.plot(x, y4, \"--m\")\n"
   ]
  }
 ],
 "metadata": {
  "colab": {
   "collapsed_sections": [],
   "private_outputs": true,
   "provenance": []
  },
  "kernelspec": {
   "display_name": "Python 3 (ipykernel)",
   "language": "python",
   "name": "python3"
  },
  "language_info": {
   "codemirror_mode": {
    "name": "ipython",
    "version": 3
   },
   "file_extension": ".py",
   "mimetype": "text/x-python",
   "name": "python",
   "nbconvert_exporter": "python",
   "pygments_lexer": "ipython3",
   "version": "3.9.12"
  }
 },
 "nbformat": 4,
 "nbformat_minor": 4
}
