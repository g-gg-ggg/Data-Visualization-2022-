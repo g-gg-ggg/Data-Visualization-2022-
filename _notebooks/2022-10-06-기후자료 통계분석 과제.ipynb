{
 "cells": [
  {
   "cell_type": "markdown",
   "id": "934d58f5-7fb8-4e37-8699-243c76f8d9e5",
   "metadata": {},
   "source": [
    "# 기후자료 통계분석 코드 분석 과제\n",
    "> nino\n",
    "\n",
    "- toc: true\n",
    "- branch: master\n",
    "- badges: true\n",
    "- comments: true\n",
    "- author: 김혜지\n",
    "- categories: [python]"
   ]
  },
  {
   "cell_type": "code",
   "execution_count": null,
   "id": "edd79c26-29db-4e73-a907-dc1bd440f8a2",
   "metadata": {},
   "outputs": [],
   "source": [
    "import matplotlib.pyplot as plt\n",
    "import xarray as xr\n",
    "#라이브러리 불러오기\n",
    "dset = xr.open_dataset(‘./Data/sst.mnmean.nc’) #데이터 셋 불러오기.\n",
    "sst=dset.sst.sel() #데이터 셋 중 sst를 선택해서 sst라고 저장\n",
    "nino34 = sst.where((sst.lat<5) & (sst.lat>-5) & (sst.lon>190) & (sst.lon<240),\n",
    "drop=True).mean(dim=['lat','lon']) #sst 중 위도가 -5에서 5사이 그리고 경도가 190에서 240 사이에 위치하는 데이터 셋을 고르기, 이 조건을 만족하지 못하는 레이블은 결과에서 삭제하고, 경도와 위도를 평균으로 하는 데이터 셋을 nino34에 저장\n",
    "\n",
    "clim = nino34.sel(time=slice(‘1982-01',’2018-12')).groupby('time.month').mean(dim='time') #시간을 선택해서 달별로 그룹화, 시간대상 평균을 내고 clim에 저장\n",
    "anom = (nino34.groupby('time.month') - clim).sel(time=slice(‘1981-12','2019-02')) #각 달만큼 그룹화 한 것 - 달마다 평균낸 것 -> 편차를 atom에 저장\n",
    " \n",
    "nino3mon = anom.rolling(time=5, center=True).mean() #5개월 단위로(롤링)평균 구해서 nino3mon에 저장\n",
    "ninos = nino3mon[12::12] #달 선택\n",
    "\n",
    "#그림판 그리기 \n",
    "fig = plt.figure(figsize = (8,6), dpi = 150) \n",
    "ax = fig.subplots()\n",
    "\n",
    "#그림 꾸미기\n",
    "ax.plot(ninos.time.values, ninos, ‘b-') \n",
    "ax.axhline(0,color='black',linewidth=0.5) #\n",
    "ax.axhline(1.0,color='black',linewidth=0.5,linestyle='dashed')\n",
    "ax.axhline(-1.0,color='black',linewidth=0.5,linestyle='dashed')\n",
    "ax.axhline(1.5,color='black',linewidth=0.6,linestyle='dashed')\n",
    "ax.axhline(-1.5,color='black',linewidth=0.6,linestyle='dashed')\n",
    "ax.axhline(2.0,color='black',linewidth=0.7,linestyle='dashed')\n",
    "ax.axhline(-2.0,color='black',linewidth=0.7,linestyle='dashed’)\n",
    "ax.axhline(ninos.std().values,color='red',linewidth=0.5,linestyle='dashed')\n",
    "#x축 y축 이름 설정\n",
    "ax.set_xlabel('Time')\n",
    "ax.set_ylabel('[$\\degree$C]')\n",
    "#타이틀 설정하기\n",
    "ax.set_title('Nino 3.4 index') \n",
    "#이미지 저장\n",
    "plt.savefig('nino34_index_season.jpg’) \n",
    "plt.show()"
   ]
  },
  {
   "cell_type": "code",
   "execution_count": null,
   "id": "b0b014db-1066-4dcd-b19a-fc56ac596607",
   "metadata": {},
   "outputs": [],
   "source": []
  },
  {
   "cell_type": "code",
   "execution_count": null,
   "id": "e55c01be-b050-412f-bf8a-ae057f74f19e",
   "metadata": {},
   "outputs": [],
   "source": []
  }
 ],
 "metadata": {
  "kernelspec": {
   "display_name": "Python 3 (ipykernel)",
   "language": "python",
   "name": "python3"
  },
  "language_info": {
   "codemirror_mode": {
    "name": "ipython",
    "version": 3
   },
   "file_extension": ".py",
   "mimetype": "text/x-python",
   "name": "python",
   "nbconvert_exporter": "python",
   "pygments_lexer": "ipython3",
   "version": "3.9.12"
  }
 },
 "nbformat": 4,
 "nbformat_minor": 5
}
