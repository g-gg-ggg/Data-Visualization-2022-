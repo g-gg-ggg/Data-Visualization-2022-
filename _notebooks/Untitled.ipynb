{
 "cells": [
  {
   "cell_type": "markdown",
   "id": "6eb9ac17-0838-4d4f-8cdc-e58791894efb",
   "metadata": {},
   "source": [
    "# 데이터 시각화4\n",
    ">\n",
    "\n",
    "- toc: true\n",
    "- branch: master\n",
    "- badges: true\n",
    "- comments: true\n",
    "- author: hyeji\n",
    "- categories: [python]"
   ]
  },
  {
   "cell_type": "code",
   "execution_count": null,
   "id": "a0e8d87b-6388-48e2-9db2-5a409d3937eb",
   "metadata": {},
   "outputs": [],
   "source": []
  }
 ],
 "metadata": {
  "kernelspec": {
   "display_name": "Python 3 (ipykernel)",
   "language": "python",
   "name": "python3"
  },
  "language_info": {
   "codemirror_mode": {
    "name": "ipython",
    "version": 3
   },
   "file_extension": ".py",
   "mimetype": "text/x-python",
   "name": "python",
   "nbconvert_exporter": "python",
   "pygments_lexer": "ipython3",
   "version": "3.9.12"
  }
 },
 "nbformat": 4,
 "nbformat_minor": 5
}
