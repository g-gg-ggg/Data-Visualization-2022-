{
 "cells": [
  {
   "cell_type": "markdown",
   "id": "6eb9ac17-0838-4d4f-8cdc-e58791894efb",
   "metadata": {},
   "source": [
    "# 데이터 시각화4\n",
    "> 9월 일\n",
    "\n",
    "- toc: true\n",
    "- branch: master\n",
    "- badges: true\n",
    "- comments: true\n",
    "- author: 김혜지\n",
    "- categories: [python]"
   ]
  },
  {
   "cell_type": "markdown",
   "id": "50baa4a1-8f7c-4933-9f11-1e901573fcb8",
   "metadata": {},
   "source": []
  },
  {
   "cell_type": "code",
   "execution_count": 2,
   "id": "a0e8d87b-6388-48e2-9db2-5a409d3937eb",
   "metadata": {},
   "outputs": [],
   "source": []
  },
  {
   "cell_type": "code",
   "execution_count": null,
   "id": "067f9fe8-e3b4-421b-84bc-d63776716dd2",
   "metadata": {},
   "outputs": [],
   "source": []
  },
  {
   "cell_type": "code",
   "execution_count": null,
   "id": "05888966-0a20-4a6d-92fe-7b283da40432",
   "metadata": {},
   "outputs": [],
   "source": []
  }
 ],
 "metadata": {
  "kernelspec": {
   "display_name": "Python 3 (ipykernel)",
   "language": "python",
   "name": "python3"
  },
  "language_info": {
   "codemirror_mode": {
    "name": "ipython",
    "version": 3
   },
   "file_extension": ".py",
   "mimetype": "text/x-python",
   "name": "python",
   "nbconvert_exporter": "python",
   "pygments_lexer": "ipython3",
   "version": "3.9.12"
  }
 },
 "nbformat": 4,
 "nbformat_minor": 5
}
