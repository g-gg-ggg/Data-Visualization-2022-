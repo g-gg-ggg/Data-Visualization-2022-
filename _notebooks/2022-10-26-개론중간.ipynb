{
 "cells": [
  {
   "cell_type": "markdown",
   "id": "baf7dcb1-621c-4b69-b146-6ea67e6bcc84",
   "metadata": {},
   "source": [
    "# 빅데이터 개론 문제 모음\n",
    "> 10월 27일 테스트\n",
    "\n",
    "- toc: true\n",
    "- branch: master\n",
    "- badges: true\n",
    "- comments: true\n",
    "- author: 김혜지\n",
    "- categories: [python]"
   ]
  },
  {
   "cell_type": "markdown",
   "id": "fbb60c50-4297-4a9d-99f3-cb9ecb5fd990",
   "metadata": {
    "tags": []
   },
   "source": [
    "## 파이썬 기초"
   ]
  },
  {
   "cell_type": "markdown",
   "id": "fb80243a-30a4-4118-ad73-d345b3d76155",
   "metadata": {},
   "source": [
    "예를 들어 아르바이트 직원의 월급을 계산하는 일반적인 작업을 고려헤 보자. 먼저 시간당 임금(hour_rate)이 정해지고 다음에 근로 일수 (month_working_days) 그리고 일간 근로 시간(day_working_hours)이 나오면 세 값을 곱하여 월급이 정해진다."
   ]
  },
  {
   "cell_type": "markdown",
   "id": "c814a154-ef78-411c-b8db-2c965fa3ee0e",
   "metadata": {},
   "source": [
    "1월에 일한 철수의 월급을 계산하기"
   ]
  },
  {
   "cell_type": "markdown",
   "id": "3f9cc3e9-a594-4f44-93cf-495139d1bdb6",
   "metadata": {
    "jp-MarkdownHeadingCollapsed": true,
    "tags": []
   },
   "source": [
    "### 답"
   ]
  },
  {
   "cell_type": "code",
   "execution_count": 74,
   "id": "23c351be-10c7-4a85-9e36-f6b16825b194",
   "metadata": {},
   "outputs": [
    {
     "data": {
      "text/plain": [
       "800000"
      ]
     },
     "execution_count": 74,
     "metadata": {},
     "output_type": "execute_result"
    }
   ],
   "source": [
    "hour_rate = 10000\n",
    "month_working_days = 20\n",
    "day_working_hours = 4\n",
    "\n",
    "monthpay = hour_rate * month_working_days * day_working_hours\n",
    "\n",
    "monthpay"
   ]
  },
  {
   "cell_type": "markdown",
   "id": "cc02f396-19a6-4bac-872a-1bfc54594b4a",
   "metadata": {
    "tags": []
   },
   "source": [
    "## 데이터 프레임/ 슬라이싱/ 챕터 1 문제"
   ]
  },
  {
   "cell_type": "markdown",
   "id": "9f9e2dc0-273b-4f93-8a9d-227d522dead4",
   "metadata": {},
   "source": [
    "1. 사진과 같은 데이터 프레임을 만들어라, 5*3의 데이터 프레임 형식 \n",
    "\n",
    "열 이름 : area, pop, den, 행 이름 : cal, Tex NY, Flor, Ill\n",
    "\n",
    "2. 이 데이터 프레임의 shape을 출력하여 보아라\n",
    "3. 평균 면적을 계산하여라 \n",
    "4. 인구수가 2000만명 이하인 중들을 골라내어라 또한 해당하는 주의 평균밀도를 계산하여 보아라 \n",
    "5. 첫 3개의 행과 첫 2개의 열로 이루어진 subdataframe을 추출하여라\n",
    "6. NY의 인구를 추출하여라."
   ]
  },
  {
   "cell_type": "markdown",
   "id": "861022c3-d776-4454-a290-450ecb63c091",
   "metadata": {
    "tags": []
   },
   "source": [
    "### 답"
   ]
  },
  {
   "cell_type": "code",
   "execution_count": 9,
   "id": "7040c4a3-8e96-49b4-8532-049ea907e28c",
   "metadata": {},
   "outputs": [],
   "source": [
    "import pandas as pd"
   ]
  },
  {
   "cell_type": "code",
   "execution_count": 23,
   "id": "1cd41fa4-db07-4f5e-810f-461dabec3712",
   "metadata": {},
   "outputs": [
    {
     "data": {
      "text/html": [
       "<div>\n",
       "<style scoped>\n",
       "    .dataframe tbody tr th:only-of-type {\n",
       "        vertical-align: middle;\n",
       "    }\n",
       "\n",
       "    .dataframe tbody tr th {\n",
       "        vertical-align: top;\n",
       "    }\n",
       "\n",
       "    .dataframe thead th {\n",
       "        text-align: right;\n",
       "    }\n",
       "</style>\n",
       "<table border=\"1\" class=\"dataframe\">\n",
       "  <thead>\n",
       "    <tr style=\"text-align: right;\">\n",
       "      <th></th>\n",
       "      <th>area</th>\n",
       "      <th>pop</th>\n",
       "      <th>den</th>\n",
       "    </tr>\n",
       "  </thead>\n",
       "  <tbody>\n",
       "    <tr>\n",
       "      <th>Cal</th>\n",
       "      <td>423967</td>\n",
       "      <td>38332521</td>\n",
       "      <td>90.000000</td>\n",
       "    </tr>\n",
       "    <tr>\n",
       "      <th>Tex</th>\n",
       "      <td>695662</td>\n",
       "      <td>26448193</td>\n",
       "      <td>38.018740</td>\n",
       "    </tr>\n",
       "    <tr>\n",
       "      <th>NY</th>\n",
       "      <td>141297</td>\n",
       "      <td>19651127</td>\n",
       "      <td>139.076746</td>\n",
       "    </tr>\n",
       "    <tr>\n",
       "      <th>Flo</th>\n",
       "      <td>170312</td>\n",
       "      <td>19552860</td>\n",
       "      <td>114.806121</td>\n",
       "    </tr>\n",
       "    <tr>\n",
       "      <th>Ill</th>\n",
       "      <td>149995</td>\n",
       "      <td>12882135</td>\n",
       "      <td>85.883763</td>\n",
       "    </tr>\n",
       "  </tbody>\n",
       "</table>\n",
       "</div>"
      ],
      "text/plain": [
       "       area       pop         den\n",
       "Cal  423967  38332521   90.000000\n",
       "Tex  695662  26448193   38.018740\n",
       "NY   141297  19651127  139.076746\n",
       "Flo  170312  19552860  114.806121\n",
       "Ill  149995  12882135   85.883763"
      ]
     },
     "execution_count": 23,
     "metadata": {},
     "output_type": "execute_result"
    }
   ],
   "source": [
    "# 1\n",
    "df = pd.DataFrame({ \"area\" : [423967, 695662, 141297, 170312, 149995],\n",
    "                   \"pop\" : [38332521, 26448193, 19651127, 19552860, 12882135],\n",
    "                   \"den\" : [90.000000, 38.018740, 139.076746, 114.806121, 85.883763]\n",
    "                  }, index = [\"Cal\", \"Tex\", \"NY\", \"Flo\", \"Ill\"] )\n",
    "\n",
    "df"
   ]
  },
  {
   "cell_type": "code",
   "execution_count": 24,
   "id": "16e4b579-0507-4b33-9ab1-763dbdd1bace",
   "metadata": {},
   "outputs": [
    {
     "data": {
      "text/plain": [
       "(5, 3)"
      ]
     },
     "execution_count": 24,
     "metadata": {},
     "output_type": "execute_result"
    }
   ],
   "source": [
    "# 2 \n",
    "df.shape"
   ]
  },
  {
   "cell_type": "code",
   "execution_count": 26,
   "id": "7ab193ae-c7d6-475d-93ae-4ca5ca32a4ed",
   "metadata": {},
   "outputs": [
    {
     "data": {
      "text/plain": [
       "<bound method NDFrame._add_numeric_operations.<locals>.mean of Cal    423967\n",
       "Tex    695662\n",
       "NY     141297\n",
       "Flo    170312\n",
       "Ill    149995\n",
       "Name: area, dtype: int64>"
      ]
     },
     "execution_count": 26,
     "metadata": {},
     "output_type": "execute_result"
    }
   ],
   "source": [
    "# 3 평균 면적 \n",
    "df[\"area\"].mean"
   ]
  },
  {
   "cell_type": "code",
   "execution_count": 189,
   "id": "a9a7a7ab-8523-45e4-8510-3feff49be71c",
   "metadata": {},
   "outputs": [
    {
     "data": {
      "text/plain": [
       "<bound method NDFrame._add_numeric_operations.<locals>.mean of NY     139.076746\n",
       "Flo    114.806121\n",
       "Ill     85.883763\n",
       "Name: den, dtype: float64>"
      ]
     },
     "execution_count": 189,
     "metadata": {},
     "output_type": "execute_result"
    }
   ],
   "source": [
    "# 4. 인구수가 2000만명 이하인 주들을 골라내어라 \n",
    "# 또한 해당하는 주의 평균밀도를 계산하여 보아라 \n",
    "\n",
    "df[df[\"pop\"] < 20000000][\"den\"].mean\n"
   ]
  },
  {
   "cell_type": "code",
   "execution_count": 72,
   "id": "e07ada3d-2b85-4343-905c-23ebdcceace6",
   "metadata": {},
   "outputs": [
    {
     "data": {
      "text/plain": [
       "423967"
      ]
     },
     "execution_count": 72,
     "metadata": {},
     "output_type": "execute_result"
    }
   ],
   "source": [
    "# 5. 첫 3개의 행과 첫 2개의 열로 이루어진 subdataframe을 추출하여라\n",
    "sub = df.iloc[:3, :2] #iloc\n",
    "sub\n",
    "\n",
    "# df.loc[[\"Cal\",\"Tex\", \"NY\"]][[\"area\", \"pop\"]] #loc\n",
    "# loc를 사용해서 행을 출력할 수 있다. 그리고 그 후 열로 접근 가능\n",
    "\n",
    "# df[[\"area\"]] # only Sereies  열만 출력 가능\n"
   ]
  },
  {
   "cell_type": "code",
   "execution_count": 73,
   "id": "1cc0836a-fc33-4e3b-a3bb-054e950a8de8",
   "metadata": {},
   "outputs": [
    {
     "data": {
      "text/plain": [
       "19651127"
      ]
     },
     "execution_count": 73,
     "metadata": {},
     "output_type": "execute_result"
    }
   ],
   "source": [
    "# 6. NY의 인구를 추출하여라.\n",
    "#df.loc[\"NY\"][\"pop\"]\n",
    "\n",
    "df[\"pop\"][\"NY\"] #열과 행 순, 여러개 출력하고 싶으면 loc나 iloc 사용하기"
   ]
  },
  {
   "cell_type": "markdown",
   "id": "7ac8846a-bea7-4481-b789-b321341a13f5",
   "metadata": {
    "tags": []
   },
   "source": [
    "## 시각화"
   ]
  },
  {
   "cell_type": "code",
   "execution_count": 92,
   "id": "fc9e1e01-bdae-452c-924f-bfb9ff719e50",
   "metadata": {},
   "outputs": [],
   "source": [
    "import matplotlib.pyplot as plt\n",
    "from matplotlib import rc\n",
    "%matplotlib inline\n",
    "\n",
    "rc('font', family='AppleGothic')  # mac os 에서만 필요, colab 에서는 불필요 \n",
    "plt.rcParams['axes.unicode_minus'] = False\n",
    "plt.rcParams[\"figure.figsize\"] = (10,5)"
   ]
  },
  {
   "cell_type": "markdown",
   "id": "eab67c6b-d613-4531-916d-de3d1d01e1bc",
   "metadata": {},
   "source": [
    "1. csv 파일 불러오기 \"https://ilovedata.github.io/teaching/bigdata2/data/train-data-01.csv\"\n",
    "2. 자료에 포함된 운행되는 열차 번호 확인, unique() 함수 사용하기(시리즈 안에 있는 원소들을 중복이 없이 유일한 값만으로 출력해 주는 함수)\n",
    "3. 원자료에서 다음 3개의 조건을 모두 만족하는 행들을 추출해서 참과 거짓으로 구성된 3개의 시리즈를 만들어 보자.\n",
    "\n",
    "- 열차번호가 2번이다.\n",
    "- 출발역은 서울역이다.\n",
    "- 도착역은 부산역이다.\n",
    "\n",
    "4. 날짜별로 2번 열차의 서울-부산간 탑승자수를 나타내는 시계열 그림(time series plot)을 그려보자.\n",
    "\n",
    "----\n",
    "\n",
    "5. 년월일로 날짜 데이터 변환해서 DATE2에 저장하기, to_datetime() 의 옵션 format='%Y%m%d' 은 변환에 사용할 정수 자료의 형식이 YYYYMMDD 로 년,월,일을 연결하여 만든 숫자라고 알려주는 것이다. 새로운 변수 DATE2를 데이터프레임에 추가\n",
    "6. DATE2 를 아용하여 요일을 나타내는 새로운 변수 DAYOFWEEK 를 만들어 보자. dt.dayofweek\n",
    "7. 요일별, 구간별 분석하기, 3개의 변수(요일, 출발역, 도착역)로 자료를 그룹화(grouping)하고 평균을 낸다.\n",
    "8. 인덱스 표현하기 .reset_index(inplace = True)\n",
    "9. 이제 원하는 출발역과 도착역을 선택하여 요일별 평균 탑승객 수를 살펴보자.아래는 서울에서 출발하여 부산에 도착하는 탑승객 수의 요일별 평균값을 구하고 그름으로 나타난 결과이다. 금요일이 다른 요일보다 현저하게 탑승객의 수가 많고 일요일이 다소 적다는 것을 알 수 있다."
   ]
  },
  {
   "cell_type": "markdown",
   "id": "672439f3-8bbd-431a-b433-671ce6b686fd",
   "metadata": {
    "jp-MarkdownHeadingCollapsed": true,
    "tags": []
   },
   "source": [
    "### 답"
   ]
  },
  {
   "cell_type": "code",
   "execution_count": 76,
   "id": "fecc5db6-8e73-4b12-be1f-61e296c17c75",
   "metadata": {},
   "outputs": [],
   "source": [
    "dset = pd.read_csv(\"https://ilovedata.github.io/teaching/bigdata2/data/train-data-01.csv\")"
   ]
  },
  {
   "cell_type": "code",
   "execution_count": 77,
   "id": "68e09b59-b5ec-4450-9df1-4633f825b5b8",
   "metadata": {},
   "outputs": [
    {
     "name": "stdout",
     "output_type": "stream",
     "text": [
      "      TRAIN_NO      DATE STATION_DEPART STATION_ARRV  NUM_PASSENGER\n",
      "0            2  20190701             서울           대전          106.0\n",
      "1            2  20190702             서울           대전          113.0\n",
      "2            2  20190703             서울           대전          146.0\n",
      "3            2  20190704             서울           대전           84.0\n",
      "4            2  20190705             서울           대전          105.0\n",
      "...        ...       ...            ...          ...            ...\n",
      "1764         6  20190726             울산           부산           10.0\n",
      "1765         6  20190727             울산           부산            6.0\n",
      "1766         6  20190728             울산           부산           21.0\n",
      "1767         6  20190729             울산           부산           12.0\n",
      "1768         6  20190730             울산           부산           11.0\n",
      "\n",
      "[1769 rows x 5 columns]\n"
     ]
    }
   ],
   "source": [
    "print(dset)"
   ]
  },
  {
   "cell_type": "code",
   "execution_count": 83,
   "id": "0a75a822-7490-4860-b7f8-23fad3c548dd",
   "metadata": {},
   "outputs": [
    {
     "data": {
      "text/plain": [
       "array([2, 5, 6])"
      ]
     },
     "execution_count": 83,
     "metadata": {},
     "output_type": "execute_result"
    }
   ],
   "source": [
    "# 2 열차 번호 확인\n",
    "dset[\"TRAIN_NO\"].unique()"
   ]
  },
  {
   "cell_type": "code",
   "execution_count": 89,
   "id": "8980da5f-3ddd-44ca-a37c-9c7de516967f",
   "metadata": {},
   "outputs": [
    {
     "data": {
      "text/plain": [
       "0       False\n",
       "1       False\n",
       "2       False\n",
       "3       False\n",
       "4       False\n",
       "        ...  \n",
       "1764    False\n",
       "1765    False\n",
       "1766    False\n",
       "1767    False\n",
       "1768    False\n",
       "Length: 1769, dtype: bool"
      ]
     },
     "execution_count": 89,
     "metadata": {},
     "output_type": "execute_result"
    }
   ],
   "source": [
    "\n",
    "t1  = dset[\"TRAIN_NO\"] ==2 # -열차번호가 2번이다.\n",
    "t2  = dset[\"STATION_DEPART\"] == \"서울\" # 출발역은 서울역이다.\n",
    "t3  = dset[\"STATION_ARRV\"] == \"부산\" #도착역은 부산역이다.\n",
    "\n",
    "newdf = t1 & t2 & t3\n",
    "newdf"
   ]
  },
  {
   "cell_type": "code",
   "execution_count": 106,
   "id": "70f4cc07-711f-47b6-8f98-4410f9dd8418",
   "metadata": {},
   "outputs": [],
   "source": [
    "# 2번 열차의 서울-부산간 탑승자수를 나타내는 시계열 그림(time series plot)을 그려보자\n",
    "sd = dset[newdf] #데이터 셋으로 저장,"
   ]
  },
  {
   "cell_type": "code",
   "execution_count": 107,
   "id": "f62d4ad1-a30b-4f9a-930f-e5c6003aac57",
   "metadata": {},
   "outputs": [
    {
     "data": {
      "text/plain": [
       "<AxesSubplot:xlabel='DATE'>"
      ]
     },
     "execution_count": 107,
     "metadata": {},
     "output_type": "execute_result"
    },
    {
     "data": {
      "image/png": "[encoded data removed]",
      "text/plain": [
       "<Figure size 720x360 with 1 Axes>"
      ]
     },
     "metadata": {
      "needs_background": "light"
     },
     "output_type": "display_data"
    }
   ],
   "source": [
    "sd.plot(x = \"DATE\", y = \"NUM_PASSENGER\") #plot 사용하기 "
   ]
  },
  {
   "cell_type": "code",
   "execution_count": 133,
   "id": "bc934a6c-bbbe-4476-9208-a397171a254e",
   "metadata": {},
   "outputs": [
    {
     "name": "stdout",
     "output_type": "stream",
     "text": [
      "      TRAIN_NO      DATE STATION_DEPART STATION_ARRV  NUM_PASSENGER      DATE2\n",
      "0            2  20190701             서울           대전          106.0 2019-07-01\n",
      "1            2  20190702             서울           대전          113.0 2019-07-02\n",
      "2            2  20190703             서울           대전          146.0 2019-07-03\n",
      "3            2  20190704             서울           대전           84.0 2019-07-04\n",
      "4            2  20190705             서울           대전          105.0 2019-07-05\n",
      "...        ...       ...            ...          ...            ...        ...\n",
      "1764         6  20190726             울산           부산           10.0 2019-07-26\n",
      "1765         6  20190727             울산           부산            6.0 2019-07-27\n",
      "1766         6  20190728             울산           부산           21.0 2019-07-28\n",
      "1767         6  20190729             울산           부산           12.0 2019-07-29\n",
      "1768         6  20190730             울산           부산           11.0 2019-07-30\n",
      "\n",
      "[1769 rows x 6 columns]\n"
     ]
    }
   ],
   "source": [
    "# 6. 년월일로 날짜 데이터 변환해서 DATE2에 저장하기 #pd.to_datetime(데이터 셋, 포맷, 년도는 대문자로 변환), 새로운 변수 DATE2를 데이터프레임에 추가\n",
    "\n",
    "dset[\"DATE2\"] = pd.to_datetime(dset[\"DATE\"], format = \"%Y%m%d\")\n",
    "print(dset)"
   ]
  },
  {
   "cell_type": "code",
   "execution_count": 181,
   "id": "86003bef-f99f-41ca-9486-4b0ba1c8d990",
   "metadata": {},
   "outputs": [],
   "source": [
    "# 6. DATE2 를 아용하여 요일을 나타내는 새로운 변수 DAYOFWEEK 를 만들어 보자.\n",
    "# 7. 요일별, 구간별 분석하기, 3개의 변수(요일, 출발역, 도착역)로 자료를 그룹화(grouping)하고 평균을 낸다.\n",
    "dset[\"Week\"] = dset[\"DATE2\"].dt.dayofweek #dayofweek는 괄호 치지 말기\n",
    "train_group_data = dset[ [ 'STATION_DEPART', 'STATION_ARRV','Week','NUM_PASSENGER']]\n",
    "dsetg = train_group_data.groupby(['STATION_DEPART','STATION_ARRV','Week']).mean()"
   ]
  },
  {
   "cell_type": "code",
   "execution_count": 174,
   "id": "03bb1463-1e52-47cd-8b72-cbcf21d0a7ef",
   "metadata": {},
   "outputs": [
    {
     "data": {
      "text/html": [
       "<div>\n",
       "<style scoped>\n",
       "    .dataframe tbody tr th:only-of-type {\n",
       "        vertical-align: middle;\n",
       "    }\n",
       "\n",
       "    .dataframe tbody tr th {\n",
       "        vertical-align: top;\n",
       "    }\n",
       "\n",
       "    .dataframe thead th {\n",
       "        text-align: right;\n",
       "    }\n",
       "</style>\n",
       "<table border=\"1\" class=\"dataframe\">\n",
       "  <thead>\n",
       "    <tr style=\"text-align: right;\">\n",
       "      <th></th>\n",
       "      <th>STATION_DEPART</th>\n",
       "      <th>STATION_ARRV</th>\n",
       "      <th>Week</th>\n",
       "      <th>NUM_PASSENGER</th>\n",
       "    </tr>\n",
       "  </thead>\n",
       "  <tbody>\n",
       "    <tr>\n",
       "      <th>0</th>\n",
       "      <td>서울</td>\n",
       "      <td>대전</td>\n",
       "      <td>0</td>\n",
       "      <td>106.0</td>\n",
       "    </tr>\n",
       "    <tr>\n",
       "      <th>1</th>\n",
       "      <td>서울</td>\n",
       "      <td>대전</td>\n",
       "      <td>1</td>\n",
       "      <td>113.0</td>\n",
       "    </tr>\n",
       "    <tr>\n",
       "      <th>2</th>\n",
       "      <td>서울</td>\n",
       "      <td>대전</td>\n",
       "      <td>2</td>\n",
       "      <td>146.0</td>\n",
       "    </tr>\n",
       "    <tr>\n",
       "      <th>3</th>\n",
       "      <td>서울</td>\n",
       "      <td>대전</td>\n",
       "      <td>3</td>\n",
       "      <td>84.0</td>\n",
       "    </tr>\n",
       "    <tr>\n",
       "      <th>4</th>\n",
       "      <td>서울</td>\n",
       "      <td>대전</td>\n",
       "      <td>4</td>\n",
       "      <td>105.0</td>\n",
       "    </tr>\n",
       "    <tr>\n",
       "      <th>...</th>\n",
       "      <td>...</td>\n",
       "      <td>...</td>\n",
       "      <td>...</td>\n",
       "      <td>...</td>\n",
       "    </tr>\n",
       "    <tr>\n",
       "      <th>1764</th>\n",
       "      <td>울산</td>\n",
       "      <td>부산</td>\n",
       "      <td>4</td>\n",
       "      <td>10.0</td>\n",
       "    </tr>\n",
       "    <tr>\n",
       "      <th>1765</th>\n",
       "      <td>울산</td>\n",
       "      <td>부산</td>\n",
       "      <td>5</td>\n",
       "      <td>6.0</td>\n",
       "    </tr>\n",
       "    <tr>\n",
       "      <th>1766</th>\n",
       "      <td>울산</td>\n",
       "      <td>부산</td>\n",
       "      <td>6</td>\n",
       "      <td>21.0</td>\n",
       "    </tr>\n",
       "    <tr>\n",
       "      <th>1767</th>\n",
       "      <td>울산</td>\n",
       "      <td>부산</td>\n",
       "      <td>0</td>\n",
       "      <td>12.0</td>\n",
       "    </tr>\n",
       "    <tr>\n",
       "      <th>1768</th>\n",
       "      <td>울산</td>\n",
       "      <td>부산</td>\n",
       "      <td>1</td>\n",
       "      <td>11.0</td>\n",
       "    </tr>\n",
       "  </tbody>\n",
       "</table>\n",
       "<p>1769 rows × 4 columns</p>\n",
       "</div>"
      ],
      "text/plain": [
       "     STATION_DEPART STATION_ARRV  Week  NUM_PASSENGER\n",
       "0                서울           대전     0          106.0\n",
       "1                서울           대전     1          113.0\n",
       "2                서울           대전     2          146.0\n",
       "3                서울           대전     3           84.0\n",
       "4                서울           대전     4          105.0\n",
       "...             ...          ...   ...            ...\n",
       "1764             울산           부산     4           10.0\n",
       "1765             울산           부산     5            6.0\n",
       "1766             울산           부산     6           21.0\n",
       "1767             울산           부산     0           12.0\n",
       "1768             울산           부산     1           11.0\n",
       "\n",
       "[1769 rows x 4 columns]"
      ]
     },
     "execution_count": 174,
     "metadata": {},
     "output_type": "execute_result"
    }
   ],
   "source": [
    "train_group_data"
   ]
  },
  {
   "cell_type": "code",
   "execution_count": 182,
   "id": "a8d1118d-42c9-4b0a-8559-80e104296841",
   "metadata": {},
   "outputs": [
    {
     "data": {
      "text/html": [
       "<div>\n",
       "<style scoped>\n",
       "    .dataframe tbody tr th:only-of-type {\n",
       "        vertical-align: middle;\n",
       "    }\n",
       "\n",
       "    .dataframe tbody tr th {\n",
       "        vertical-align: top;\n",
       "    }\n",
       "\n",
       "    .dataframe thead th {\n",
       "        text-align: right;\n",
       "    }\n",
       "</style>\n",
       "<table border=\"1\" class=\"dataframe\">\n",
       "  <thead>\n",
       "    <tr style=\"text-align: right;\">\n",
       "      <th></th>\n",
       "      <th>STATION_DEPART</th>\n",
       "      <th>STATION_ARRV</th>\n",
       "      <th>Week</th>\n",
       "      <th>NUM_PASSENGER</th>\n",
       "    </tr>\n",
       "  </thead>\n",
       "  <tbody>\n",
       "    <tr>\n",
       "      <th>0</th>\n",
       "      <td>광명</td>\n",
       "      <td>대전</td>\n",
       "      <td>0</td>\n",
       "      <td>16.300</td>\n",
       "    </tr>\n",
       "    <tr>\n",
       "      <th>1</th>\n",
       "      <td>광명</td>\n",
       "      <td>대전</td>\n",
       "      <td>1</td>\n",
       "      <td>15.200</td>\n",
       "    </tr>\n",
       "    <tr>\n",
       "      <th>2</th>\n",
       "      <td>광명</td>\n",
       "      <td>대전</td>\n",
       "      <td>2</td>\n",
       "      <td>20.750</td>\n",
       "    </tr>\n",
       "    <tr>\n",
       "      <th>3</th>\n",
       "      <td>광명</td>\n",
       "      <td>대전</td>\n",
       "      <td>3</td>\n",
       "      <td>21.125</td>\n",
       "    </tr>\n",
       "    <tr>\n",
       "      <th>4</th>\n",
       "      <td>광명</td>\n",
       "      <td>대전</td>\n",
       "      <td>4</td>\n",
       "      <td>18.125</td>\n",
       "    </tr>\n",
       "    <tr>\n",
       "      <th>...</th>\n",
       "      <td>...</td>\n",
       "      <td>...</td>\n",
       "      <td>...</td>\n",
       "      <td>...</td>\n",
       "    </tr>\n",
       "    <tr>\n",
       "      <th>219</th>\n",
       "      <td>행신</td>\n",
       "      <td>서울</td>\n",
       "      <td>2</td>\n",
       "      <td>12.750</td>\n",
       "    </tr>\n",
       "    <tr>\n",
       "      <th>220</th>\n",
       "      <td>행신</td>\n",
       "      <td>서울</td>\n",
       "      <td>3</td>\n",
       "      <td>10.000</td>\n",
       "    </tr>\n",
       "    <tr>\n",
       "      <th>221</th>\n",
       "      <td>행신</td>\n",
       "      <td>서울</td>\n",
       "      <td>4</td>\n",
       "      <td>8.250</td>\n",
       "    </tr>\n",
       "    <tr>\n",
       "      <th>222</th>\n",
       "      <td>행신</td>\n",
       "      <td>서울</td>\n",
       "      <td>5</td>\n",
       "      <td>7.500</td>\n",
       "    </tr>\n",
       "    <tr>\n",
       "      <th>223</th>\n",
       "      <td>행신</td>\n",
       "      <td>서울</td>\n",
       "      <td>6</td>\n",
       "      <td>5.000</td>\n",
       "    </tr>\n",
       "  </tbody>\n",
       "</table>\n",
       "<p>224 rows × 4 columns</p>\n",
       "</div>"
      ],
      "text/plain": [
       "    STATION_DEPART STATION_ARRV  Week  NUM_PASSENGER\n",
       "0               광명           대전     0         16.300\n",
       "1               광명           대전     1         15.200\n",
       "2               광명           대전     2         20.750\n",
       "3               광명           대전     3         21.125\n",
       "4               광명           대전     4         18.125\n",
       "..             ...          ...   ...            ...\n",
       "219             행신           서울     2         12.750\n",
       "220             행신           서울     3         10.000\n",
       "221             행신           서울     4          8.250\n",
       "222             행신           서울     5          7.500\n",
       "223             행신           서울     6          5.000\n",
       "\n",
       "[224 rows x 4 columns]"
      ]
     },
     "execution_count": 182,
     "metadata": {},
     "output_type": "execute_result"
    }
   ],
   "source": [
    "# 8. 인덱스 표현하기 \n",
    "dsetg.reset_index(inplace = True)\n",
    "dsetg\n"
   ]
  },
  {
   "cell_type": "code",
   "execution_count": 186,
   "id": "73c8eab9-c509-4c7c-baa3-b137fdafa186",
   "metadata": {},
   "outputs": [
    {
     "data": {
      "text/html": [
       "<div>\n",
       "<style scoped>\n",
       "    .dataframe tbody tr th:only-of-type {\n",
       "        vertical-align: middle;\n",
       "    }\n",
       "\n",
       "    .dataframe tbody tr th {\n",
       "        vertical-align: top;\n",
       "    }\n",
       "\n",
       "    .dataframe thead th {\n",
       "        text-align: right;\n",
       "    }\n",
       "</style>\n",
       "<table border=\"1\" class=\"dataframe\">\n",
       "  <thead>\n",
       "    <tr style=\"text-align: right;\">\n",
       "      <th></th>\n",
       "      <th>STATION_DEPART</th>\n",
       "      <th>STATION_ARRV</th>\n",
       "      <th>Week</th>\n",
       "      <th>NUM_PASSENGER</th>\n",
       "    </tr>\n",
       "  </thead>\n",
       "  <tbody>\n",
       "    <tr>\n",
       "      <th>84</th>\n",
       "      <td>서울</td>\n",
       "      <td>대전</td>\n",
       "      <td>0</td>\n",
       "      <td>99.266667</td>\n",
       "    </tr>\n",
       "    <tr>\n",
       "      <th>85</th>\n",
       "      <td>서울</td>\n",
       "      <td>대전</td>\n",
       "      <td>1</td>\n",
       "      <td>112.933333</td>\n",
       "    </tr>\n",
       "    <tr>\n",
       "      <th>86</th>\n",
       "      <td>서울</td>\n",
       "      <td>대전</td>\n",
       "      <td>2</td>\n",
       "      <td>117.500000</td>\n",
       "    </tr>\n",
       "    <tr>\n",
       "      <th>87</th>\n",
       "      <td>서울</td>\n",
       "      <td>대전</td>\n",
       "      <td>3</td>\n",
       "      <td>120.500000</td>\n",
       "    </tr>\n",
       "    <tr>\n",
       "      <th>88</th>\n",
       "      <td>서울</td>\n",
       "      <td>대전</td>\n",
       "      <td>4</td>\n",
       "      <td>99.583333</td>\n",
       "    </tr>\n",
       "    <tr>\n",
       "      <th>89</th>\n",
       "      <td>서울</td>\n",
       "      <td>대전</td>\n",
       "      <td>5</td>\n",
       "      <td>102.250000</td>\n",
       "    </tr>\n",
       "    <tr>\n",
       "      <th>90</th>\n",
       "      <td>서울</td>\n",
       "      <td>대전</td>\n",
       "      <td>6</td>\n",
       "      <td>102.750000</td>\n",
       "    </tr>\n",
       "  </tbody>\n",
       "</table>\n",
       "</div>"
      ],
      "text/plain": [
       "   STATION_DEPART STATION_ARRV  Week  NUM_PASSENGER\n",
       "84             서울           대전     0      99.266667\n",
       "85             서울           대전     1     112.933333\n",
       "86             서울           대전     2     117.500000\n",
       "87             서울           대전     3     120.500000\n",
       "88             서울           대전     4      99.583333\n",
       "89             서울           대전     5     102.250000\n",
       "90             서울           대전     6     102.750000"
      ]
     },
     "execution_count": 186,
     "metadata": {},
     "output_type": "execute_result"
    }
   ],
   "source": [
    "# 9. 이제 원하는 출발역과 도착역을 선택하여 요일별 평균 탑승객 수를 살펴보자.\n",
    "dsetw = dsetg[(dsetg[\"STATION_DEPART\"] == \"서울\")  & (dsetg[\"STATION_ARRV\"] == \"대전\")] #그룹화 하고 평균을 낸 데이ㅓ 셋에서 원하는 것을 고르기 그룹화 안 하고 고르면 많은 데이터 들이 출력 됨\n",
    "dsetw"
   ]
  },
  {
   "cell_type": "code",
   "execution_count": 185,
   "id": "199c5041-9d54-427c-a6f4-5b0745b30e57",
   "metadata": {},
   "outputs": [
    {
     "data": {
      "text/plain": [
       "<AxesSubplot:xlabel='Week'>"
      ]
     },
     "execution_count": 185,
     "metadata": {},
     "output_type": "execute_result"
    },
    {
     "data": {
      "image/png": "[encoded data removed]",
      "text/plain": [
       "<Figure size 720x360 with 1 Axes>"
      ]
     },
     "metadata": {
      "needs_background": "light"
     },
     "output_type": "display_data"
    }
   ],
   "source": [
    "dsetw.plot(x = \"Week\", y= \"NUM_PASSENGER\") #월요일이 0"
   ]
  },
  {
   "cell_type": "markdown",
   "id": "f7142a2e-b29f-4224-b96c-5d2754f7a142",
   "metadata": {},
   "source": [
    "## 텍스트 슬라이싱"
   ]
  },
  {
   "cell_type": "code",
   "execution_count": 195,
   "id": "911ad80d-143a-4d64-8ad1-0072d22e1440",
   "metadata": {},
   "outputs": [],
   "source": [
    "import matplotlib.pyplot as plt\n",
    "from matplotlib import rc\n",
    "%matplotlib inline\n",
    "\n",
    "plt.rcParams['axes.unicode_minus'] = False\n",
    "plt.rcParams[\"figure.figsize\"] = (10,5)\n",
    "import numpy as np\n",
    "import pandas as pd"
   ]
  },
  {
   "cell_type": "markdown",
   "id": "4dfb5fcc-9e57-4964-92c0-7723ca52d7bd",
   "metadata": {},
   "source": [
    "1. csv 파일 불러오기 \"https://ilovedata.github.io/teaching/bigdata2/data/little-prince.txt\"\n",
    "2. 챕터 나누기 little_prince_chapters = little_prince.split('어린 왕자\\r\\n')\n",
    "3. 문자열들로 구성된 리스트를 데이터프레임으로 변환하자. 이미 정의된 리스트는 아래와 같이 함수 pd.DataFrame() 를 이용하여 데이터프레임 final 로 만들 수 있다. 만들어진 데이터프레임 final 은 각 장에 해당하는 28개의 행과 문자열을 가지는 1개의 열로 구성된다. final = pd.DataFrame({'chapters': little_prince_chapters})\n",
    "4. 빈도 계산 counts = final.applymap(lambda x: np.char.count(x, \"어린 왕자\"))\n",
    "\n"
   ]
  },
  {
   "cell_type": "markdown",
   "id": "ed7e8327-c790-46cf-ba00-302e6ae9a011",
   "metadata": {},
   "source": [
    "## 챕터2 실습 "
   ]
  },
  {
   "cell_type": "markdown",
   "id": "d353b63b-6c93-41e4-ae77-f425611e3d8e",
   "metadata": {},
   "source": [
    "1. `hstudent.csv'는 20명의 고등학생 성별, 학년, 키(cm), 몸무게(kg)를 조사한 자료이다.\n",
    "체질량지수는 몸무게(kg)를 키의 제곱(m)으로 나눈 값입니다. 5번 학생의 체질량지수는?\n",
    "10번 학생의 체질량지수는?\n",
    "학생의 키와 몸무게를 각각 height 와 weight 에 저장하고, height 와 weight 를 사용하여 체질량지수 계산 5번 과 10번 학생 각각에 대하여 계산한 후 bmi5와 bmi10에 저장\n",
    "bmi5 와 bmi10 의 크기 비교 결과 print 함수를 사용하여 보여주기 1번부터 5번까지의 학생 키를 원소로 가지는 리스트 변수 height1_5 생성\n",
    "1번부터 3번까지 학생의 키 추출\n",
    "1. 나는 전북대학교 학과 이름 입니다. (예, 나는 전북대학교 통계학과 최혜미입니다)\n",
    "위 문자열을 값으로 가지는 변수 name_dept 를 생성 변수 name_dept 에서 전북대학교 추출"
   ]
  },
  {
   "cell_type": "markdown",
   "id": "f5ddc0a6-c8bd-4d80-bd22-e31375a2284c",
   "metadata": {},
   "source": [
    "\n",
    "1. 챕터별로 여우 , ?, !의 빈도를 계산하고 그림으로 나타내어라.\n",
    "\n",
    "counts = final.applymap(lambda x : np.chart.count(x,\"여우\"))\n",
    "\n",
    "counts.plot()"
   ]
  },
  {
   "cell_type": "code",
   "execution_count": null,
   "id": "4afaf50b-80e8-4c32-8924-af92b3f82345",
   "metadata": {},
   "outputs": [],
   "source": []
  },
  {
   "cell_type": "code",
   "execution_count": null,
   "id": "63fc588f-c802-42cd-8b60-d58ea3e478c1",
   "metadata": {},
   "outputs": [],
   "source": []
  },
  {
   "cell_type": "markdown",
   "id": "02fd059d-1487-48c8-afff-8b1153ee0af8",
   "metadata": {},
   "source": [
    "## 챕터 3\n",
    "부동소수점 : 17번째 자리를 아무리 더해도 소수점 16번째까지 출력 -> 17번째자리부터 부동소수점 \n",
    "파이썬은 소수점 16자리까지 인식한다. 17번째부터는 인식 x"
   ]
  },
  {
   "cell_type": "code",
   "execution_count": 201,
   "id": "196906c2-54ce-4321-a315-114042b00423",
   "metadata": {},
   "outputs": [
    {
     "data": {
      "text/plain": [
       "False"
      ]
     },
     "execution_count": 201,
     "metadata": {},
     "output_type": "execute_result"
    }
   ],
   "source": [
    "1/3 == (1/3 + 0.0000000000000001) #소수점 16번째 자리 더하기 "
   ]
  },
  {
   "cell_type": "code",
   "execution_count": 204,
   "id": "0669a97b-57c7-4391-8fca-270206bc36b5",
   "metadata": {},
   "outputs": [
    {
     "data": {
      "text/plain": [
       "True"
      ]
     },
     "execution_count": 204,
     "metadata": {},
     "output_type": "execute_result"
    }
   ],
   "source": [
    "1/3 == (1/3 + 0.00000000000000001) #소수점 17번째 자리 더하기"
   ]
  },
  {
   "cell_type": "code",
   "execution_count": 205,
   "id": "2efb684f-ad93-42c6-ab92-480a81a02cbe",
   "metadata": {},
   "outputs": [
    {
     "name": "stdout",
     "output_type": "stream",
     "text": [
      "C:\\some\\name\n"
     ]
    }
   ],
   "source": [
    "#특수 문자열이 주어진 기능을 하지 못하게 하는 방법은 문자열을 정의할 때 r 로 시작하면 된다.\n",
    "text_4 = r'C:\\some\\name'\n",
    "print(text_4)"
   ]
  },
  {
   "cell_type": "markdown",
   "id": "c889bb68-d500-4cc3-aa66-bdc4e7672e33",
   "metadata": {},
   "source": [
    "## 실습\n",
    "\n",
    "1. 본인의 단대, 학과, 학번, 이름(영문)을 각각 문자열로 정의하여라. 정의된 문자열을 하나로 결합하여라. 2. 위에서 정의된 본인의 이름을 모두 대문자로 바꾸어라.\n",
    "3. 위에서 결합된 문자열에서 본인의 이름을 국문으로 바꾸어라.\n",
    "4. 본인의 생년월일을 다음과 같은 형식으로 표기하는 문자열을 정의하여라. 1990/02/16\n",
    "5. 생년월일에서 년에 해당하는 정보만을 추출하여라. 6. 생년월일을 년, 월, 일 새 부분으로 나누어라."
   ]
  },
  {
   "cell_type": "markdown",
   "id": "3503e76c-b1a2-449d-903e-9b15333935f4",
   "metadata": {},
   "source": [
    "### 답 "
   ]
  },
  {
   "cell_type": "code",
   "execution_count": null,
   "id": "f4c4ba99-fdf2-495e-98be-5e6e32c976c1",
   "metadata": {},
   "outputs": [],
   "source": []
  },
  {
   "cell_type": "code",
   "execution_count": null,
   "id": "9f9484be-5005-4691-b3b0-1d45f8953100",
   "metadata": {},
   "outputs": [],
   "source": []
  },
  {
   "cell_type": "markdown",
   "id": "16ebae28-1929-4e15-a0ef-dba2ce1ffb9a",
   "metadata": {},
   "source": [
    "## 챕터3 문제"
   ]
  },
  {
   "cell_type": "markdown",
   "id": "d0e5eacb-be8b-455d-9234-168ca5a08f5d",
   "metadata": {},
   "source": [
    "다음과 같은 코드를 먼저 실행하고 물음에 답하여라\n",
    "\n",
    "A = np.array([1, 4, 2, 5, 3])\n",
    "\n",
    "1) A의 1, 3, 5 번째 원소를 추출하여라\n",
    "2) A의 마지막 원소만 제외한 나머지로 이루어진 1차원 배열을 추출하여라\n",
    "3) 5에서 1씩 감소하는 길이가 5인 1차원 배열을 만들고 B라 명명하여라\n",
    "4) A와 B를 순서대로 연결하는 1차원 배열 C를 만들어라(concatenate([x,y])이용)\n",
    "5) 위에서 만들어진 C로부터 A가 첫번째 행, B를 두번째 행이 되도록 2차원 배열(행렬) D를 정의 하여라 \n",
    "6) D의 첫 두번째 행과 첫 두번째 열로 이루어진 부분행렬을 추출하여라\n",
    "7) D의 세 번째 열로만 이루어진 배열을 추출하여라. 단, 1차원 배열이 아니라 2차원 배열의 속성을 그대로 가지도록 하여라"
   ]
  },
  {
   "cell_type": "markdown",
   "id": "cda47f0d-912f-499a-aeec-950431c06121",
   "metadata": {},
   "source": [
    "### 답 "
   ]
  },
  {
   "cell_type": "code",
   "execution_count": null,
   "id": "4824162d-8a9f-4649-ad7a-e0e750d185f7",
   "metadata": {},
   "outputs": [],
   "source": []
  },
  {
   "cell_type": "code",
   "execution_count": null,
   "id": "da219491-f52e-4511-853f-cc52d0489f3a",
   "metadata": {},
   "outputs": [],
   "source": []
  },
  {
   "cell_type": "code",
   "execution_count": null,
   "id": "0361b33f-b51f-40c2-b082-827cf7204725",
   "metadata": {},
   "outputs": [],
   "source": []
  },
  {
   "cell_type": "code",
   "execution_count": null,
   "id": "6564bde2-def0-4fbd-a5b1-1b70115d8fd5",
   "metadata": {},
   "outputs": [],
   "source": []
  },
  {
   "cell_type": "code",
   "execution_count": null,
   "id": "dbe98f26-6d46-4ea6-998d-e12095fd7be6",
   "metadata": {},
   "outputs": [],
   "source": []
  },
  {
   "cell_type": "markdown",
   "id": "7377ae40-e252-4466-8510-4e8561f5c7d7",
   "metadata": {},
   "source": [
    "## 챕터4/ 데이터프레임 "
   ]
  },
  {
   "cell_type": "code",
   "execution_count": null,
   "id": "f4196fb9-d755-4b9c-a59e-b4bb92ebef2b",
   "metadata": {},
   "outputs": [],
   "source": []
  }
 ],
 "metadata": {
  "kernelspec": {
   "display_name": "Python 3 (ipykernel)",
   "language": "python",
   "name": "python3"
  },
  "language_info": {
   "codemirror_mode": {
    "name": "ipython",
    "version": 3
   },
   "file_extension": ".py",
   "mimetype": "text/x-python",
   "name": "python",
   "nbconvert_exporter": "python",
   "pygments_lexer": "ipython3",
   "version": "3.9.12"
  }
 },
 "nbformat": 4,
 "nbformat_minor": 5
}
