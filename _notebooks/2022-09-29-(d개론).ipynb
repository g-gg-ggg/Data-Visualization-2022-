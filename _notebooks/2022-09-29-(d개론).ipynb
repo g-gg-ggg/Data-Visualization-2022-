{
 "cells": [
  {
   "cell_type": "markdown",
   "id": "4e00cd56-c002-48a9-b65f-145294e2cbb6",
   "metadata": {},
   "source": [
    "# 빅데이터 개론 복습1\n",
    "> 파이썬 표현식과 변수, pandas 데이터 프레임\n",
    "\n",
    "- toc: true\n",
    "- branch: master\n",
    "- badges: true\n",
    "- comments: true\n",
    "- author: 김혜지\n",
    "- categories: [python]"
   ]
  },
  {
   "cell_type": "markdown",
   "id": "6a45ce35-e3ac-4e63-87b0-c7cb87f71cba",
   "metadata": {
    "tags": []
   },
   "source": [
    "## 표현식과 변수"
   ]
  },
  {
   "cell_type": "code",
   "execution_count": 34,
   "id": "11ff1dee-e9a9-4a81-95ca-19720d7c20a0",
   "metadata": {},
   "outputs": [
    {
     "data": {
      "text/plain": [
       "800000"
      ]
     },
     "execution_count": 34,
     "metadata": {},
     "output_type": "execute_result"
    }
   ],
   "source": [
    "hour_rate = 10000\n",
    "month_working_days = 20\n",
    "day_working_hours = 4\n",
    "month_pay = hour_rate * month_working_days * day_working_hours\n",
    "month_pay"
   ]
  },
  {
   "cell_type": "code",
   "execution_count": 35,
   "id": "ab1b27bf-0d40-44fc-911d-2899bb79352d",
   "metadata": {},
   "outputs": [
    {
     "data": {
      "text/plain": [
       "\"you can't come\""
      ]
     },
     "execution_count": 35,
     "metadata": {},
     "output_type": "execute_result"
    }
   ],
   "source": [
    "text_2 ='you can\\'t come' #역슬래시로 구분하기\n",
    "text_2"
   ]
  },
  {
   "cell_type": "code",
   "execution_count": 36,
   "id": "33ff6902-bdbb-479d-8f68-126aa75fb77d",
   "metadata": {},
   "outputs": [
    {
     "name": "stdout",
     "output_type": "stream",
     "text": [
      "첫 번째 줄 \n",
      "두 번째 줄\n"
     ]
    }
   ],
   "source": [
    "#\\n 이 나타나면 줄을 바꾸는 기능\n",
    "print(\"첫 번째 줄 \\n두 번째 줄\")"
   ]
  },
  {
   "cell_type": "code",
   "execution_count": 38,
   "id": "734cd1b6-a9a2-4d95-9e59-90a4623c9592",
   "metadata": {},
   "outputs": [
    {
     "name": "stdout",
     "output_type": "stream",
     "text": [
      "C:\\some\n",
      "ame\n"
     ]
    }
   ],
   "source": [
    "text_4 = 'C:\\some\\name'\n",
    "print(text_4)"
   ]
  },
  {
   "cell_type": "code",
   "execution_count": 37,
   "id": "84cce7b2-2001-4418-8067-9690d969df4e",
   "metadata": {},
   "outputs": [
    {
     "name": "stdout",
     "output_type": "stream",
     "text": [
      "C:\\some\\name\n"
     ]
    }
   ],
   "source": [
    "#앞에 r을 붙이면 줄바꿈 안 됨\n",
    "text_5 = r'C:\\some\\name'\n",
    "print(text_5)"
   ]
  },
  {
   "cell_type": "markdown",
   "id": "7054dc46-5d2d-43a4-9982-79c32a24cb46",
   "metadata": {
    "jp-MarkdownHeadingCollapsed": true,
    "tags": []
   },
   "source": [
    "- 라이브러리와 함수"
   ]
  },
  {
   "cell_type": "code",
   "execution_count": 45,
   "id": "6c936450-e82d-4426-b4f0-ac900684edf8",
   "metadata": {},
   "outputs": [],
   "source": [
    "import math"
   ]
  },
  {
   "cell_type": "code",
   "execution_count": 47,
   "id": "113d557f-0615-41c3-a5c8-bae43fe0edcd",
   "metadata": {},
   "outputs": [
    {
     "data": {
      "text/plain": [
       "0.9092974268256817"
      ]
     },
     "execution_count": 47,
     "metadata": {},
     "output_type": "execute_result"
    }
   ],
   "source": [
    "math.sin(2)"
   ]
  },
  {
   "cell_type": "code",
   "execution_count": 49,
   "id": "79633b49-8939-4101-b2fa-0a2793665ac9",
   "metadata": {},
   "outputs": [
    {
     "data": {
      "text/plain": [
       "4.605170185988092"
      ]
     },
     "execution_count": 49,
     "metadata": {},
     "output_type": "execute_result"
    }
   ],
   "source": [
    "math.log(100)"
   ]
  },
  {
   "cell_type": "markdown",
   "id": "c0a7c32b-59df-4d6b-b32b-6a5f143684df",
   "metadata": {},
   "source": [
    "- 리스트"
   ]
  },
  {
   "cell_type": "code",
   "execution_count": 51,
   "id": "89b54577-6277-4dd8-96ea-8eeea2ee534b",
   "metadata": {},
   "outputs": [
    {
     "data": {
      "text/plain": [
       "[1, 2, 0.5, 'chair']"
      ]
     },
     "execution_count": 51,
     "metadata": {},
     "output_type": "execute_result"
    }
   ],
   "source": [
    "list_1 = [1, 2, 0.5, 'chair']\n",
    "list_1"
   ]
  },
  {
   "cell_type": "code",
   "execution_count": 52,
   "id": "9f21f7ab-1b63-4e3c-8ca9-94b6c0fec5e1",
   "metadata": {},
   "outputs": [
    {
     "data": {
      "text/plain": [
       "[[1, 2, 0.5, 'chair'], 'A', [1, 2, 3]]"
      ]
     },
     "execution_count": 52,
     "metadata": {},
     "output_type": "execute_result"
    }
   ],
   "source": [
    "list_2 = [ list_1, \"A\", [1,2,3] ]\n",
    "list_2"
   ]
  },
  {
   "cell_type": "markdown",
   "id": "87c7ac48-8aa3-4a2d-8ffa-c95de5efe20a",
   "metadata": {},
   "source": [
    "**파이썬의 인덱스는 1이 아닌 0 부터 시작하므로 이를 언제나 유념해야 한다**"
   ]
  },
  {
   "cell_type": "code",
   "execution_count": 53,
   "id": "0ec35a27-e39a-4609-85b9-674672e30cf2",
   "metadata": {},
   "outputs": [],
   "source": [
    "squares = [1, 4, 9, 16, 25]"
   ]
  },
  {
   "cell_type": "code",
   "execution_count": 54,
   "id": "5fce6a9e-d652-41bc-803e-01dbe4c0036a",
   "metadata": {},
   "outputs": [
    {
     "data": {
      "text/plain": [
       "1"
      ]
     },
     "execution_count": 54,
     "metadata": {},
     "output_type": "execute_result"
    }
   ],
   "source": [
    "squares[0]"
   ]
  },
  {
   "cell_type": "code",
   "execution_count": 55,
   "id": "3a0c0a91-0103-4d7f-a819-e859bc5512d1",
   "metadata": {},
   "outputs": [
    {
     "data": {
      "text/plain": [
       "25"
      ]
     },
     "execution_count": 55,
     "metadata": {},
     "output_type": "execute_result"
    }
   ],
   "source": [
    "squares[4]"
   ]
  },
  {
   "cell_type": "code",
   "execution_count": 58,
   "id": "589faa0a-3be6-41e7-888d-382408c9450d",
   "metadata": {},
   "outputs": [
    {
     "data": {
      "text/plain": [
       "[1]"
      ]
     },
     "execution_count": 58,
     "metadata": {},
     "output_type": "execute_result"
    }
   ],
   "source": [
    "squares[:1]"
   ]
  },
  {
   "cell_type": "code",
   "execution_count": 59,
   "id": "9c2fe347-6d2a-41a8-a2a9-b596f20ce9ef",
   "metadata": {},
   "outputs": [
    {
     "data": {
      "text/plain": [
       "[1, 4, 9, 16]"
      ]
     },
     "execution_count": 59,
     "metadata": {},
     "output_type": "execute_result"
    }
   ],
   "source": [
    "squares[:-1]"
   ]
  },
  {
   "cell_type": "code",
   "execution_count": 68,
   "id": "135c05f4-1d1c-4734-a93d-d7ed9abc6839",
   "metadata": {},
   "outputs": [
    {
     "data": {
      "text/plain": [
       "[25]"
      ]
     },
     "execution_count": 68,
     "metadata": {},
     "output_type": "execute_result"
    }
   ],
   "source": [
    "squares[-1:]"
   ]
  },
  {
   "cell_type": "code",
   "execution_count": 72,
   "id": "d33064c3-2735-4a3a-a3b9-40e9cb66b733",
   "metadata": {},
   "outputs": [
    {
     "data": {
      "text/plain": [
       "True"
      ]
     },
     "execution_count": 72,
     "metadata": {},
     "output_type": "execute_result"
    }
   ],
   "source": [
    "#in 연산자\n",
    "1 in [1, 2, 3, 4]"
   ]
  },
  {
   "cell_type": "code",
   "execution_count": 73,
   "id": "9631dc7d-27db-491d-8198-5bda596db929",
   "metadata": {},
   "outputs": [
    {
     "data": {
      "text/plain": [
       "True"
      ]
     },
     "execution_count": 73,
     "metadata": {},
     "output_type": "execute_result"
    }
   ],
   "source": [
    "a = 5\n",
    "a in [1, 2, 3, 4, 5]"
   ]
  },
  {
   "cell_type": "markdown",
   "id": "26e11101-4c6d-4d2e-98bb-83acbe4f0d7b",
   "metadata": {
    "tags": []
   },
   "source": [
    "## 실습"
   ]
  },
  {
   "cell_type": "markdown",
   "id": "97525361-3ad1-4bf2-97e3-6f14fea5e0de",
   "metadata": {},
   "source": [
    "1. hstudent.csv'는 20명의 고등학생 성별, 학년, 키(cm), 몸무게(kg)를 조사한 자료이다.\n",
    "\n",
    "- 체질량지수는 몸무게(kg)를 키의 제곱(m)으로 나눈 값입니다.\n",
    "    - 5번 학생의 체질량지수는?\n",
    "    - 10번 학생의 체질량지수는?\n",
    "- 학생의 키와 몸무게를 각각 height와 weight에 저장하고, height와 weight를 사용하여 체질량지수 계산\n",
    "    - 5번 과 10번 학생 각각에 대하여 계산한 후 bmi5와 bmi10에 저장\n",
    "    - bmi5와 bmi10의 크기 비교 결과 print함수를 사용하여 보여주기\n",
    "- 1번부터 5번까지의 학생 키를 원소로 가지는 리스트 변수 height1_5생성\n",
    "    - 1번부터 3번까지 학생의 키 추출\n",
    "    \n",
    "2. 나는 전북대학교 학과 이름 입니다. (예, 나는 전북대학교 통계학과 최혜미입니다)\n",
    "    - 위 문자열을 값으로 가지는 변수 name_dept를 생성\n",
    "    - 변수 name_dept에서 전북대학교 추출"
   ]
  },
  {
   "cell_type": "code",
   "execution_count": 159,
   "id": "fb9e71fa-6c80-4e20-b7cd-fc36ea7a0896",
   "metadata": {},
   "outputs": [
    {
     "data": {
      "text/html": [
       "<div>\n",
       "<style scoped>\n",
       "    .dataframe tbody tr th:only-of-type {\n",
       "        vertical-align: middle;\n",
       "    }\n",
       "\n",
       "    .dataframe tbody tr th {\n",
       "        vertical-align: top;\n",
       "    }\n",
       "\n",
       "    .dataframe thead th {\n",
       "        text-align: right;\n",
       "    }\n",
       "</style>\n",
       "<table border=\"1\" class=\"dataframe\">\n",
       "  <thead>\n",
       "    <tr style=\"text-align: right;\">\n",
       "      <th></th>\n",
       "      <th>gender</th>\n",
       "      <th>grade</th>\n",
       "      <th>height</th>\n",
       "      <th>weight</th>\n",
       "    </tr>\n",
       "  </thead>\n",
       "  <tbody>\n",
       "    <tr>\n",
       "      <th>0</th>\n",
       "      <td>1</td>\n",
       "      <td>3</td>\n",
       "      <td>183</td>\n",
       "      <td>82</td>\n",
       "    </tr>\n",
       "    <tr>\n",
       "      <th>1</th>\n",
       "      <td>2</td>\n",
       "      <td>1</td>\n",
       "      <td>168</td>\n",
       "      <td>52</td>\n",
       "    </tr>\n",
       "    <tr>\n",
       "      <th>2</th>\n",
       "      <td>2</td>\n",
       "      <td>1</td>\n",
       "      <td>160</td>\n",
       "      <td>48</td>\n",
       "    </tr>\n",
       "    <tr>\n",
       "      <th>3</th>\n",
       "      <td>2</td>\n",
       "      <td>2</td>\n",
       "      <td>160</td>\n",
       "      <td>50</td>\n",
       "    </tr>\n",
       "    <tr>\n",
       "      <th>4</th>\n",
       "      <td>1</td>\n",
       "      <td>1</td>\n",
       "      <td>160</td>\n",
       "      <td>79</td>\n",
       "    </tr>\n",
       "    <tr>\n",
       "      <th>5</th>\n",
       "      <td>1</td>\n",
       "      <td>2</td>\n",
       "      <td>180</td>\n",
       "      <td>73</td>\n",
       "    </tr>\n",
       "    <tr>\n",
       "      <th>6</th>\n",
       "      <td>2</td>\n",
       "      <td>2</td>\n",
       "      <td>183</td>\n",
       "      <td>60</td>\n",
       "    </tr>\n",
       "    <tr>\n",
       "      <th>7</th>\n",
       "      <td>1</td>\n",
       "      <td>1</td>\n",
       "      <td>170</td>\n",
       "      <td>66</td>\n",
       "    </tr>\n",
       "    <tr>\n",
       "      <th>8</th>\n",
       "      <td>1</td>\n",
       "      <td>3</td>\n",
       "      <td>170</td>\n",
       "      <td>74</td>\n",
       "    </tr>\n",
       "    <tr>\n",
       "      <th>9</th>\n",
       "      <td>1</td>\n",
       "      <td>3</td>\n",
       "      <td>185</td>\n",
       "      <td>57</td>\n",
       "    </tr>\n",
       "    <tr>\n",
       "      <th>10</th>\n",
       "      <td>1</td>\n",
       "      <td>2</td>\n",
       "      <td>165</td>\n",
       "      <td>54</td>\n",
       "    </tr>\n",
       "    <tr>\n",
       "      <th>11</th>\n",
       "      <td>2</td>\n",
       "      <td>1</td>\n",
       "      <td>170</td>\n",
       "      <td>50</td>\n",
       "    </tr>\n",
       "    <tr>\n",
       "      <th>12</th>\n",
       "      <td>2</td>\n",
       "      <td>1</td>\n",
       "      <td>152</td>\n",
       "      <td>60</td>\n",
       "    </tr>\n",
       "    <tr>\n",
       "      <th>13</th>\n",
       "      <td>2</td>\n",
       "      <td>3</td>\n",
       "      <td>173</td>\n",
       "      <td>63</td>\n",
       "    </tr>\n",
       "    <tr>\n",
       "      <th>14</th>\n",
       "      <td>1</td>\n",
       "      <td>1</td>\n",
       "      <td>145</td>\n",
       "      <td>57</td>\n",
       "    </tr>\n",
       "    <tr>\n",
       "      <th>15</th>\n",
       "      <td>1</td>\n",
       "      <td>3</td>\n",
       "      <td>163</td>\n",
       "      <td>77</td>\n",
       "    </tr>\n",
       "    <tr>\n",
       "      <th>16</th>\n",
       "      <td>2</td>\n",
       "      <td>2</td>\n",
       "      <td>178</td>\n",
       "      <td>50</td>\n",
       "    </tr>\n",
       "    <tr>\n",
       "      <th>17</th>\n",
       "      <td>2</td>\n",
       "      <td>2</td>\n",
       "      <td>163</td>\n",
       "      <td>57</td>\n",
       "    </tr>\n",
       "    <tr>\n",
       "      <th>18</th>\n",
       "      <td>2</td>\n",
       "      <td>2</td>\n",
       "      <td>168</td>\n",
       "      <td>54</td>\n",
       "    </tr>\n",
       "    <tr>\n",
       "      <th>19</th>\n",
       "      <td>2</td>\n",
       "      <td>3</td>\n",
       "      <td>170</td>\n",
       "      <td>57</td>\n",
       "    </tr>\n",
       "  </tbody>\n",
       "</table>\n",
       "</div>"
      ],
      "text/plain": [
       "    gender  grade  height  weight\n",
       "0        1      3     183      82\n",
       "1        2      1     168      52\n",
       "2        2      1     160      48\n",
       "3        2      2     160      50\n",
       "4        1      1     160      79\n",
       "5        1      2     180      73\n",
       "6        2      2     183      60\n",
       "7        1      1     170      66\n",
       "8        1      3     170      74\n",
       "9        1      3     185      57\n",
       "10       1      2     165      54\n",
       "11       2      1     170      50\n",
       "12       2      1     152      60\n",
       "13       2      3     173      63\n",
       "14       1      1     145      57\n",
       "15       1      3     163      77\n",
       "16       2      2     178      50\n",
       "17       2      2     163      57\n",
       "18       2      2     168      54\n",
       "19       2      3     170      57"
      ]
     },
     "execution_count": 159,
     "metadata": {},
     "output_type": "execute_result"
    }
   ],
   "source": [
    "df = pd.read_csv(\"hstudent.csv\")\n",
    "df"
   ]
  },
  {
   "cell_type": "code",
   "execution_count": 163,
   "id": "f81390de-42e2-4e4e-a3bb-8e39125adc16",
   "metadata": {},
   "outputs": [],
   "source": [
    "height = df['height']\n",
    "weight = df['weight']"
   ]
  },
  {
   "cell_type": "code",
   "execution_count": 169,
   "id": "bffb8722-cb25-41b6-819b-c10a51ccc0f3",
   "metadata": {},
   "outputs": [
    {
     "name": "stdout",
     "output_type": "stream",
     "text": [
      "0.0030859375 0.0016654492330168006\n"
     ]
    }
   ],
   "source": [
    "bmi5 = weight[4]/height[4]**2\n",
    "bmi10 = weight[9]/height[9]**2\n",
    "print(bmi5, bmi10)"
   ]
  },
  {
   "cell_type": "code",
   "execution_count": 180,
   "id": "1af9d263-a5bd-4e9d-83e2-eeea8fcfa3d2",
   "metadata": {},
   "outputs": [
    {
     "data": {
      "text/plain": [
       "0    183\n",
       "1    168\n",
       "2    160\n",
       "Name: height, dtype: int64"
      ]
     },
     "execution_count": 180,
     "metadata": {},
     "output_type": "execute_result"
    }
   ],
   "source": [
    "height1_5 = height[0:5]\n",
    "height1_5[0:3]"
   ]
  },
  {
   "cell_type": "code",
   "execution_count": 185,
   "id": "c5ec9a3c-9ec0-4bf7-b583-716d09941215",
   "metadata": {},
   "outputs": [
    {
     "data": {
      "text/plain": [
       "[183, 168, 160]"
      ]
     },
     "execution_count": 185,
     "metadata": {},
     "output_type": "execute_result"
    }
   ],
   "source": [
    "height1_5 = list(height[0:5])\n",
    "height1_5[0:3]"
   ]
  },
  {
   "cell_type": "code",
   "execution_count": 156,
   "id": "012160d4-6e91-4ff4-9a12-53efae64561c",
   "metadata": {},
   "outputs": [],
   "source": [
    "# height = [183, 168, 160, 160, 160, 180, 183, 170, 170, 185, 165, 170, 152, 173, 145, 163, 178, 163, 168, 170]\n",
    "# weight = [82, 52, 48, 50, 79, 73, 60, 66, 74, 57, 54, 50, 60, 63, 57, 77, 50, 57, 54, 57]"
   ]
  },
  {
   "cell_type": "code",
   "execution_count": 115,
   "id": "83ddfbf4-9274-4019-9d70-9fe187579103",
   "metadata": {},
   "outputs": [
    {
     "data": {
      "text/plain": [
       "'전북대학교'"
      ]
     },
     "execution_count": 115,
     "metadata": {},
     "output_type": "execute_result"
    }
   ],
   "source": [
    "name_debt = \"나는 전북대학교 스페인어학과 김혜지입니다.\"\n",
    "name_debt[3:8]"
   ]
  },
  {
   "cell_type": "markdown",
   "id": "70b5facb-b79a-4044-981c-82c7b8e0efc1",
   "metadata": {},
   "source": [
    "## 판다스 데이터 프레임 "
   ]
  },
  {
   "cell_type": "code",
   "execution_count": 2,
   "id": "e18fb7fc-db83-416a-8418-b8d3a97fbb67",
   "metadata": {},
   "outputs": [],
   "source": [
    "import pandas as pd"
   ]
  },
  {
   "cell_type": "code",
   "execution_count": 65,
   "id": "d37d3c58-a6a7-4c75-ac7e-46d78af94e77",
   "metadata": {},
   "outputs": [],
   "source": [
    "df = pd.DataFrame({\n",
    "'name' : ['이철수', '김영희', '홍길동', 'John Smith'], 'sex' : ['M', 'F', 'M', 'M'], 'age' : [23, 25, 21, 33]\n",
    "})"
   ]
  },
  {
   "cell_type": "code",
   "execution_count": 66,
   "id": "b0d3ab2f-d746-4db8-aa0f-acf035b78d14",
   "metadata": {},
   "outputs": [
    {
     "data": {
      "text/html": [
       "<div>\n",
       "<style scoped>\n",
       "    .dataframe tbody tr th:only-of-type {\n",
       "        vertical-align: middle;\n",
       "    }\n",
       "\n",
       "    .dataframe tbody tr th {\n",
       "        vertical-align: top;\n",
       "    }\n",
       "\n",
       "    .dataframe thead th {\n",
       "        text-align: right;\n",
       "    }\n",
       "</style>\n",
       "<table border=\"1\" class=\"dataframe\">\n",
       "  <thead>\n",
       "    <tr style=\"text-align: right;\">\n",
       "      <th></th>\n",
       "      <th>name</th>\n",
       "      <th>sex</th>\n",
       "      <th>age</th>\n",
       "    </tr>\n",
       "  </thead>\n",
       "  <tbody>\n",
       "    <tr>\n",
       "      <th>0</th>\n",
       "      <td>이철수</td>\n",
       "      <td>M</td>\n",
       "      <td>23</td>\n",
       "    </tr>\n",
       "    <tr>\n",
       "      <th>1</th>\n",
       "      <td>김영희</td>\n",
       "      <td>F</td>\n",
       "      <td>25</td>\n",
       "    </tr>\n",
       "    <tr>\n",
       "      <th>2</th>\n",
       "      <td>홍길동</td>\n",
       "      <td>M</td>\n",
       "      <td>21</td>\n",
       "    </tr>\n",
       "    <tr>\n",
       "      <th>3</th>\n",
       "      <td>John Smith</td>\n",
       "      <td>M</td>\n",
       "      <td>33</td>\n",
       "    </tr>\n",
       "  </tbody>\n",
       "</table>\n",
       "</div>"
      ],
      "text/plain": [
       "         name sex  age\n",
       "0         이철수   M   23\n",
       "1         김영희   F   25\n",
       "2         홍길동   M   21\n",
       "3  John Smith   M   33"
      ]
     },
     "execution_count": 66,
     "metadata": {},
     "output_type": "execute_result"
    }
   ],
   "source": [
    "df"
   ]
  },
  {
   "cell_type": "markdown",
   "id": "9c0ce07e-bfa8-44be-93ae-6f6e541d157c",
   "metadata": {},
   "source": [
    "- 슬라이싱"
   ]
  },
  {
   "cell_type": "code",
   "execution_count": 10,
   "id": "927edae3-1091-4136-aa7b-b7b3d9066b25",
   "metadata": {},
   "outputs": [
    {
     "data": {
      "text/html": [
       "<div>\n",
       "<style scoped>\n",
       "    .dataframe tbody tr th:only-of-type {\n",
       "        vertical-align: middle;\n",
       "    }\n",
       "\n",
       "    .dataframe tbody tr th {\n",
       "        vertical-align: top;\n",
       "    }\n",
       "\n",
       "    .dataframe thead th {\n",
       "        text-align: right;\n",
       "    }\n",
       "</style>\n",
       "<table border=\"1\" class=\"dataframe\">\n",
       "  <thead>\n",
       "    <tr style=\"text-align: right;\">\n",
       "      <th></th>\n",
       "      <th>name</th>\n",
       "      <th>age</th>\n",
       "    </tr>\n",
       "  </thead>\n",
       "  <tbody>\n",
       "    <tr>\n",
       "      <th>0</th>\n",
       "      <td>이철수</td>\n",
       "      <td>23</td>\n",
       "    </tr>\n",
       "    <tr>\n",
       "      <th>1</th>\n",
       "      <td>김영희</td>\n",
       "      <td>25</td>\n",
       "    </tr>\n",
       "    <tr>\n",
       "      <th>2</th>\n",
       "      <td>홍길동</td>\n",
       "      <td>21</td>\n",
       "    </tr>\n",
       "    <tr>\n",
       "      <th>3</th>\n",
       "      <td>John Smith</td>\n",
       "      <td>33</td>\n",
       "    </tr>\n",
       "  </tbody>\n",
       "</table>\n",
       "</div>"
      ],
      "text/plain": [
       "         name  age\n",
       "0         이철수   23\n",
       "1         김영희   25\n",
       "2         홍길동   21\n",
       "3  John Smith   33"
      ]
     },
     "execution_count": 10,
     "metadata": {},
     "output_type": "execute_result"
    }
   ],
   "source": [
    "df[['name', 'age']] #두 개 이상의 열을 슬라이싱 하기위해서는 리스트를 사용하기"
   ]
  },
  {
   "cell_type": "code",
   "execution_count": 9,
   "id": "071d25c2-21f5-4fac-893f-98beeee6b8e4",
   "metadata": {},
   "outputs": [
    {
     "data": {
      "text/plain": [
       "0    23\n",
       "1    25\n",
       "2    21\n",
       "3    33\n",
       "Name: age, dtype: int64"
      ]
     },
     "execution_count": 9,
     "metadata": {},
     "output_type": "execute_result"
    }
   ],
   "source": [
    "#데이터 프레임의 하나의 열 == 시리즈\n",
    "#데이터 프레임 열을 슬라이스 하는 경우는 마침표 사용해서 슬라이싱이 가능\n",
    "df.age"
   ]
  },
  {
   "cell_type": "code",
   "execution_count": 13,
   "id": "0bd021ae-dfc3-4b65-80b1-edd1ecccdb9d",
   "metadata": {},
   "outputs": [
    {
     "data": {
      "text/html": [
       "<div>\n",
       "<style scoped>\n",
       "    .dataframe tbody tr th:only-of-type {\n",
       "        vertical-align: middle;\n",
       "    }\n",
       "\n",
       "    .dataframe tbody tr th {\n",
       "        vertical-align: top;\n",
       "    }\n",
       "\n",
       "    .dataframe thead th {\n",
       "        text-align: right;\n",
       "    }\n",
       "</style>\n",
       "<table border=\"1\" class=\"dataframe\">\n",
       "  <thead>\n",
       "    <tr style=\"text-align: right;\">\n",
       "      <th></th>\n",
       "      <th>name</th>\n",
       "      <th>sex</th>\n",
       "      <th>age</th>\n",
       "    </tr>\n",
       "  </thead>\n",
       "  <tbody>\n",
       "    <tr>\n",
       "      <th>1</th>\n",
       "      <td>김영희</td>\n",
       "      <td>F</td>\n",
       "      <td>25</td>\n",
       "    </tr>\n",
       "    <tr>\n",
       "      <th>3</th>\n",
       "      <td>John Smith</td>\n",
       "      <td>M</td>\n",
       "      <td>33</td>\n",
       "    </tr>\n",
       "  </tbody>\n",
       "</table>\n",
       "</div>"
      ],
      "text/plain": [
       "         name sex  age\n",
       "1         김영희   F   25\n",
       "3  John Smith   M   33"
      ]
     },
     "execution_count": 13,
     "metadata": {},
     "output_type": "execute_result"
    }
   ],
   "source": [
    "df[df['age'] >= 25]\n",
    "#df['age'] >= 25는 참, 거짓으로 구성된 시리즈 -> 슬라이싱 하기 위해서는 df을 한 번 더 씌어주면 됨"
   ]
  },
  {
   "cell_type": "markdown",
   "id": "4efb2431-59aa-473f-966a-924551f218e0",
   "metadata": {},
   "source": [
    "- 데이터 프레임 메소드"
   ]
  },
  {
   "cell_type": "code",
   "execution_count": 14,
   "id": "ce70debd-af88-41e9-87c3-dbde05f8058e",
   "metadata": {},
   "outputs": [
    {
     "data": {
      "text/html": [
       "<div>\n",
       "<style scoped>\n",
       "    .dataframe tbody tr th:only-of-type {\n",
       "        vertical-align: middle;\n",
       "    }\n",
       "\n",
       "    .dataframe tbody tr th {\n",
       "        vertical-align: top;\n",
       "    }\n",
       "\n",
       "    .dataframe thead th {\n",
       "        text-align: right;\n",
       "    }\n",
       "</style>\n",
       "<table border=\"1\" class=\"dataframe\">\n",
       "  <thead>\n",
       "    <tr style=\"text-align: right;\">\n",
       "      <th></th>\n",
       "      <th>age</th>\n",
       "    </tr>\n",
       "  </thead>\n",
       "  <tbody>\n",
       "    <tr>\n",
       "      <th>count</th>\n",
       "      <td>4.000000</td>\n",
       "    </tr>\n",
       "    <tr>\n",
       "      <th>mean</th>\n",
       "      <td>25.500000</td>\n",
       "    </tr>\n",
       "    <tr>\n",
       "      <th>std</th>\n",
       "      <td>5.259911</td>\n",
       "    </tr>\n",
       "    <tr>\n",
       "      <th>min</th>\n",
       "      <td>21.000000</td>\n",
       "    </tr>\n",
       "    <tr>\n",
       "      <th>25%</th>\n",
       "      <td>22.500000</td>\n",
       "    </tr>\n",
       "    <tr>\n",
       "      <th>50%</th>\n",
       "      <td>24.000000</td>\n",
       "    </tr>\n",
       "    <tr>\n",
       "      <th>75%</th>\n",
       "      <td>27.000000</td>\n",
       "    </tr>\n",
       "    <tr>\n",
       "      <th>max</th>\n",
       "      <td>33.000000</td>\n",
       "    </tr>\n",
       "  </tbody>\n",
       "</table>\n",
       "</div>"
      ],
      "text/plain": [
       "             age\n",
       "count   4.000000\n",
       "mean   25.500000\n",
       "std     5.259911\n",
       "min    21.000000\n",
       "25%    22.500000\n",
       "50%    24.000000\n",
       "75%    27.000000\n",
       "max    33.000000"
      ]
     },
     "execution_count": 14,
     "metadata": {},
     "output_type": "execute_result"
    }
   ],
   "source": [
    "df.describe() #describe() : 숫자로 구성된 열의 기초 통계량을 구하는 표현식"
   ]
  },
  {
   "cell_type": "code",
   "execution_count": 67,
   "id": "4d042d8a-9bd0-4a68-ac0f-62210488aca2",
   "metadata": {},
   "outputs": [
    {
     "data": {
      "text/plain": [
       "name    홍길동\n",
       "sex       M\n",
       "age      33\n",
       "dtype: object"
      ]
     },
     "execution_count": 67,
     "metadata": {},
     "output_type": "execute_result"
    }
   ],
   "source": [
    "df.max() #각 열의 최대값을 구하는 작업을 수행 ?왜 맥스 값을 찍었는데 홍길동 이름이 나오지? \n",
    "#한글은 가나다순, 영어는 알파벳 순으로 max값이 뽑힌다."
   ]
  },
  {
   "cell_type": "code",
   "execution_count": 18,
   "id": "325b95d9-de02-42e8-8d65-fa7facaf246e",
   "metadata": {},
   "outputs": [
    {
     "data": {
      "text/plain": [
       "(4, 3)"
      ]
     },
     "execution_count": 18,
     "metadata": {},
     "output_type": "execute_result"
    }
   ],
   "source": [
    "df.shape"
   ]
  },
  {
   "cell_type": "code",
   "execution_count": 21,
   "id": "60a3af99-c33b-498c-b6b0-118c8f2c93c2",
   "metadata": {},
   "outputs": [
    {
     "data": {
      "text/plain": [
       "'김영희'"
      ]
     },
     "execution_count": 21,
     "metadata": {},
     "output_type": "execute_result"
    }
   ],
   "source": [
    "df.iloc[1,0]"
   ]
  },
  {
   "cell_type": "code",
   "execution_count": 33,
   "id": "2cba2583-532e-485c-b764-6afbfa5f4e2a",
   "metadata": {},
   "outputs": [
    {
     "data": {
      "text/plain": [
       "21"
      ]
     },
     "execution_count": 33,
     "metadata": {},
     "output_type": "execute_result"
    }
   ],
   "source": [
    "df.iloc[2,2]"
   ]
  },
  {
   "cell_type": "code",
   "execution_count": null,
   "id": "9cc51fec-5164-496b-ab42-9d21fef7585e",
   "metadata": {},
   "outputs": [],
   "source": []
  }
 ],
 "metadata": {
  "kernelspec": {
   "display_name": "Python 3 (ipykernel)",
   "language": "python",
   "name": "python3"
  },
  "language_info": {
   "codemirror_mode": {
    "name": "ipython",
    "version": 3
   },
   "file_extension": ".py",
   "mimetype": "text/x-python",
   "name": "python",
   "nbconvert_exporter": "python",
   "pygments_lexer": "ipython3",
   "version": "3.9.12"
  }
 },
 "nbformat": 4,
 "nbformat_minor": 5
}
