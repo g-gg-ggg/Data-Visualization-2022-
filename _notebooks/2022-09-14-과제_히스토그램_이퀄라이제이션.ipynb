{
 "cells": [
  {
   "cell_type": "markdown",
   "metadata": {
    "id": "5LJnXpca6k4u"
   },
   "source": [
    "# 데이터 시각화2\n",
    ">히스토그램 이퀄라이제이션 \n",
    "\n",
    "- toc: true\n",
    "- branch: master\n",
    "- badges: true\n",
    "- comments: true\n",
    "- author: hyeji\n",
    "- categories: [python]"
   ]
  },
  {
   "cell_type": "code",
   "execution_count": 1,
   "metadata": {
    "id": "3MovsZ_gBD1c"
   },
   "outputs": [
    {
     "name": "stdout",
     "output_type": "stream",
     "text": [
      "Collecting opencv-python\n",
      "  Downloading opencv_python-4.6.0.66-cp36-abi3-macosx_10_15_x86_64.whl (46.4 MB)\n",
      "\u001b[K     |████████████████████████████████| 46.4 MB 613 kB/s  eta 0:00:01\n",
      "\u001b[?25hRequirement already satisfied: numpy>=1.17.3 in /Users/heji/opt/anaconda3/lib/python3.9/site-packages (from opencv-python) (1.21.5)\n",
      "Installing collected packages: opencv-python\n",
      "Successfully installed opencv-python-4.6.0.66\n"
     ]
    }
   ],
   "source": [
    "!pip install opencv-python\n",
    "import cv2 \n",
    "import matplotlib.pyplot as plt \n",
    "import pandas as pd\n",
    "import numpy as np"
   ]
  },
  {
   "cell_type": "code",
   "execution_count": 2,
   "metadata": {
    "id": "J72D8k0a8DxW"
   },
   "outputs": [
    {
     "ename": "ModuleNotFoundError",
     "evalue": "No module named 'google.colab'",
     "output_type": "error",
     "traceback": [
      "\u001b[0;31m---------------------------------------------------------------------------\u001b[0m",
      "\u001b[0;31mModuleNotFoundError\u001b[0m                       Traceback (most recent call last)",
      "Input \u001b[0;32mIn [2]\u001b[0m, in \u001b[0;36m<cell line: 1>\u001b[0;34m()\u001b[0m\n\u001b[0;32m----> 1\u001b[0m \u001b[38;5;28;01mfrom\u001b[39;00m \u001b[38;5;21;01mgoogle\u001b[39;00m\u001b[38;5;21;01m.\u001b[39;00m\u001b[38;5;21;01mcolab\u001b[39;00m \u001b[38;5;28;01mimport\u001b[39;00m drive\n\u001b[1;32m      2\u001b[0m drive\u001b[38;5;241m.\u001b[39mmount(\u001b[38;5;124m'\u001b[39m\u001b[38;5;124m/content/drive\u001b[39m\u001b[38;5;124m'\u001b[39m)\n",
      "\u001b[0;31mModuleNotFoundError\u001b[0m: No module named 'google.colab'"
     ]
    }
   ],
   "source": [
    "from google.colab import drive\n",
    "drive.mount('/content/drive')"
   ]
  },
  {
   "cell_type": "code",
   "execution_count": null,
   "metadata": {
    "id": "CsO1h_yyBITI"
   },
   "outputs": [],
   "source": [
    "!wget https://raw.githubusercontent.com/guebin/2021DV/master/_notebooks/hw_img.png\n",
    "img =cv2.imread('hw_img.png')"
   ]
  },
  {
   "cell_type": "code",
   "execution_count": null,
   "metadata": {
    "id": "OCl4vwf0CDmr"
   },
   "outputs": [],
   "source": [
    "img.shape"
   ]
  },
  {
   "cell_type": "code",
   "execution_count": null,
   "metadata": {
    "id": "NndrWqhqCT4E"
   },
   "outputs": [],
   "source": [
    "plt.imshow(img)"
   ]
  },
  {
   "cell_type": "code",
   "execution_count": null,
   "metadata": {
    "id": "OWFwikHWCXdA"
   },
   "outputs": [],
   "source": [
    "img_red = img * 0 \n",
    "img_green = img * 0 \n",
    "img_blue = img * 0 "
   ]
  },
  {
   "cell_type": "code",
   "execution_count": null,
   "metadata": {
    "id": "sNcYJL2sF0KZ"
   },
   "outputs": [],
   "source": [
    "img_red[...,0] = img[...,0] #이미지 색 분리하기\n",
    "img_green[...,1] = img[...,1] \n",
    "img_blue[...,2] = img[...,2] "
   ]
  },
  {
   "cell_type": "code",
   "execution_count": null,
   "metadata": {
    "id": "SLHh98EgF3-b"
   },
   "outputs": [],
   "source": [
    "plt.imshow(img_red)"
   ]
  },
  {
   "cell_type": "code",
   "execution_count": null,
   "metadata": {
    "id": "q24OzII1HOoO"
   },
   "outputs": [],
   "source": [
    "img_red[:,:,0].shape"
   ]
  },
  {
   "cell_type": "code",
   "execution_count": null,
   "metadata": {
    "id": "8MwTSZm7F7-p"
   },
   "outputs": [],
   "source": [
    "plt.hist(img[:,:,0].reshape(-1)) #색의 히스토그램 그리기"
   ]
  },
  {
   "cell_type": "code",
   "execution_count": null,
   "metadata": {
    "id": "MrSCbeN7HRds"
   },
   "outputs": [],
   "source": [
    "_fig = plt.hist(img[:,:,0].reshape(-1),bins=255, range=[0,255]) #색의 범위는 0~255"
   ]
  },
  {
   "cell_type": "code",
   "execution_count": null,
   "metadata": {
    "id": "MAI4dP9zHXkz"
   },
   "outputs": [],
   "source": [
    "img2_red = cv2.equalizeHist(img[...,0])\n",
    "plt.hist(img2_red.reshape(-1)) #히스토그램 평탄화작업"
   ]
  },
  {
   "cell_type": "code",
   "execution_count": null,
   "metadata": {
    "id": "3llUP_noI7cN"
   },
   "outputs": [],
   "source": [
    "_fig=plt.hist(img2_red.reshape(-1),bins=255,range=(0,255)) #검은색에서 하양색까지 색을 골고루 쓰게끔"
   ]
  },
  {
   "cell_type": "code",
   "execution_count": null,
   "metadata": {
    "id": "-QooQApoJBHf"
   },
   "outputs": [],
   "source": [
    "img2 = np.stack([img2_red,img2_red,img2_red],axis=-1) #빨강 이미지 세개 쌓기"
   ]
  },
  {
   "cell_type": "code",
   "execution_count": null,
   "metadata": {
    "id": "bR24-2l0JqX1"
   },
   "outputs": [],
   "source": [
    "img2.shape"
   ]
  },
  {
   "cell_type": "code",
   "execution_count": null,
   "metadata": {
    "id": "MIcTqDvKJuh8"
   },
   "outputs": [],
   "source": [
    "plt.imshow(img2)"
   ]
  },
  {
   "cell_type": "code",
   "execution_count": null,
   "metadata": {
    "id": "rngGwZ6nJ8Bw"
   },
   "outputs": [],
   "source": [
    "plt.imshow(img) #원래 이미지, 회색 빛"
   ]
  },
  {
   "cell_type": "markdown",
   "metadata": {
    "id": "XXFF5ROzNRhi"
   },
   "source": [
    "처음부터 흑백으로 불러오기"
   ]
  },
  {
   "cell_type": "code",
   "execution_count": null,
   "metadata": {
    "id": "KBYHVbhiKxZ9"
   },
   "outputs": [],
   "source": [
    "img_black =cv2.imread('hw_img.png', 0) #흑백 버전으로 그림 불러오기 "
   ]
  },
  {
   "cell_type": "code",
   "execution_count": null,
   "metadata": {
    "id": "Ulita_5eK6jm"
   },
   "outputs": [],
   "source": [
    "img_black2 = cv2.equalizeHist(img_black)"
   ]
  },
  {
   "cell_type": "code",
   "execution_count": null,
   "metadata": {
    "id": "mKtzhX_2LByW"
   },
   "outputs": [],
   "source": [
    "plt.imshow(img_black2, cmap = 'gray')"
   ]
  },
  {
   "cell_type": "code",
   "execution_count": null,
   "metadata": {
    "id": "UEvKua_aK9s5"
   },
   "outputs": [],
   "source": [
    "plt.imshow(np.concatenate([img_black,img_black2],axis=1),cmap='gray')"
   ]
  },
  {
   "cell_type": "code",
   "execution_count": null,
   "metadata": {},
   "outputs": [],
   "source": []
  }
 ],
 "metadata": {
  "colab": {
   "collapsed_sections": [],
   "private_outputs": true,
   "provenance": []
  },
  "kernelspec": {
   "display_name": "Python 3 (ipykernel)",
   "language": "python",
   "name": "python3"
  },
  "language_info": {
   "codemirror_mode": {
    "name": "ipython",
    "version": 3
   },
   "file_extension": ".py",
   "mimetype": "text/x-python",
   "name": "python",
   "nbconvert_exporter": "python",
   "pygments_lexer": "ipython3",
   "version": "3.9.12"
  }
 },
 "nbformat": 4,
 "nbformat_minor": 4
}
