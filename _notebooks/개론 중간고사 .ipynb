{
 "cells": [
  {
   "cell_type": "code",
   "execution_count": 3,
   "id": "caf14509-f7fa-44b5-a57b-8b2170457abd",
   "metadata": {},
   "outputs": [],
   "source": [
    "import pandas as pd\n",
    "import seaborn as sns     \n",
    "import numpy as np\n",
    "from scipy.stats import norm # 정규분포 \n",
    "\n",
    "import matplotlib.pyplot as plt "
   ]
  },
  {
   "cell_type": "code",
   "execution_count": 59,
   "id": "ade829ec-2df5-4f0f-b8e9-acbfcf3c6f8a",
   "metadata": {},
   "outputs": [],
   "source": [
    "dset = pd.read_csv(\"./exam.csv\")\n",
    "rset = pd.read_csv(\"./report.csv\")"
   ]
  },
  {
   "cell_type": "code",
   "execution_count": 6,
   "id": "3e557ddf-7497-4ca9-b003-1d7eb413f3b1",
   "metadata": {},
   "outputs": [
    {
     "name": "stdout",
     "output_type": "stream",
     "text": [
      "   id sex  midterm  final\n",
      "0   1   M       79     90\n",
      "1   2   F       81     77\n",
      "2   3   F       56     56\n",
      "3   4   M       90     78\n",
      "4   5   F       77     65\n",
      "5   6   F       89     70\n",
      "6   7   M       45     60\n",
      "7   8   M       65     70\n",
      "8   9   F       59     77\n",
      "9  10   F       70     80\n"
     ]
    }
   ],
   "source": [
    "print(dset)"
   ]
  },
  {
   "cell_type": "code",
   "execution_count": 9,
   "id": "f58c69da-8b2e-4688-a1ab-2301bd7c9e2e",
   "metadata": {},
   "outputs": [
    {
     "data": {
      "text/plain": [
       "77"
      ]
     },
     "execution_count": 9,
     "metadata": {},
     "output_type": "execute_result"
    }
   ],
   "source": [
    "dset.iloc[4,2] "
   ]
  },
  {
   "cell_type": "code",
   "execution_count": 13,
   "id": "1fd37da3-c56c-4d20-9226-ecff7216ae0d",
   "metadata": {},
   "outputs": [
    {
     "name": "stdout",
     "output_type": "stream",
     "text": [
      "   id sex  midterm  final  total\n",
      "0   1   M       79     90   83.4\n",
      "1   2   F       81     77   79.4\n",
      "2   3   F       56     56   56.0\n",
      "3   4   M       90     78   85.2\n",
      "4   5   F       77     65   72.2\n",
      "5   6   F       89     70   81.4\n",
      "6   7   M       45     60   51.0\n",
      "7   8   M       65     70   67.0\n",
      "8   9   F       59     77   66.2\n",
      "9  10   F       70     80   74.0\n"
     ]
    }
   ],
   "source": [
    "dset[\"total\"] = dset[\"midterm\"]*0.6 + dset[\"final\"]*0.4\n",
    "\n",
    "print(dset)"
   ]
  },
  {
   "cell_type": "code",
   "execution_count": 17,
   "id": "26005caf-5d42-4f7c-97ee-060b74630219",
   "metadata": {},
   "outputs": [
    {
     "data": {
      "text/plain": [
       "<AxesSubplot:ylabel='sex'>"
      ]
     },
     "execution_count": 17,
     "metadata": {},
     "output_type": "execute_result"
    },
    {
     "data": {
      "image/png": "[encoded data removed]",
      "text/plain": [
       "<Figure size 432x288 with 1 Axes>"
      ]
     },
     "metadata": {},
     "output_type": "display_data"
    }
   ],
   "source": [
    "dset[\"sex\"].value_counts().plot.pie() #1-3. 성별의 분포를 나타내어라."
   ]
  },
  {
   "cell_type": "code",
   "execution_count": 19,
   "id": "36dd26fb-ec3a-4bb6-92c9-e02c0c8d6b12",
   "metadata": {},
   "outputs": [
    {
     "data": {
      "text/plain": [
       "<AxesSubplot:ylabel='Frequency'>"
      ]
     },
     "execution_count": 19,
     "metadata": {},
     "output_type": "execute_result"
    },
    {
     "data": {
      "image/png": "[encoded data removed]",
      "text/plain": [
       "<Figure size 432x288 with 1 Axes>"
      ]
     },
     "metadata": {
      "needs_background": "light"
     },
     "output_type": "display_data"
    }
   ],
   "source": [
    "dset[\"midterm\"].plot.hist()"
   ]
  },
  {
   "cell_type": "code",
   "execution_count": 38,
   "id": "bfd72234-2cd7-4aee-85c6-9bbfe52d9502",
   "metadata": {},
   "outputs": [
    {
     "data": {
      "text/plain": [
       "<AxesSubplot:xlabel='id', ylabel='midterm'>"
      ]
     },
     "execution_count": 38,
     "metadata": {},
     "output_type": "execute_result"
    },
    {
     "data": {
      "image/png": "[encoded data removed]",
      "text/plain": [
       "<Figure size 432x288 with 1 Axes>"
      ]
     },
     "metadata": {
      "needs_background": "light"
     },
     "output_type": "display_data"
    }
   ],
   "source": [
    "#1-5. 중간고사성적과 기말고사성적에 대한 산점도를 그려라.\n",
    "sns.scatterplot(data=dset, x = 'id', y='midterm') #중간고사 성적 산점도"
   ]
  },
  {
   "cell_type": "code",
   "execution_count": 43,
   "id": "988af0b1-fc1c-41b8-97d8-c134aebd9802",
   "metadata": {},
   "outputs": [
    {
     "data": {
      "text/plain": [
       "<AxesSubplot:xlabel='id', ylabel='final'>"
      ]
     },
     "execution_count": 43,
     "metadata": {},
     "output_type": "execute_result"
    },
    {
     "data": {
      "image/png": "[encoded data removed]",
      "text/plain": [
       "<Figure size 432x288 with 1 Axes>"
      ]
     },
     "metadata": {
      "needs_background": "light"
     },
     "output_type": "display_data"
    }
   ],
   "source": [
    "sns.scatterplot(data=dset, x = 'id', y='final', color = 'r') #기말고사성적에 대한 산점도"
   ]
  },
  {
   "cell_type": "code",
   "execution_count": 31,
   "id": "8d06df2b-ceef-46af-9a40-a130208d539d",
   "metadata": {},
   "outputs": [
    {
     "data": {
      "text/plain": [
       "sex\n",
       "F    70.833333\n",
       "M    74.500000\n",
       "Name: final, dtype: float64"
      ]
     },
     "execution_count": 31,
     "metadata": {},
     "output_type": "execute_result"
    }
   ],
   "source": [
    "#1-7. 성별에 따른 기말고사 성적의 평균을 계산하고 비교하여라.\n",
    "\n",
    "dset.groupby(\"sex\")[\"final\"].mean()"
   ]
  },
  {
   "cell_type": "code",
   "execution_count": 44,
   "id": "024fd44c-860d-4055-a6a6-929c952b8636",
   "metadata": {},
   "outputs": [
    {
     "name": "stdout",
     "output_type": "stream",
     "text": [
      "   id sex  midterm  final  total\n",
      "0   1   M       79     90   83.4\n",
      "1   2   F       81     77   79.4\n",
      "2   3   F       56     56   56.0\n",
      "3   4   M       90     78   85.2\n",
      "4   5   F       77     65   72.2\n",
      "5   6   F       89     70   81.4\n",
      "6   7   M       45     60   51.0\n",
      "7   8   M       65     70   67.0\n",
      "8   9   F       59     77   66.2\n",
      "9  10   F       70     80   74.0\n"
     ]
    }
   ],
   "source": [
    "print(dset)"
   ]
  },
  {
   "cell_type": "code",
   "execution_count": 53,
   "id": "ac5b6907-810b-4f9c-8349-39899be5ce84",
   "metadata": {},
   "outputs": [
    {
     "data": {
      "text/html": [
       "<div>\n",
       "<style scoped>\n",
       "    .dataframe tbody tr th:only-of-type {\n",
       "        vertical-align: middle;\n",
       "    }\n",
       "\n",
       "    .dataframe tbody tr th {\n",
       "        vertical-align: top;\n",
       "    }\n",
       "\n",
       "    .dataframe thead th {\n",
       "        text-align: right;\n",
       "    }\n",
       "</style>\n",
       "<table border=\"1\" class=\"dataframe\">\n",
       "  <thead>\n",
       "    <tr style=\"text-align: right;\">\n",
       "      <th></th>\n",
       "      <th>id</th>\n",
       "      <th>sex</th>\n",
       "      <th>midterm</th>\n",
       "      <th>final</th>\n",
       "      <th>total</th>\n",
       "    </tr>\n",
       "  </thead>\n",
       "  <tbody>\n",
       "    <tr>\n",
       "      <th>3</th>\n",
       "      <td>4</td>\n",
       "      <td>M</td>\n",
       "      <td>90</td>\n",
       "      <td>78</td>\n",
       "      <td>85.2</td>\n",
       "    </tr>\n",
       "    <tr>\n",
       "      <th>0</th>\n",
       "      <td>1</td>\n",
       "      <td>M</td>\n",
       "      <td>79</td>\n",
       "      <td>90</td>\n",
       "      <td>83.4</td>\n",
       "    </tr>\n",
       "    <tr>\n",
       "      <th>5</th>\n",
       "      <td>6</td>\n",
       "      <td>F</td>\n",
       "      <td>89</td>\n",
       "      <td>70</td>\n",
       "      <td>81.4</td>\n",
       "    </tr>\n",
       "    <tr>\n",
       "      <th>1</th>\n",
       "      <td>2</td>\n",
       "      <td>F</td>\n",
       "      <td>81</td>\n",
       "      <td>77</td>\n",
       "      <td>79.4</td>\n",
       "    </tr>\n",
       "    <tr>\n",
       "      <th>9</th>\n",
       "      <td>10</td>\n",
       "      <td>F</td>\n",
       "      <td>70</td>\n",
       "      <td>80</td>\n",
       "      <td>74.0</td>\n",
       "    </tr>\n",
       "    <tr>\n",
       "      <th>4</th>\n",
       "      <td>5</td>\n",
       "      <td>F</td>\n",
       "      <td>77</td>\n",
       "      <td>65</td>\n",
       "      <td>72.2</td>\n",
       "    </tr>\n",
       "    <tr>\n",
       "      <th>7</th>\n",
       "      <td>8</td>\n",
       "      <td>M</td>\n",
       "      <td>65</td>\n",
       "      <td>70</td>\n",
       "      <td>67.0</td>\n",
       "    </tr>\n",
       "    <tr>\n",
       "      <th>8</th>\n",
       "      <td>9</td>\n",
       "      <td>F</td>\n",
       "      <td>59</td>\n",
       "      <td>77</td>\n",
       "      <td>66.2</td>\n",
       "    </tr>\n",
       "    <tr>\n",
       "      <th>2</th>\n",
       "      <td>3</td>\n",
       "      <td>F</td>\n",
       "      <td>56</td>\n",
       "      <td>56</td>\n",
       "      <td>56.0</td>\n",
       "    </tr>\n",
       "    <tr>\n",
       "      <th>6</th>\n",
       "      <td>7</td>\n",
       "      <td>M</td>\n",
       "      <td>45</td>\n",
       "      <td>60</td>\n",
       "      <td>51.0</td>\n",
       "    </tr>\n",
       "  </tbody>\n",
       "</table>\n",
       "</div>"
      ],
      "text/plain": [
       "   id sex  midterm  final  total\n",
       "3   4   M       90     78   85.2\n",
       "0   1   M       79     90   83.4\n",
       "5   6   F       89     70   81.4\n",
       "1   2   F       81     77   79.4\n",
       "9  10   F       70     80   74.0\n",
       "4   5   F       77     65   72.2\n",
       "7   8   M       65     70   67.0\n",
       "8   9   F       59     77   66.2\n",
       "2   3   F       56     56   56.0\n",
       "6   7   M       45     60   51.0"
      ]
     },
     "execution_count": 53,
     "metadata": {},
     "output_type": "execute_result"
    }
   ],
   "source": [
    "#1-8. 총점에 따라 자료를 정렬하여 보고 전체에서 3번째로 총점이 높은 학생이 몇 번(id기준)인지 산출하여라.\n",
    "a = dset.sort_values(by = 'total', ascending=False)\n",
    "a"
   ]
  },
  {
   "cell_type": "code",
   "execution_count": 54,
   "id": "e6775c08-5688-4670-9b43-bcca6ddb7e82",
   "metadata": {},
   "outputs": [
    {
     "data": {
      "text/plain": [
       "6"
      ]
     },
     "execution_count": 54,
     "metadata": {},
     "output_type": "execute_result"
    }
   ],
   "source": [
    "a.iloc[2,0]"
   ]
  },
  {
   "cell_type": "code",
   "execution_count": 190,
   "id": "7e332861-4e77-44cc-9198-ecd458091755",
   "metadata": {},
   "outputs": [
    {
     "data": {
      "text/html": [
       "<div>\n",
       "<style scoped>\n",
       "    .dataframe tbody tr th:only-of-type {\n",
       "        vertical-align: middle;\n",
       "    }\n",
       "\n",
       "    .dataframe tbody tr th {\n",
       "        vertical-align: top;\n",
       "    }\n",
       "\n",
       "    .dataframe thead th {\n",
       "        text-align: right;\n",
       "    }\n",
       "</style>\n",
       "<table border=\"1\" class=\"dataframe\">\n",
       "  <thead>\n",
       "    <tr style=\"text-align: right;\">\n",
       "      <th></th>\n",
       "      <th>id</th>\n",
       "      <th>sex</th>\n",
       "      <th>midterm</th>\n",
       "      <th>final</th>\n",
       "      <th>hak</th>\n",
       "    </tr>\n",
       "  </thead>\n",
       "  <tbody>\n",
       "    <tr>\n",
       "      <th>0</th>\n",
       "      <td>1</td>\n",
       "      <td>M</td>\n",
       "      <td>79</td>\n",
       "      <td>90</td>\n",
       "      <td>A</td>\n",
       "    </tr>\n",
       "    <tr>\n",
       "      <th>1</th>\n",
       "      <td>2</td>\n",
       "      <td>F</td>\n",
       "      <td>81</td>\n",
       "      <td>77</td>\n",
       "      <td>A</td>\n",
       "    </tr>\n",
       "    <tr>\n",
       "      <th>2</th>\n",
       "      <td>3</td>\n",
       "      <td>F</td>\n",
       "      <td>56</td>\n",
       "      <td>56</td>\n",
       "      <td>A</td>\n",
       "    </tr>\n",
       "    <tr>\n",
       "      <th>3</th>\n",
       "      <td>4</td>\n",
       "      <td>M</td>\n",
       "      <td>90</td>\n",
       "      <td>78</td>\n",
       "      <td>B</td>\n",
       "    </tr>\n",
       "    <tr>\n",
       "      <th>4</th>\n",
       "      <td>5</td>\n",
       "      <td>F</td>\n",
       "      <td>77</td>\n",
       "      <td>65</td>\n",
       "      <td>B</td>\n",
       "    </tr>\n",
       "    <tr>\n",
       "      <th>5</th>\n",
       "      <td>6</td>\n",
       "      <td>F</td>\n",
       "      <td>89</td>\n",
       "      <td>70</td>\n",
       "      <td>B</td>\n",
       "    </tr>\n",
       "    <tr>\n",
       "      <th>6</th>\n",
       "      <td>7</td>\n",
       "      <td>M</td>\n",
       "      <td>45</td>\n",
       "      <td>60</td>\n",
       "      <td>B</td>\n",
       "    </tr>\n",
       "    <tr>\n",
       "      <th>7</th>\n",
       "      <td>8</td>\n",
       "      <td>M</td>\n",
       "      <td>65</td>\n",
       "      <td>70</td>\n",
       "      <td>B</td>\n",
       "    </tr>\n",
       "    <tr>\n",
       "      <th>8</th>\n",
       "      <td>9</td>\n",
       "      <td>F</td>\n",
       "      <td>59</td>\n",
       "      <td>77</td>\n",
       "      <td>C</td>\n",
       "    </tr>\n",
       "    <tr>\n",
       "      <th>9</th>\n",
       "      <td>10</td>\n",
       "      <td>F</td>\n",
       "      <td>70</td>\n",
       "      <td>80</td>\n",
       "      <td>C</td>\n",
       "    </tr>\n",
       "  </tbody>\n",
       "</table>\n",
       "</div>"
      ],
      "text/plain": [
       "   id sex  midterm  final hak\n",
       "0   1   M       79     90   A\n",
       "1   2   F       81     77   A\n",
       "2   3   F       56     56   A\n",
       "3   4   M       90     78   B\n",
       "4   5   F       77     65   B\n",
       "5   6   F       89     70   B\n",
       "6   7   M       45     60   B\n",
       "7   8   M       65     70   B\n",
       "8   9   F       59     77   C\n",
       "9  10   F       70     80   C"
      ]
     },
     "execution_count": 190,
     "metadata": {},
     "output_type": "execute_result"
    }
   ],
   "source": [
    "#1-9. 총점이 80점 이상이면 A학점, 60점 이상 80점 미만이면 B학점, 60점 미만이면 C학점을 부여하려고 한다. 학점을 나타내는 새로운 열(변수)를 만들어라.\n",
    "\n",
    "dset[\"hak\"] = [ \"A\", \"A\", \"A\", \"B\", \"B\",\"B\", \"B\",\"B\", \"C\", \"C\" ] \n",
    "\n",
    "# if dset[\"total\"] >= 80:\n",
    "#     print(\"A\")\n",
    "# elif dset[\"total\"] >= 60:\n",
    "#     print(\"B\")\n",
    "# else:\n",
    "#     print(\"C\") \n",
    "dset"
   ]
  },
  {
   "cell_type": "code",
   "execution_count": 58,
   "id": "8562c2bf-8ec5-4fe7-8084-6e2145216419",
   "metadata": {},
   "outputs": [
    {
     "name": "stderr",
     "output_type": "stream",
     "text": [
      "/var/folders/xh/xtwkcbrj0_l1srsb4r5pc3l00000gn/T/ipykernel_83787/4252691933.py:1: FutureWarning: Dropping of nuisance columns in DataFrame reductions (with 'numeric_only=None') is deprecated; in a future version this will raise TypeError.  Select only valid columns before calling the reduction.\n",
      "  dset[dset[\"final\"]>= 80].mean()\n"
     ]
    },
    {
     "data": {
      "text/plain": [
       "id          5.5\n",
       "midterm    74.5\n",
       "final      85.0\n",
       "total      78.7\n",
       "dtype: float64"
      ]
     },
     "execution_count": 58,
     "metadata": {},
     "output_type": "execute_result"
    }
   ],
   "source": [
    "dset[dset[\"final\"]>= 80].mean() #1-10. 기말고사 성적이 80점 이상인 학생들만 추출하고 그에 대한 평균을 구하여라."
   ]
  },
  {
   "cell_type": "code",
   "execution_count": 129,
   "id": "4277c435-5ea1-450f-a439-a6d6edc856ea",
   "metadata": {},
   "outputs": [
    {
     "data": {
      "text/html": [
       "<div>\n",
       "<style scoped>\n",
       "    .dataframe tbody tr th:only-of-type {\n",
       "        vertical-align: middle;\n",
       "    }\n",
       "\n",
       "    .dataframe tbody tr th {\n",
       "        vertical-align: top;\n",
       "    }\n",
       "\n",
       "    .dataframe thead th {\n",
       "        text-align: right;\n",
       "    }\n",
       "</style>\n",
       "<table border=\"1\" class=\"dataframe\">\n",
       "  <thead>\n",
       "    <tr style=\"text-align: right;\">\n",
       "      <th></th>\n",
       "      <th>midterm</th>\n",
       "      <th>final</th>\n",
       "      <th>report</th>\n",
       "    </tr>\n",
       "  </thead>\n",
       "  <tbody>\n",
       "    <tr>\n",
       "      <th>1</th>\n",
       "      <td>79</td>\n",
       "      <td>90</td>\n",
       "      <td>70</td>\n",
       "    </tr>\n",
       "    <tr>\n",
       "      <th>2</th>\n",
       "      <td>81</td>\n",
       "      <td>77</td>\n",
       "      <td>78</td>\n",
       "    </tr>\n",
       "    <tr>\n",
       "      <th>3</th>\n",
       "      <td>56</td>\n",
       "      <td>56</td>\n",
       "      <td>76</td>\n",
       "    </tr>\n",
       "    <tr>\n",
       "      <th>4</th>\n",
       "      <td>90</td>\n",
       "      <td>78</td>\n",
       "      <td>89</td>\n",
       "    </tr>\n",
       "    <tr>\n",
       "      <th>6</th>\n",
       "      <td>89</td>\n",
       "      <td>70</td>\n",
       "      <td>91</td>\n",
       "    </tr>\n",
       "    <tr>\n",
       "      <th>7</th>\n",
       "      <td>45</td>\n",
       "      <td>60</td>\n",
       "      <td>58</td>\n",
       "    </tr>\n",
       "    <tr>\n",
       "      <th>8</th>\n",
       "      <td>65</td>\n",
       "      <td>70</td>\n",
       "      <td>86</td>\n",
       "    </tr>\n",
       "    <tr>\n",
       "      <th>9</th>\n",
       "      <td>59</td>\n",
       "      <td>77</td>\n",
       "      <td>55</td>\n",
       "    </tr>\n",
       "  </tbody>\n",
       "</table>\n",
       "</div>"
      ],
      "text/plain": [
       "   midterm  final  report\n",
       "1       79     90      70\n",
       "2       81     77      78\n",
       "3       56     56      76\n",
       "4       90     78      89\n",
       "6       89     70      91\n",
       "7       45     60      58\n",
       "8       65     70      86\n",
       "9       59     77      55"
      ]
     },
     "execution_count": 129,
     "metadata": {},
     "output_type": "execute_result"
    }
   ],
   "source": [
    "\n",
    "#1-11. report.csv에는 위 exam.csv에 나타난 동일 학생들에 대한 번호(n)와 과제점수(report)가 포함되어 있다. 중간고사성적, 기말고사성적, 과제점수가 모두 포함된 데이터셋을 하나 만들어라. 단, 과제를 제출하지 않은 학생은 제외하여라.\n",
    "\n",
    "ddd = pd.DataFrame( { \n",
    "    \"midterm\" : [79, 81, 56, 90, 89, 45, 65, 59], \n",
    "    \"final\" : [90, 77, 56, 78, 70, 60, 70, 77],\n",
    "    \"report\" : [70, 78, 76, 89, 91, 58, 86, 55]\n",
    "}, index = [1, 2, 3, 4, 6, 7, 8, 9])\n",
    "ddd"
   ]
  },
  {
   "cell_type": "code",
   "execution_count": 109,
   "id": "21549c0c-4653-4bdf-b1bd-ba244f59eee0",
   "metadata": {},
   "outputs": [
    {
     "data": {
      "text/plain": [
       "0    79\n",
       "3    90\n",
       "6    45\n",
       "7    65\n",
       "Name: midterm, dtype: int64"
      ]
     },
     "execution_count": 109,
     "metadata": {},
     "output_type": "execute_result"
    }
   ],
   "source": [
    "#1-12. 남학생들의 중간고사 성적만을 포함하고 있는 데이터프레임을 추출하여 정의하여라.\n",
    "\n",
    "d = dset[ dset['sex'] == 'M' ][\"midterm\"]\n",
    "d"
   ]
  },
  {
   "cell_type": "markdown",
   "id": "d9f80cda-b9ae-4df0-b93a-b46e1bdbacaf",
   "metadata": {},
   "source": [
    "# 2"
   ]
  },
  {
   "cell_type": "code",
   "execution_count": 121,
   "id": "f02f1c29-b240-4633-98c9-5467b4af7166",
   "metadata": {},
   "outputs": [
    {
     "data": {
      "text/html": [
       "<div>\n",
       "<style scoped>\n",
       "    .dataframe tbody tr th:only-of-type {\n",
       "        vertical-align: middle;\n",
       "    }\n",
       "\n",
       "    .dataframe tbody tr th {\n",
       "        vertical-align: top;\n",
       "    }\n",
       "\n",
       "    .dataframe thead th {\n",
       "        text-align: right;\n",
       "    }\n",
       "</style>\n",
       "<table border=\"1\" class=\"dataframe\">\n",
       "  <thead>\n",
       "    <tr style=\"text-align: right;\">\n",
       "      <th></th>\n",
       "      <th>Unnamed: 0</th>\n",
       "      <th>id</th>\n",
       "      <th>age</th>\n",
       "      <th>age_class</th>\n",
       "      <th>sex</th>\n",
       "      <th>place_infect</th>\n",
       "      <th>reporting_ctry</th>\n",
       "      <th>loc_hosp</th>\n",
       "      <th>dt_onset</th>\n",
       "      <th>dt_report</th>\n",
       "      <th>week_report</th>\n",
       "      <th>dt_start_exp</th>\n",
       "      <th>dt_end_exp</th>\n",
       "      <th>dt_diag</th>\n",
       "      <th>outcome</th>\n",
       "      <th>dt_death</th>\n",
       "    </tr>\n",
       "  </thead>\n",
       "  <tbody>\n",
       "    <tr>\n",
       "      <th>0</th>\n",
       "      <td>1</td>\n",
       "      <td>SK_1</td>\n",
       "      <td>68</td>\n",
       "      <td>60-69</td>\n",
       "      <td>M</td>\n",
       "      <td>Middle East</td>\n",
       "      <td>South Korea</td>\n",
       "      <td>Pyeongtaek St. Mary, Hospital, Pyeongtaek, Gye...</td>\n",
       "      <td>2015-05-11</td>\n",
       "      <td>2015-05-19</td>\n",
       "      <td>2015_21</td>\n",
       "      <td>2015-04-18</td>\n",
       "      <td>2015-05-04</td>\n",
       "      <td>2015-05-20</td>\n",
       "      <td>Alive</td>\n",
       "      <td>NaN</td>\n",
       "    </tr>\n",
       "    <tr>\n",
       "      <th>1</th>\n",
       "      <td>2</td>\n",
       "      <td>SK_2</td>\n",
       "      <td>63</td>\n",
       "      <td>60-69</td>\n",
       "      <td>F</td>\n",
       "      <td>Outside Middle East</td>\n",
       "      <td>South Korea</td>\n",
       "      <td>Pyeongtaek St. Mary, Hospital, Pyeongtaek, Gye...</td>\n",
       "      <td>2015-05-18</td>\n",
       "      <td>2015-05-20</td>\n",
       "      <td>2015_21</td>\n",
       "      <td>2015-05-15</td>\n",
       "      <td>2015-05-20</td>\n",
       "      <td>2015-05-20</td>\n",
       "      <td>Alive</td>\n",
       "      <td>NaN</td>\n",
       "    </tr>\n",
       "    <tr>\n",
       "      <th>2</th>\n",
       "      <td>3</td>\n",
       "      <td>SK_3</td>\n",
       "      <td>76</td>\n",
       "      <td>70-79</td>\n",
       "      <td>M</td>\n",
       "      <td>Outside Middle East</td>\n",
       "      <td>South Korea</td>\n",
       "      <td>Pyeongtaek St. Mary, Hospital, Pyeongtaek, Gye...</td>\n",
       "      <td>2015-05-20</td>\n",
       "      <td>2015-05-20</td>\n",
       "      <td>2015_21</td>\n",
       "      <td>2015-05-16</td>\n",
       "      <td>2015-05-16</td>\n",
       "      <td>2015-05-21</td>\n",
       "      <td>Dead</td>\n",
       "      <td>2015-06-04</td>\n",
       "    </tr>\n",
       "    <tr>\n",
       "      <th>3</th>\n",
       "      <td>4</td>\n",
       "      <td>SK_4</td>\n",
       "      <td>46</td>\n",
       "      <td>40-49</td>\n",
       "      <td>F</td>\n",
       "      <td>Outside Middle East</td>\n",
       "      <td>South Korea</td>\n",
       "      <td>Pyeongtaek St. Mary, Hospital, Pyeongtaek, Gye...</td>\n",
       "      <td>2015-05-25</td>\n",
       "      <td>2015-05-26</td>\n",
       "      <td>2015_22</td>\n",
       "      <td>2015-05-16</td>\n",
       "      <td>2015-05-20</td>\n",
       "      <td>2015-05-26</td>\n",
       "      <td>Alive</td>\n",
       "      <td>NaN</td>\n",
       "    </tr>\n",
       "    <tr>\n",
       "      <th>4</th>\n",
       "      <td>5</td>\n",
       "      <td>SK_5</td>\n",
       "      <td>50</td>\n",
       "      <td>50-59</td>\n",
       "      <td>M</td>\n",
       "      <td>Outside Middle East</td>\n",
       "      <td>South Korea</td>\n",
       "      <td>365 Yeollin Clinic, Seoul</td>\n",
       "      <td>2015-05-25</td>\n",
       "      <td>2015-05-27</td>\n",
       "      <td>2015_22</td>\n",
       "      <td>2015-05-17</td>\n",
       "      <td>2015-05-17</td>\n",
       "      <td>2015-05-26</td>\n",
       "      <td>Alive</td>\n",
       "      <td>NaN</td>\n",
       "    </tr>\n",
       "  </tbody>\n",
       "</table>\n",
       "</div>"
      ],
      "text/plain": [
       "   Unnamed: 0    id  age age_class sex         place_infect reporting_ctry  \\\n",
       "0           1  SK_1   68     60-69   M          Middle East    South Korea   \n",
       "1           2  SK_2   63     60-69   F  Outside Middle East    South Korea   \n",
       "2           3  SK_3   76     70-79   M  Outside Middle East    South Korea   \n",
       "3           4  SK_4   46     40-49   F  Outside Middle East    South Korea   \n",
       "4           5  SK_5   50     50-59   M  Outside Middle East    South Korea   \n",
       "\n",
       "                                            loc_hosp    dt_onset   dt_report  \\\n",
       "0  Pyeongtaek St. Mary, Hospital, Pyeongtaek, Gye...  2015-05-11  2015-05-19   \n",
       "1  Pyeongtaek St. Mary, Hospital, Pyeongtaek, Gye...  2015-05-18  2015-05-20   \n",
       "2  Pyeongtaek St. Mary, Hospital, Pyeongtaek, Gye...  2015-05-20  2015-05-20   \n",
       "3  Pyeongtaek St. Mary, Hospital, Pyeongtaek, Gye...  2015-05-25  2015-05-26   \n",
       "4                          365 Yeollin Clinic, Seoul  2015-05-25  2015-05-27   \n",
       "\n",
       "  week_report dt_start_exp  dt_end_exp     dt_diag outcome    dt_death  \n",
       "0     2015_21   2015-04-18  2015-05-04  2015-05-20   Alive         NaN  \n",
       "1     2015_21   2015-05-15  2015-05-20  2015-05-20   Alive         NaN  \n",
       "2     2015_21   2015-05-16  2015-05-16  2015-05-21    Dead  2015-06-04  \n",
       "3     2015_22   2015-05-16  2015-05-20  2015-05-26   Alive         NaN  \n",
       "4     2015_22   2015-05-17  2015-05-17  2015-05-26   Alive         NaN  "
      ]
     },
     "execution_count": 121,
     "metadata": {},
     "output_type": "execute_result"
    }
   ],
   "source": [
    "df = pd.read_csv(\"mers_korea_2015.csv\")\n",
    "df.head()"
   ]
  },
  {
   "cell_type": "code",
   "execution_count": 123,
   "id": "2e54ce7a-c546-44d9-8b96-1436f23a5fc7",
   "metadata": {},
   "outputs": [
    {
     "data": {
      "text/plain": [
       "<pandas.core.groupby.generic.DataFrameGroupBy object at 0x7f819241eb20>"
      ]
     },
     "execution_count": 123,
     "metadata": {},
     "output_type": "execute_result"
    }
   ],
   "source": [
    " # 2-1\n",
    "df.groupby( by=[\"dt_report\"] )"
   ]
  },
  {
   "cell_type": "code",
   "execution_count": 126,
   "id": "366b9366-f942-4a34-ad1c-66532941c5f9",
   "metadata": {},
   "outputs": [
    {
     "data": {
      "text/plain": [
       "<pandas.core.groupby.generic.DataFrameGroupBy object at 0x7f81906c57f0>"
      ]
     },
     "execution_count": 126,
     "metadata": {},
     "output_type": "execute_result"
    }
   ],
   "source": [
    "# 2-2\n",
    "df.groupby( by=[\"age_class\"] )"
   ]
  },
  {
   "cell_type": "code",
   "execution_count": 195,
   "id": "49ec41f5-8044-4b14-8808-c604b14ab9db",
   "metadata": {},
   "outputs": [
    {
     "data": {
      "text/html": [
       "<div>\n",
       "<style scoped>\n",
       "    .dataframe tbody tr th:only-of-type {\n",
       "        vertical-align: middle;\n",
       "    }\n",
       "\n",
       "    .dataframe tbody tr th {\n",
       "        vertical-align: top;\n",
       "    }\n",
       "\n",
       "    .dataframe thead th {\n",
       "        text-align: right;\n",
       "    }\n",
       "</style>\n",
       "<table border=\"1\" class=\"dataframe\">\n",
       "  <thead>\n",
       "    <tr style=\"text-align: right;\">\n",
       "      <th></th>\n",
       "      <th>count</th>\n",
       "      <th>unique</th>\n",
       "      <th>top</th>\n",
       "      <th>freq</th>\n",
       "    </tr>\n",
       "    <tr>\n",
       "      <th>outcome</th>\n",
       "      <th></th>\n",
       "      <th></th>\n",
       "      <th></th>\n",
       "      <th></th>\n",
       "    </tr>\n",
       "  </thead>\n",
       "  <tbody>\n",
       "    <tr>\n",
       "      <th>Alive</th>\n",
       "      <td>143</td>\n",
       "      <td>8</td>\n",
       "      <td>50-59</td>\n",
       "      <td>31</td>\n",
       "    </tr>\n",
       "    <tr>\n",
       "      <th>Dead</th>\n",
       "      <td>19</td>\n",
       "      <td>5</td>\n",
       "      <td>70-79</td>\n",
       "      <td>7</td>\n",
       "    </tr>\n",
       "  </tbody>\n",
       "</table>\n",
       "</div>"
      ],
      "text/plain": [
       "        count unique    top freq\n",
       "outcome                         \n",
       "Alive     143      8  50-59   31\n",
       "Dead       19      5  70-79    7"
      ]
     },
     "execution_count": 195,
     "metadata": {},
     "output_type": "execute_result"
    }
   ],
   "source": [
    "#2-3. 사망/생존 여부에 따른 연령의 분포를 나타내고 및 요약통계량을 산출하여라. 두 그룹을 비교하여 해석하여 보아라.\n",
    "df.groupby( by=[\"outcome\"] ).age_class.describe()"
   ]
  },
  {
   "cell_type": "markdown",
   "id": "24b7d347-da4f-4693-8344-6a6c4ba2caf1",
   "metadata": {},
   "source": [
    "# 3"
   ]
  },
  {
   "cell_type": "code",
   "execution_count": 136,
   "id": "7d454ae1-764d-4323-939d-4d61f2ecd218",
   "metadata": {},
   "outputs": [
    {
     "data": {
      "text/plain": [
       "array([[  2,   4,   6,   8,  10],\n",
       "       [ 12,  14,  16,  18,  20],\n",
       "       [ 22,  24,  26,  28,  30],\n",
       "       [ 32,  34,  36,  38,  40],\n",
       "       [ 42,  44,  46,  48,  50],\n",
       "       [ 52,  54,  56,  58,  60],\n",
       "       [ 62,  64,  66,  68,  70],\n",
       "       [ 72,  74,  76,  78,  80],\n",
       "       [ 82,  84,  86,  88,  90],\n",
       "       [ 92,  94,  96,  98, 100]])"
      ]
     },
     "execution_count": 136,
     "metadata": {},
     "output_type": "execute_result"
    }
   ],
   "source": [
    "A = np.arange(2, 101, 2).reshape(10,5)\n",
    "A"
   ]
  },
  {
   "cell_type": "code",
   "execution_count": 138,
   "id": "b854da15-cff5-4e05-ae84-67f7fec0017c",
   "metadata": {},
   "outputs": [
    {
     "data": {
      "text/plain": [
       "array([[ 2,  4,  6,  8, 10],\n",
       "       [12, 14, 16, 18, 20]])"
      ]
     },
     "execution_count": 138,
     "metadata": {},
     "output_type": "execute_result"
    }
   ],
   "source": [
    "A[:2,]"
   ]
  },
  {
   "cell_type": "markdown",
   "id": "e8a9baba-d765-4c22-9782-f8d8db6ca15e",
   "metadata": {},
   "source": [
    "## 4"
   ]
  },
  {
   "cell_type": "code",
   "execution_count": 142,
   "id": "ec2d3ad1-7ca9-48d0-8ca1-22955dee46f3",
   "metadata": {},
   "outputs": [
    {
     "data": {
      "text/plain": [
       "199"
      ]
     },
     "execution_count": 142,
     "metadata": {},
     "output_type": "execute_result"
    }
   ],
   "source": [
    "x = 0\n",
    "for i in np.arange(1,101) : \n",
    "    x =+ 2*i-1\n",
    "x"
   ]
  },
  {
   "cell_type": "code",
   "execution_count": 148,
   "id": "235ed5a1-42a6-4789-ba88-0a242932fac1",
   "metadata": {},
   "outputs": [
    {
     "data": {
      "text/plain": [
       "605"
      ]
     },
     "execution_count": 148,
     "metadata": {},
     "output_type": "execute_result"
    }
   ],
   "source": [
    "y = 0\n",
    "\n",
    "for i in np.arange(0,11) : \n",
    "    for j in np.arange(1, i+1) :\n",
    "        y += i+j\n",
    "        \n",
    "y"
   ]
  },
  {
   "cell_type": "markdown",
   "id": "0b32b96b-529b-4e00-8fa2-719e85a86ebb",
   "metadata": {},
   "source": [
    "## 5"
   ]
  },
  {
   "cell_type": "code",
   "execution_count": 160,
   "id": "2e3e91a0-3682-46ea-a21b-d597d1acefb1",
   "metadata": {},
   "outputs": [
    {
     "name": "stdout",
     "output_type": "stream",
     "text": [
      "40.0\n"
     ]
    }
   ],
   "source": [
    "# 5-1. 동전을 던지는 실험을 20회 반복하여라. 앞면이 나온 비율을 구하여라.\n",
    "\n",
    "N = 20\n",
    "count_head = 0\n",
    "\n",
    "for i in np.arange(N) :\n",
    "\n",
    "  x = np.random.rand(1)\n",
    "\n",
    "  if x < 0.5 :\n",
    "    count_head = count_head + 1\n",
    "\n",
    "print(count_head/20*100)\n",
    "\n",
    "\n"
   ]
  },
  {
   "cell_type": "code",
   "execution_count": 164,
   "id": "eba249f4-4737-4b93-958a-bb3b5e85558b",
   "metadata": {},
   "outputs": [
    {
     "data": {
      "text/plain": [
       "113"
      ]
     },
     "execution_count": 164,
     "metadata": {},
     "output_type": "execute_result"
    }
   ],
   "source": [
    "#5-2. 실험횟수를 200회로 늘려서 하되 \n",
    "N = 200\n",
    "count_head = 0\n",
    "\n",
    "for i in np.arange(N) :\n",
    "\n",
    "  x = np.random.rand(1)\n",
    "\n",
    "  if x < 0.5 :\n",
    "    count_head = count_head + 1\n",
    "\n",
    "count_head\n",
    "\n",
    "#실험차수( 1,2,3,… )에 따른 앞면이 나온 비율의 변화를 그림으로 나타내어라.\n"
   ]
  },
  {
   "cell_type": "markdown",
   "id": "cd2664d6-6c2e-4845-957b-2650ffdab62e",
   "metadata": {},
   "source": [
    "# 6"
   ]
  },
  {
   "cell_type": "code",
   "execution_count": 165,
   "id": "0de47560-5a79-4302-9e18-ce10fb28ce84",
   "metadata": {},
   "outputs": [],
   "source": [
    "A = 1000000\n",
    "B = 1000000\n",
    "P = 1/8 #1/16 + 1/16  \n",
    "\n",
    "for i in np.arange(10) :\n",
    "    x = np.random.rand(1)\n",
    "    \n",
    "    if x < 1/8 :\n",
    "        A += 10000\n",
    "        B -= 10000\n",
    "    else :\n",
    "        A -= 20000\n",
    "        B += 20000\n"
   ]
  },
  {
   "cell_type": "code",
   "execution_count": 167,
   "id": "cc66b693-e2f6-4705-a192-e991d74b5ac5",
   "metadata": {},
   "outputs": [
    {
     "name": "stdout",
     "output_type": "stream",
     "text": [
      "[270000, 1730000]\n"
     ]
    }
   ],
   "source": [
    "#6-1. 위와 같은 게임을 50번 반복하였을 때, A와 B의 남은 돈은 얼마가 되는지 표시하여라.\n",
    "A = 1000000\n",
    "B = 1000000\n",
    "P = 1/8 #1/16 + 1/16  \n",
    "\n",
    "for i in np.arange(50) :\n",
    "    x = np.random.rand(1)\n",
    "    \n",
    "    if x < 1/8 :\n",
    "        A += 10000\n",
    "        B -= 10000\n",
    "    else :\n",
    "        A -= 20000\n",
    "        B += 20000\n",
    "\n",
    "print([A,B])"
   ]
  },
  {
   "cell_type": "code",
   "execution_count": 185,
   "id": "1fd45da5-44f6-4238-9ae3-78c7fb7e402d",
   "metadata": {},
   "outputs": [
    {
     "data": {
      "text/plain": [
       "(array([0., 0., 0., 0., 0., 1., 0., 0., 0., 0.]),\n",
       " array([19.5, 19.6, 19.7, 19.8, 19.9, 20. , 20.1, 20.2, 20.3, 20.4, 20.5]),\n",
       " <BarContainer object of 10 artists>)"
      ]
     },
     "execution_count": 185,
     "metadata": {},
     "output_type": "execute_result"
    },
    {
     "data": {
      "image/png": "[encoded data removed]",
      "text/plain": [
       "<Figure size 432x288 with 1 Axes>"
      ]
     },
     "metadata": {
      "needs_background": "light"
     },
     "output_type": "display_data"
    }
   ],
   "source": [
    "#6-2. 6-1과 같은 절차를 20번 반복하였을 때, A와 B의 남은 돈의 분포를 나타내어 보아라.\n",
    "A = 1000000\n",
    "B = 1000000\n",
    "P = 1/8 #1/16 + 1/16  \n",
    "N = 20\n",
    "\n",
    "for i in np.arange(20) :\n",
    "    x = np.random.rand(1)\n",
    "    \n",
    "    if x < 1/8 :\n",
    "        A += 10000\n",
    "        B -= 10000\n",
    "    else :\n",
    "        A -= 20000\n",
    "        B += 20000\n",
    "\n",
    "plt.hist(x = N, y = A)"
   ]
  },
  {
   "cell_type": "code",
   "execution_count": null,
   "id": "f83349c2-f970-4690-8266-ef959d51453d",
   "metadata": {},
   "outputs": [],
   "source": []
  }
 ],
 "metadata": {
  "kernelspec": {
   "display_name": "Python 3 (ipykernel)",
   "language": "python",
   "name": "python3"
  },
  "language_info": {
   "codemirror_mode": {
    "name": "ipython",
    "version": 3
   },
   "file_extension": ".py",
   "mimetype": "text/x-python",
   "name": "python",
   "nbconvert_exporter": "python",
   "pygments_lexer": "ipython3",
   "version": "3.9.12"
  }
 },
 "nbformat": 4,
 "nbformat_minor": 5
}
